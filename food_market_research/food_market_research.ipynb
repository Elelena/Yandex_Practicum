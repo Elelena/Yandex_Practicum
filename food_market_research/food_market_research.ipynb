{
 "cells": [
  {
   "cell_type": "markdown",
   "metadata": {},
   "source": [
    "# Исследование рынка заведений общественного питания Москвы"
   ]
  },
  {
   "cell_type": "markdown",
   "metadata": {},
   "source": [
    "**Цель исследования**: Поиск инвесторов для открытия оригинального кафе в Москве. "
   ]
  },
  {
   "cell_type": "markdown",
   "metadata": {},
   "source": [
    "Для достижения цели нам необходимо произвести анализ на основе данных о заведениях общественного питания Москвы, который убедит инвестров в успешности открытия такого кафе.   "
   ]
  },
  {
   "cell_type": "markdown",
   "metadata": {},
   "source": [
    "**Содержание исследования**:\n",
    "\n",
    "<a href='#1'> 1. Загрузка данных и поготовка их к анализу</a>\n",
    "\n",
    "<a href='#2'> 2. Анализ данных</a> \n",
    "\n",
    "<a href='#3'> 3. Общий вывод</a>\n",
    "\n",
    "<a href='#4'> 4. Презентация для инвесторов</a>"
   ]
  },
  {
   "cell_type": "markdown",
   "metadata": {},
   "source": [
    "<a id='1'></a>\n",
    "## Загрузка данных и поготовка их к анализу"
   ]
  },
  {
   "cell_type": "code",
   "execution_count": 12,
   "metadata": {},
   "outputs": [],
   "source": [
    "import pandas as pd \n",
    "import matplotlib.pyplot as plt \n",
    "import seaborn as sns\n",
    "import plotly.express as px "
   ]
  },
  {
   "cell_type": "code",
   "execution_count": 13,
   "metadata": {},
   "outputs": [],
   "source": [
    "#открытие данных\n",
    "rest = pd.read_csv('C:/Users/User//datasets/rest_data.csv')"
   ]
  },
  {
   "cell_type": "code",
   "execution_count": 14,
   "metadata": {},
   "outputs": [
    {
     "data": {
      "text/html": [
       "<div>\n",
       "<style scoped>\n",
       "    .dataframe tbody tr th:only-of-type {\n",
       "        vertical-align: middle;\n",
       "    }\n",
       "\n",
       "    .dataframe tbody tr th {\n",
       "        vertical-align: top;\n",
       "    }\n",
       "\n",
       "    .dataframe thead th {\n",
       "        text-align: right;\n",
       "    }\n",
       "</style>\n",
       "<table border=\"1\" class=\"dataframe\">\n",
       "  <thead>\n",
       "    <tr style=\"text-align: right;\">\n",
       "      <th></th>\n",
       "      <th>id</th>\n",
       "      <th>object_name</th>\n",
       "      <th>chain</th>\n",
       "      <th>object_type</th>\n",
       "      <th>address</th>\n",
       "      <th>number</th>\n",
       "    </tr>\n",
       "  </thead>\n",
       "  <tbody>\n",
       "    <tr>\n",
       "      <td>0</td>\n",
       "      <td>151635</td>\n",
       "      <td>СМЕТАНА</td>\n",
       "      <td>нет</td>\n",
       "      <td>кафе</td>\n",
       "      <td>город Москва, улица Егора Абакумова, дом 9</td>\n",
       "      <td>48</td>\n",
       "    </tr>\n",
       "    <tr>\n",
       "      <td>1</td>\n",
       "      <td>77874</td>\n",
       "      <td>Родник</td>\n",
       "      <td>нет</td>\n",
       "      <td>кафе</td>\n",
       "      <td>город Москва, улица Талалихина, дом 2/1, корпус 1</td>\n",
       "      <td>35</td>\n",
       "    </tr>\n",
       "    <tr>\n",
       "      <td>2</td>\n",
       "      <td>24309</td>\n",
       "      <td>Кафе «Академия»</td>\n",
       "      <td>нет</td>\n",
       "      <td>кафе</td>\n",
       "      <td>город Москва, Абельмановская улица, дом 6</td>\n",
       "      <td>95</td>\n",
       "    </tr>\n",
       "    <tr>\n",
       "      <td>3</td>\n",
       "      <td>21894</td>\n",
       "      <td>ПИЦЦЕТОРИЯ</td>\n",
       "      <td>да</td>\n",
       "      <td>кафе</td>\n",
       "      <td>город Москва, Абрамцевская улица, дом 1</td>\n",
       "      <td>40</td>\n",
       "    </tr>\n",
       "    <tr>\n",
       "      <td>4</td>\n",
       "      <td>119365</td>\n",
       "      <td>Кафе «Вишневая метель»</td>\n",
       "      <td>нет</td>\n",
       "      <td>кафе</td>\n",
       "      <td>город Москва, Абрамцевская улица, дом 9, корпус 1</td>\n",
       "      <td>50</td>\n",
       "    </tr>\n",
       "  </tbody>\n",
       "</table>\n",
       "</div>"
      ],
      "text/plain": [
       "       id             object_name chain object_type  \\\n",
       "0  151635                 СМЕТАНА   нет        кафе   \n",
       "1   77874                  Родник   нет        кафе   \n",
       "2   24309         Кафе «Академия»   нет        кафе   \n",
       "3   21894              ПИЦЦЕТОРИЯ    да        кафе   \n",
       "4  119365  Кафе «Вишневая метель»   нет        кафе   \n",
       "\n",
       "                                             address  number  \n",
       "0         город Москва, улица Егора Абакумова, дом 9      48  \n",
       "1  город Москва, улица Талалихина, дом 2/1, корпус 1      35  \n",
       "2          город Москва, Абельмановская улица, дом 6      95  \n",
       "3            город Москва, Абрамцевская улица, дом 1      40  \n",
       "4  город Москва, Абрамцевская улица, дом 9, корпус 1      50  "
      ]
     },
     "execution_count": 14,
     "metadata": {},
     "output_type": "execute_result"
    }
   ],
   "source": [
    "#просмотр данных\n",
    "rest.head()"
   ]
  },
  {
   "cell_type": "code",
   "execution_count": 15,
   "metadata": {},
   "outputs": [
    {
     "name": "stdout",
     "output_type": "stream",
     "text": [
      "<class 'pandas.core.frame.DataFrame'>\n",
      "RangeIndex: 15366 entries, 0 to 15365\n",
      "Data columns (total 6 columns):\n",
      "id             15366 non-null int64\n",
      "object_name    15366 non-null object\n",
      "chain          15366 non-null object\n",
      "object_type    15366 non-null object\n",
      "address        15366 non-null object\n",
      "number         15366 non-null int64\n",
      "dtypes: int64(2), object(4)\n",
      "memory usage: 720.4+ KB\n"
     ]
    }
   ],
   "source": [
    "#проверка типа данных\n",
    "rest.info()"
   ]
  },
  {
   "cell_type": "code",
   "execution_count": 16,
   "metadata": {},
   "outputs": [
    {
     "data": {
      "text/plain": [
       "id             0\n",
       "object_name    0\n",
       "chain          0\n",
       "object_type    0\n",
       "address        0\n",
       "number         0\n",
       "dtype: int64"
      ]
     },
     "execution_count": 16,
     "metadata": {},
     "output_type": "execute_result"
    }
   ],
   "source": [
    "#поиск пропущенных значений \n",
    "rest.isna().sum()"
   ]
  },
  {
   "cell_type": "code",
   "execution_count": 17,
   "metadata": {},
   "outputs": [
    {
     "data": {
      "text/plain": [
       "207"
      ]
     },
     "execution_count": 17,
     "metadata": {},
     "output_type": "execute_result"
    }
   ],
   "source": [
    "#поиск дубликатов по столбцам\n",
    "rest.duplicated(subset = ['object_name', 'address']).sum()"
   ]
  },
  {
   "cell_type": "code",
   "execution_count": 23,
   "metadata": {},
   "outputs": [],
   "source": [
    "#удаление найденных дубликатов\n",
    "rest = rest.drop_duplicates(subset=['object_name', 'address']). reset_index (drop = True)"
   ]
  },
  {
   "cell_type": "markdown",
   "metadata": {},
   "source": [
    "**Вывод** \n",
    "\n",
    "Тип данных для каждой колонки соответствующий, пропусков и полных дубликатов в данных нет. Но были обнаружены заведения с одинаковым названием и адресом. Так могло произойти в связи с увеличением количества посадочных мест, но по сути заведение осталось тем же, соответственно их можно считать неявными дубликатами и для дальнейшего анализа их использовать не будем. "
   ]
  },
  {
   "cell_type": "markdown",
   "metadata": {},
   "source": [
    "<a id='2'></a>\n",
    "## Анализ данных"
   ]
  },
  {
   "cell_type": "markdown",
   "metadata": {},
   "source": [
    "**Содержание анализа данных:** \n",
    "\n",
    "<a href='#2.1'> 2.1 Соотношение видов объектов общественного питания по количеству</a>   \n",
    "\n",
    "<a href='#2.2'> 2.2 Cоотношение сетевых и несетевых заведений по количеству</a> \n",
    "\n",
    "<a href='#2.3'>2.3 Доля сетевых заведений для каждого вида объекта общественного питания </a> \n",
    "\n",
    "<a href='#2.4'>2.4 Распределение сетевых заведений в разрезе количества посадочных мест </a> \n",
    "\n",
    "<a href='#2.5'>2.5 Определение среднего количества посадочных мест для каждого вида объекта общественного питания </a> \n",
    "\n",
    "<a href='#2.6'>2.6 Изучение географического расположения объектов общественного питания </a> \n",
    "\n",
    "<a href='#2.7'>2.7 Распределение количества посадочных мест для улиц с большим количеством объектов общественного питания </a> "
   ]
  },
  {
   "cell_type": "markdown",
   "metadata": {},
   "source": [
    "<a id='2.1'></a>\n",
    "### Cоотношение видов объектов общественного питания по количеству"
   ]
  },
  {
   "cell_type": "code",
   "execution_count": 25,
   "metadata": {},
   "outputs": [
    {
     "data": {
      "image/png": "[encoded data removed]",
      "text/plain": [
       "<Figure size 1080x288 with 1 Axes>"
      ]
     },
     "metadata": {
      "needs_background": "light"
     },
     "output_type": "display_data"
    }
   ],
   "source": [
    "#создаем сводную таблицу по столбцу 'object_type' для подсчета количества заведений каждого вида\n",
    "rest_pivot_obj_type = rest.pivot_table(index = 'object_type', aggfunc = 'count', values = 'id' ).sort_values(by = 'id')\n",
    "rest_pivot_obj_type.plot(\n",
    "    kind = 'bar', title = 'Распределение видов общественного питания по количеству', legend = False, figsize = (15,4))\n",
    "plt.xticks(rotation=45);"
   ]
  },
  {
   "cell_type": "markdown",
   "metadata": {},
   "source": [
    "Больше всего среди видов объектов общественного питания кафе, второе и третье место занимают столовые и рестораны соответственно."
   ]
  },
  {
   "cell_type": "markdown",
   "metadata": {},
   "source": [
    "<a id='2.2'></a>\n",
    "### Cоотношение сетевых и несетевых заведений по количеству"
   ]
  },
  {
   "cell_type": "code",
   "execution_count": 26,
   "metadata": {},
   "outputs": [
    {
     "data": {
      "image/png": "[encoded data removed]",
      "text/plain": [
       "<Figure size 432x288 with 1 Axes>"
      ]
     },
     "metadata": {
      "needs_background": "light"
     },
     "output_type": "display_data"
    }
   ],
   "source": [
    "#создаем сводную таблицу для подсчета сетевыхи несетевых заведений\n",
    "rest_pivot_chain = rest.pivot_table(index = 'chain', aggfunc = 'count', values = 'id' )\n",
    "rest_pivot_chain.plot(kind = 'bar', title = 'Соотношение сетевых и несетевых заведений по количеству', legend = False)\n",
    "plt.xticks(rotation=360);"
   ]
  },
  {
   "cell_type": "markdown",
   "metadata": {},
   "source": [
    "В представленных данных преобладают несетевые заведения. Их количество в 4 раза больше чем сетевых."
   ]
  },
  {
   "cell_type": "markdown",
   "metadata": {},
   "source": [
    "<a id='2.3'></a>\n",
    "### Доля сетевых заведений для каждого вида объекта общественного питания"
   ]
  },
  {
   "cell_type": "markdown",
   "metadata": {},
   "source": [
    "Для того, чтобы ответить на данный вопрос, нам необходимо отобрать среди данных сетевые заведения и посчитать их долю в общем количестве для каждого вида объекта общественного питания "
   ]
  },
  {
   "cell_type": "code",
   "execution_count": 27,
   "metadata": {},
   "outputs": [
    {
     "data": {
      "image/png": "[encoded data removed]",
      "text/plain": [
       "<Figure size 1080x288 with 1 Axes>"
      ]
     },
     "metadata": {
      "needs_background": "light"
     },
     "output_type": "display_data"
    }
   ],
   "source": [
    "#создаем общую сводную таблицу для сетевых заведений в разрезе видов объектов \n",
    "rest_obj_type_chain = rest.query(\n",
    "    'chain == \"да\"').pivot_table(index = 'object_type', aggfunc = 'count', values = 'id')\n",
    "rest_obj_type = rest_obj_type_chain.merge(rest_pivot_obj_type, on = 'object_type').rename(\n",
    "    columns = {'id_x' : 'chain_object', 'id_y' : 'total'})\n",
    "rest_obj_type ['rate_chain_object'] = round(rest_obj_type['chain_object']/rest_obj_type['total']*100, 1)\n",
    "rest_obj_type = rest_obj_type.sort_values(by = 'rate_chain_object')\n",
    "rest_obj_type ['rate_chain_object'].plot(\n",
    "    kind = 'bar', title = 'Доля сетевых заведений для каждого вида объекта общественного питания, %', legend = False, figsize = (15,4))\n",
    "plt.xticks(rotation=45);"
   ]
  },
  {
   "cell_type": "markdown",
   "metadata": {},
   "source": [
    "Чаще всего сетевыми заведениями являются предприятия быстрого обслуживания, отделы кулинарии, рестораны."
   ]
  },
  {
   "cell_type": "markdown",
   "metadata": {},
   "source": [
    "<a id='2.4'></a>\n",
    "### Распределение сетевых заведений в разрезе количества посадочных мест"
   ]
  },
  {
   "cell_type": "markdown",
   "metadata": {},
   "source": [
    "Для начала сохраним данные по сетевым заведениям в новую переменную "
   ]
  },
  {
   "cell_type": "code",
   "execution_count": 28,
   "metadata": {},
   "outputs": [
    {
     "data": {
      "text/html": [
       "<div>\n",
       "<style scoped>\n",
       "    .dataframe tbody tr th:only-of-type {\n",
       "        vertical-align: middle;\n",
       "    }\n",
       "\n",
       "    .dataframe tbody tr th {\n",
       "        vertical-align: top;\n",
       "    }\n",
       "\n",
       "    .dataframe thead th {\n",
       "        text-align: right;\n",
       "    }\n",
       "</style>\n",
       "<table border=\"1\" class=\"dataframe\">\n",
       "  <thead>\n",
       "    <tr style=\"text-align: right;\">\n",
       "      <th></th>\n",
       "      <th>id</th>\n",
       "      <th>object_name</th>\n",
       "      <th>chain</th>\n",
       "      <th>object_type</th>\n",
       "      <th>address</th>\n",
       "      <th>number</th>\n",
       "    </tr>\n",
       "  </thead>\n",
       "  <tbody>\n",
       "    <tr>\n",
       "      <td>3</td>\n",
       "      <td>21894</td>\n",
       "      <td>ПИЦЦЕТОРИЯ</td>\n",
       "      <td>да</td>\n",
       "      <td>кафе</td>\n",
       "      <td>город Москва, Абрамцевская улица, дом 1</td>\n",
       "      <td>40</td>\n",
       "    </tr>\n",
       "    <tr>\n",
       "      <td>6</td>\n",
       "      <td>148815</td>\n",
       "      <td>Брусника</td>\n",
       "      <td>да</td>\n",
       "      <td>кафе</td>\n",
       "      <td>город Москва, переулок Сивцев Вражек, дом 6/2</td>\n",
       "      <td>10</td>\n",
       "    </tr>\n",
       "    <tr>\n",
       "      <td>13</td>\n",
       "      <td>22579</td>\n",
       "      <td>Алло Пицца</td>\n",
       "      <td>да</td>\n",
       "      <td>кафе</td>\n",
       "      <td>город Москва, улица Авиаторов, дом 14</td>\n",
       "      <td>32</td>\n",
       "    </tr>\n",
       "    <tr>\n",
       "      <td>16</td>\n",
       "      <td>144107</td>\n",
       "      <td>Суши Wok</td>\n",
       "      <td>да</td>\n",
       "      <td>предприятие быстрого обслуживания</td>\n",
       "      <td>город Москва, Азовская улица, дом 3</td>\n",
       "      <td>7</td>\n",
       "    </tr>\n",
       "    <tr>\n",
       "      <td>18</td>\n",
       "      <td>58565</td>\n",
       "      <td>Тануки</td>\n",
       "      <td>да</td>\n",
       "      <td>ресторан</td>\n",
       "      <td>город Москва, Большая Академическая улица, дом 65</td>\n",
       "      <td>160</td>\n",
       "    </tr>\n",
       "  </tbody>\n",
       "</table>\n",
       "</div>"
      ],
      "text/plain": [
       "        id object_name chain                        object_type  \\\n",
       "3    21894  ПИЦЦЕТОРИЯ    да                               кафе   \n",
       "6   148815    Брусника    да                               кафе   \n",
       "13   22579  Алло Пицца    да                               кафе   \n",
       "16  144107    Суши Wok    да  предприятие быстрого обслуживания   \n",
       "18   58565      Тануки    да                           ресторан   \n",
       "\n",
       "                                              address  number  \n",
       "3             город Москва, Абрамцевская улица, дом 1      40  \n",
       "6       город Москва, переулок Сивцев Вражек, дом 6/2      10  \n",
       "13              город Москва, улица Авиаторов, дом 14      32  \n",
       "16                город Москва, Азовская улица, дом 3       7  \n",
       "18  город Москва, Большая Академическая улица, дом 65     160  "
      ]
     },
     "execution_count": 28,
     "metadata": {},
     "output_type": "execute_result"
    }
   ],
   "source": [
    "rest_chain = rest.query('chain == \"да\"') \n",
    "rest_chain.head()"
   ]
  },
  {
   "cell_type": "markdown",
   "metadata": {},
   "source": [
    "Среди названий есть неявные дубликаты. Их достаточно много и изменить все будет невозможно, поэтому избавимся от дубликатов только для самых популярных заведений. Для начала приведем все значения к нижнему регистру и с помощью собственной функции, создав новый столбец, перезапишем названия заведений."
   ]
  },
  {
   "cell_type": "code",
   "execution_count": 29,
   "metadata": {
    "scrolled": false
   },
   "outputs": [
    {
     "data": {
      "text/html": [
       "<div>\n",
       "<style scoped>\n",
       "    .dataframe tbody tr th:only-of-type {\n",
       "        vertical-align: middle;\n",
       "    }\n",
       "\n",
       "    .dataframe tbody tr th {\n",
       "        vertical-align: top;\n",
       "    }\n",
       "\n",
       "    .dataframe thead th {\n",
       "        text-align: right;\n",
       "    }\n",
       "</style>\n",
       "<table border=\"1\" class=\"dataframe\">\n",
       "  <thead>\n",
       "    <tr style=\"text-align: right;\">\n",
       "      <th></th>\n",
       "      <th>id</th>\n",
       "      <th>object_name</th>\n",
       "      <th>chain</th>\n",
       "      <th>object_type</th>\n",
       "      <th>address</th>\n",
       "      <th>number</th>\n",
       "    </tr>\n",
       "  </thead>\n",
       "  <tbody>\n",
       "    <tr>\n",
       "      <td>3</td>\n",
       "      <td>21894</td>\n",
       "      <td>пиццетория</td>\n",
       "      <td>да</td>\n",
       "      <td>кафе</td>\n",
       "      <td>город Москва, Абрамцевская улица, дом 1</td>\n",
       "      <td>40</td>\n",
       "    </tr>\n",
       "    <tr>\n",
       "      <td>6</td>\n",
       "      <td>148815</td>\n",
       "      <td>брусника</td>\n",
       "      <td>да</td>\n",
       "      <td>кафе</td>\n",
       "      <td>город Москва, переулок Сивцев Вражек, дом 6/2</td>\n",
       "      <td>10</td>\n",
       "    </tr>\n",
       "    <tr>\n",
       "      <td>13</td>\n",
       "      <td>22579</td>\n",
       "      <td>алло пицца</td>\n",
       "      <td>да</td>\n",
       "      <td>кафе</td>\n",
       "      <td>город Москва, улица Авиаторов, дом 14</td>\n",
       "      <td>32</td>\n",
       "    </tr>\n",
       "    <tr>\n",
       "      <td>16</td>\n",
       "      <td>144107</td>\n",
       "      <td>суши wok</td>\n",
       "      <td>да</td>\n",
       "      <td>предприятие быстрого обслуживания</td>\n",
       "      <td>город Москва, Азовская улица, дом 3</td>\n",
       "      <td>7</td>\n",
       "    </tr>\n",
       "    <tr>\n",
       "      <td>18</td>\n",
       "      <td>58565</td>\n",
       "      <td>тануки</td>\n",
       "      <td>да</td>\n",
       "      <td>ресторан</td>\n",
       "      <td>город Москва, Большая Академическая улица, дом 65</td>\n",
       "      <td>160</td>\n",
       "    </tr>\n",
       "  </tbody>\n",
       "</table>\n",
       "</div>"
      ],
      "text/plain": [
       "        id object_name chain                        object_type  \\\n",
       "3    21894  пиццетория    да                               кафе   \n",
       "6   148815    брусника    да                               кафе   \n",
       "13   22579  алло пицца    да                               кафе   \n",
       "16  144107    суши wok    да  предприятие быстрого обслуживания   \n",
       "18   58565      тануки    да                           ресторан   \n",
       "\n",
       "                                              address  number  \n",
       "3             город Москва, Абрамцевская улица, дом 1      40  \n",
       "6       город Москва, переулок Сивцев Вражек, дом 6/2      10  \n",
       "13              город Москва, улица Авиаторов, дом 14      32  \n",
       "16                город Москва, Азовская улица, дом 3       7  \n",
       "18  город Москва, Большая Академическая улица, дом 65     160  "
      ]
     },
     "execution_count": 29,
     "metadata": {},
     "output_type": "execute_result"
    }
   ],
   "source": [
    "#игнорируем предупреждение \n",
    "import warnings\n",
    "warnings.simplefilter(action='ignore', category=Warning)\n",
    "#приводим к нижнему регистру названия\n",
    "rest_chain['object_name'] = rest_chain['object_name'].str.lower()\n",
    "rest_chain.head()"
   ]
  },
  {
   "cell_type": "code",
   "execution_count": 30,
   "metadata": {},
   "outputs": [
    {
     "data": {
      "text/html": [
       "<div>\n",
       "<style scoped>\n",
       "    .dataframe tbody tr th:only-of-type {\n",
       "        vertical-align: middle;\n",
       "    }\n",
       "\n",
       "    .dataframe tbody tr th {\n",
       "        vertical-align: top;\n",
       "    }\n",
       "\n",
       "    .dataframe thead th {\n",
       "        text-align: right;\n",
       "    }\n",
       "</style>\n",
       "<table border=\"1\" class=\"dataframe\">\n",
       "  <thead>\n",
       "    <tr style=\"text-align: right;\">\n",
       "      <th></th>\n",
       "      <th>id</th>\n",
       "      <th>object_name</th>\n",
       "      <th>chain</th>\n",
       "      <th>object_type</th>\n",
       "      <th>address</th>\n",
       "      <th>number</th>\n",
       "      <th>name</th>\n",
       "    </tr>\n",
       "  </thead>\n",
       "  <tbody>\n",
       "    <tr>\n",
       "      <td>3</td>\n",
       "      <td>21894</td>\n",
       "      <td>пиццетория</td>\n",
       "      <td>да</td>\n",
       "      <td>кафе</td>\n",
       "      <td>город Москва, Абрамцевская улица, дом 1</td>\n",
       "      <td>40</td>\n",
       "      <td>пиццетория</td>\n",
       "    </tr>\n",
       "    <tr>\n",
       "      <td>6</td>\n",
       "      <td>148815</td>\n",
       "      <td>брусника</td>\n",
       "      <td>да</td>\n",
       "      <td>кафе</td>\n",
       "      <td>город Москва, переулок Сивцев Вражек, дом 6/2</td>\n",
       "      <td>10</td>\n",
       "      <td>брусника</td>\n",
       "    </tr>\n",
       "    <tr>\n",
       "      <td>13</td>\n",
       "      <td>22579</td>\n",
       "      <td>алло пицца</td>\n",
       "      <td>да</td>\n",
       "      <td>кафе</td>\n",
       "      <td>город Москва, улица Авиаторов, дом 14</td>\n",
       "      <td>32</td>\n",
       "      <td>алло пицца</td>\n",
       "    </tr>\n",
       "    <tr>\n",
       "      <td>16</td>\n",
       "      <td>144107</td>\n",
       "      <td>суши wok</td>\n",
       "      <td>да</td>\n",
       "      <td>предприятие быстрого обслуживания</td>\n",
       "      <td>город Москва, Азовская улица, дом 3</td>\n",
       "      <td>7</td>\n",
       "      <td>суши wok</td>\n",
       "    </tr>\n",
       "    <tr>\n",
       "      <td>18</td>\n",
       "      <td>58565</td>\n",
       "      <td>тануки</td>\n",
       "      <td>да</td>\n",
       "      <td>ресторан</td>\n",
       "      <td>город Москва, Большая Академическая улица, дом 65</td>\n",
       "      <td>160</td>\n",
       "      <td>тануки</td>\n",
       "    </tr>\n",
       "  </tbody>\n",
       "</table>\n",
       "</div>"
      ],
      "text/plain": [
       "        id object_name chain                        object_type  \\\n",
       "3    21894  пиццетория    да                               кафе   \n",
       "6   148815    брусника    да                               кафе   \n",
       "13   22579  алло пицца    да                               кафе   \n",
       "16  144107    суши wok    да  предприятие быстрого обслуживания   \n",
       "18   58565      тануки    да                           ресторан   \n",
       "\n",
       "                                              address  number        name  \n",
       "3             город Москва, Абрамцевская улица, дом 1      40  пиццетория  \n",
       "6       город Москва, переулок Сивцев Вражек, дом 6/2      10    брусника  \n",
       "13              город Москва, улица Авиаторов, дом 14      32  алло пицца  \n",
       "16                город Москва, Азовская улица, дом 3       7    суши wok  \n",
       "18  город Москва, Большая Академическая улица, дом 65     160      тануки  "
      ]
     },
     "execution_count": 30,
     "metadata": {},
     "output_type": "execute_result"
    }
   ],
   "source": [
    "#создание собственной функции \n",
    "def rename (row):\n",
    "    if 'kfc' in row:\n",
    "            return 'kfc' \n",
    "    if 'starb' in row or 'старб' in row:\n",
    "            return 'starbucks'\n",
    "    if 'шоколад' in row:\n",
    "            return 'шоколадница'\n",
    "    if 'макд'in row:\n",
    "            return 'макдоналдс'\n",
    "    if 'king' in row or 'кинг' in row:\n",
    "            return 'бургер кинг'\n",
    "    return row\n",
    "\n",
    "rest_chain['name'] = rest_chain['object_name'].apply(rename)\n",
    "rest_chain.head()"
   ]
  },
  {
   "cell_type": "code",
   "execution_count": 31,
   "metadata": {},
   "outputs": [
    {
     "data": {
      "text/html": [
       "<div>\n",
       "<style scoped>\n",
       "    .dataframe tbody tr th:only-of-type {\n",
       "        vertical-align: middle;\n",
       "    }\n",
       "\n",
       "    .dataframe tbody tr th {\n",
       "        vertical-align: top;\n",
       "    }\n",
       "\n",
       "    .dataframe thead th {\n",
       "        text-align: right;\n",
       "    }\n",
       "</style>\n",
       "<table border=\"1\" class=\"dataframe\">\n",
       "  <thead>\n",
       "    <tr style=\"text-align: right;\">\n",
       "      <th></th>\n",
       "      <th>id</th>\n",
       "    </tr>\n",
       "    <tr>\n",
       "      <th>name</th>\n",
       "      <th></th>\n",
       "    </tr>\n",
       "  </thead>\n",
       "  <tbody>\n",
       "    <tr>\n",
       "      <td>beverly hills diner</td>\n",
       "      <td>1</td>\n",
       "    </tr>\n",
       "    <tr>\n",
       "      <td>кафе «суши сет»</td>\n",
       "      <td>1</td>\n",
       "    </tr>\n",
       "    <tr>\n",
       "      <td>кафе «суши вок»</td>\n",
       "      <td>1</td>\n",
       "    </tr>\n",
       "    <tr>\n",
       "      <td>кафе «суши wok»</td>\n",
       "      <td>1</td>\n",
       "    </tr>\n",
       "    <tr>\n",
       "      <td>кафе «сим-сим»</td>\n",
       "      <td>1</td>\n",
       "    </tr>\n",
       "    <tr>\n",
       "      <td>...</td>\n",
       "      <td>...</td>\n",
       "    </tr>\n",
       "    <tr>\n",
       "      <td>теремок</td>\n",
       "      <td>93</td>\n",
       "    </tr>\n",
       "    <tr>\n",
       "      <td>бургер кинг</td>\n",
       "      <td>158</td>\n",
       "    </tr>\n",
       "    <tr>\n",
       "      <td>макдоналдс</td>\n",
       "      <td>169</td>\n",
       "    </tr>\n",
       "    <tr>\n",
       "      <td>шоколадница</td>\n",
       "      <td>184</td>\n",
       "    </tr>\n",
       "    <tr>\n",
       "      <td>kfc</td>\n",
       "      <td>184</td>\n",
       "    </tr>\n",
       "  </tbody>\n",
       "</table>\n",
       "<p>528 rows × 1 columns</p>\n",
       "</div>"
      ],
      "text/plain": [
       "                      id\n",
       "name                    \n",
       "beverly hills diner    1\n",
       "кафе «суши сет»        1\n",
       "кафе «суши вок»        1\n",
       "кафе «суши wok»        1\n",
       "кафе «сим-сим»         1\n",
       "...                  ...\n",
       "теремок               93\n",
       "бургер кинг          158\n",
       "макдоналдс           169\n",
       "шоколадница          184\n",
       "kfc                  184\n",
       "\n",
       "[528 rows x 1 columns]"
      ]
     },
     "execution_count": 31,
     "metadata": {},
     "output_type": "execute_result"
    }
   ],
   "source": [
    "rest_chain_id = rest_chain.pivot_table(index = 'name', values = 'id', aggfunc =  'count').sort_values(by = 'id')\n",
    "rest_chain_id"
   ]
  },
  {
   "cell_type": "markdown",
   "metadata": {},
   "source": [
    "Предполагаю, что заведение может считаться сетевым, если количество таких заведение хотя бы достигает двух. В нашей сводной таблице присутствуют объекты общественного питания в единственном числе. Это связано с тем, что название может быть записано по-разному. Для ответа на текущий вопрос такие данные для нас будут нерепрезентативными, поэтому от них необходимо избавиться."
   ]
  },
  {
   "cell_type": "code",
   "execution_count": 32,
   "metadata": {},
   "outputs": [
    {
     "data": {
      "text/html": [
       "<div>\n",
       "<style scoped>\n",
       "    .dataframe tbody tr th:only-of-type {\n",
       "        vertical-align: middle;\n",
       "    }\n",
       "\n",
       "    .dataframe tbody tr th {\n",
       "        vertical-align: top;\n",
       "    }\n",
       "\n",
       "    .dataframe thead th {\n",
       "        text-align: right;\n",
       "    }\n",
       "</style>\n",
       "<table border=\"1\" class=\"dataframe\">\n",
       "  <thead>\n",
       "    <tr style=\"text-align: right;\">\n",
       "      <th></th>\n",
       "      <th>id</th>\n",
       "    </tr>\n",
       "    <tr>\n",
       "      <th>name</th>\n",
       "      <th></th>\n",
       "    </tr>\n",
       "  </thead>\n",
       "  <tbody>\n",
       "    <tr>\n",
       "      <td>ресторан «территория»</td>\n",
       "      <td>2</td>\n",
       "    </tr>\n",
       "    <tr>\n",
       "      <td>обжорный ряд</td>\n",
       "      <td>2</td>\n",
       "    </tr>\n",
       "    <tr>\n",
       "      <td>пицца пипони</td>\n",
       "      <td>2</td>\n",
       "    </tr>\n",
       "    <tr>\n",
       "      <td>ресторан «ёрш»</td>\n",
       "      <td>2</td>\n",
       "    </tr>\n",
       "    <tr>\n",
       "      <td>павлин-мавлин</td>\n",
       "      <td>2</td>\n",
       "    </tr>\n",
       "    <tr>\n",
       "      <td>...</td>\n",
       "      <td>...</td>\n",
       "    </tr>\n",
       "    <tr>\n",
       "      <td>теремок</td>\n",
       "      <td>93</td>\n",
       "    </tr>\n",
       "    <tr>\n",
       "      <td>бургер кинг</td>\n",
       "      <td>158</td>\n",
       "    </tr>\n",
       "    <tr>\n",
       "      <td>макдоналдс</td>\n",
       "      <td>169</td>\n",
       "    </tr>\n",
       "    <tr>\n",
       "      <td>шоколадница</td>\n",
       "      <td>184</td>\n",
       "    </tr>\n",
       "    <tr>\n",
       "      <td>kfc</td>\n",
       "      <td>184</td>\n",
       "    </tr>\n",
       "  </tbody>\n",
       "</table>\n",
       "<p>222 rows × 1 columns</p>\n",
       "</div>"
      ],
      "text/plain": [
       "                        id\n",
       "name                      \n",
       "ресторан «территория»    2\n",
       "обжорный ряд             2\n",
       "пицца пипони             2\n",
       "ресторан «ёрш»           2\n",
       "павлин-мавлин            2\n",
       "...                    ...\n",
       "теремок                 93\n",
       "бургер кинг            158\n",
       "макдоналдс             169\n",
       "шоколадница            184\n",
       "kfc                    184\n",
       "\n",
       "[222 rows x 1 columns]"
      ]
     },
     "execution_count": 32,
     "metadata": {},
     "output_type": "execute_result"
    }
   ],
   "source": [
    "rest_chain_id = rest_chain_id.query('id > 1') \n",
    "rest_chain_id"
   ]
  },
  {
   "cell_type": "markdown",
   "metadata": {},
   "source": [
    "Для каждой сети заведений найдем среднее значение посадочных мест "
   ]
  },
  {
   "cell_type": "code",
   "execution_count": 33,
   "metadata": {},
   "outputs": [
    {
     "data": {
      "text/html": [
       "<div>\n",
       "<style scoped>\n",
       "    .dataframe tbody tr th:only-of-type {\n",
       "        vertical-align: middle;\n",
       "    }\n",
       "\n",
       "    .dataframe tbody tr th {\n",
       "        vertical-align: top;\n",
       "    }\n",
       "\n",
       "    .dataframe thead th {\n",
       "        text-align: right;\n",
       "    }\n",
       "</style>\n",
       "<table border=\"1\" class=\"dataframe\">\n",
       "  <thead>\n",
       "    <tr style=\"text-align: right;\">\n",
       "      <th></th>\n",
       "      <th>number</th>\n",
       "    </tr>\n",
       "    <tr>\n",
       "      <th>name</th>\n",
       "      <th></th>\n",
       "    </tr>\n",
       "  </thead>\n",
       "  <tbody>\n",
       "    <tr>\n",
       "      <td>beverly hills diner</td>\n",
       "      <td>88.0</td>\n",
       "    </tr>\n",
       "    <tr>\n",
       "      <td>bierloga</td>\n",
       "      <td>75.0</td>\n",
       "    </tr>\n",
       "    <tr>\n",
       "      <td>black &amp; white</td>\n",
       "      <td>40.0</td>\n",
       "    </tr>\n",
       "    <tr>\n",
       "      <td>bocconcino</td>\n",
       "      <td>68.0</td>\n",
       "    </tr>\n",
       "    <tr>\n",
       "      <td>boobo</td>\n",
       "      <td>46.0</td>\n",
       "    </tr>\n",
       "    <tr>\n",
       "      <td>...</td>\n",
       "      <td>...</td>\n",
       "    </tr>\n",
       "    <tr>\n",
       "      <td>ямми микс</td>\n",
       "      <td>2.0</td>\n",
       "    </tr>\n",
       "    <tr>\n",
       "      <td>ян примус</td>\n",
       "      <td>300.0</td>\n",
       "    </tr>\n",
       "    <tr>\n",
       "      <td>японский ресторан «ваби-саби»</td>\n",
       "      <td>155.0</td>\n",
       "    </tr>\n",
       "    <tr>\n",
       "      <td>япоша</td>\n",
       "      <td>105.0</td>\n",
       "    </tr>\n",
       "    <tr>\n",
       "      <td>ёрш</td>\n",
       "      <td>104.0</td>\n",
       "    </tr>\n",
       "  </tbody>\n",
       "</table>\n",
       "<p>528 rows × 1 columns</p>\n",
       "</div>"
      ],
      "text/plain": [
       "                               number\n",
       "name                                 \n",
       "beverly hills diner              88.0\n",
       "bierloga                         75.0\n",
       "black & white                    40.0\n",
       "bocconcino                       68.0\n",
       "boobo                            46.0\n",
       "...                               ...\n",
       "ямми микс                         2.0\n",
       "ян примус                       300.0\n",
       "японский ресторан «ваби-саби»   155.0\n",
       "япоша                           105.0\n",
       "ёрш                             104.0\n",
       "\n",
       "[528 rows x 1 columns]"
      ]
     },
     "execution_count": 33,
     "metadata": {},
     "output_type": "execute_result"
    }
   ],
   "source": [
    "rest_chain_number = rest_chain.pivot_table(index = 'name', values = 'number', aggfunc = 'median')\n",
    "rest_chain_number"
   ]
  },
  {
   "cell_type": "code",
   "execution_count": 34,
   "metadata": {},
   "outputs": [
    {
     "data": {
      "image/png": "[encoded data removed]",
      "text/plain": [
       "<Figure size 432x432 with 3 Axes>"
      ]
     },
     "metadata": {
      "needs_background": "light"
     },
     "output_type": "display_data"
    }
   ],
   "source": [
    "#создание общей сводной таблицы \n",
    "rest_chain_pivot = rest_chain_number.merge(rest_chain_id, on = 'name').sort_values(by = 'id', ascending = False).rename(\n",
    "    columns = {'number' : 'avg_seats', 'id' : 'number_of_object'})\n",
    "#построение графика взаимосвязи количества заведений в сети и среднего количества мест \n",
    "sns.jointplot(x='number_of_object', y='avg_seats', data=rest_chain_pivot,); "
   ]
  },
  {
   "cell_type": "markdown",
   "metadata": {},
   "source": [
    "Исходя из графика можно сказать, что для сетевых заведений характерно мало заведений с большим количеством посадочных мест"
   ]
  },
  {
   "cell_type": "markdown",
   "metadata": {},
   "source": [
    "<a id='2.5'></a>\n",
    "### Определение среднего количества посадочных мест для каждого вида объекта общественного питания"
   ]
  },
  {
   "cell_type": "code",
   "execution_count": 35,
   "metadata": {},
   "outputs": [
    {
     "data": {
      "image/png": "[encoded data removed]",
      "text/plain": [
       "<Figure size 1080x288 with 1 Axes>"
      ]
     },
     "metadata": {
      "needs_background": "light"
     },
     "output_type": "display_data"
    }
   ],
   "source": [
    "#создание сводной таблицы для видов объектов заведений со средним числом посадочных мест \n",
    "rest.pivot_table(index = 'object_type', values = 'number', aggfunc = 'median').sort_values(by = 'number').plot(\n",
    "    kind='bar', title = 'Распределение среднего количества посадочных мест', legend = False, figsize = (15,4))\n",
    "plt.xticks(rotation=45);"
   ]
  },
  {
   "cell_type": "markdown",
   "metadata": {},
   "source": [
    "В столовых и в ресторанах в среднем самое большое количество посадочных мест. А в закусочных и в отделах кулинарии посадочные места чаще всего не предполагаются. "
   ]
  },
  {
   "cell_type": "markdown",
   "metadata": {},
   "source": [
    "<a id='2.6'></a>\n",
    "### Изучение географического расположения объектов общественного питания "
   ]
  },
  {
   "cell_type": "markdown",
   "metadata": {},
   "source": [
    "Для того, чтобы определить топ-10 улиц по количеству объектов общественного питания, выделим улицу из столбца address и сохраним ее в новом столбце street с помощью собственной функции."
   ]
  },
  {
   "cell_type": "code",
   "execution_count": 36,
   "metadata": {},
   "outputs": [],
   "source": [
    "#собственная функция для созадния столбца с названиями улиц\n",
    "street_def = ['улица', 'проезд', 'бульвар', 'шоссе', 'проспект', 'переулок', 'тракт', 'линия', 'магистраль']\n",
    "\n",
    "def get_street(row):\n",
    "    for e in row.split(','):\n",
    "        for i in street_def:\n",
    "            if i in e.lower():\n",
    "                return e\n",
    "rest['street'] = rest['address'].apply(get_street)\n",
    "rest['street'] = rest['street'].str.strip()"
   ]
  },
  {
   "cell_type": "code",
   "execution_count": 37,
   "metadata": {},
   "outputs": [
    {
     "data": {
      "image/png": "[encoded data removed]",
      "text/plain": [
       "<Figure size 1080x288 with 1 Axes>"
      ]
     },
     "metadata": {
      "needs_background": "light"
     },
     "output_type": "display_data"
    }
   ],
   "source": [
    "#ТОП-10 улиц по количеству объектов общественного питания\n",
    "rest_street_top_10 = rest.pivot_table(\n",
    "    index = 'street', values = 'id', aggfunc = 'count').sort_values( by = 'id', ascending = False).head(10)\n",
    "rest_street_top_10.plot(\n",
    "    kind='bar', title = 'Топ-10 улиц по количеству объектов общественного питания', legend = False, figsize = (15,4))\n",
    "plt.xticks(rotation=45);"
   ]
  },
  {
   "cell_type": "markdown",
   "metadata": {},
   "source": [
    "Для того, чтобы  ответить на вопрос в каких районах Москвы больше всего объектов общественного питания, нам необходимо загрузить дополнительные данные"
   ]
  },
  {
   "cell_type": "code",
   "execution_count": 38,
   "metadata": {},
   "outputs": [
    {
     "data": {
      "text/html": [
       "<div>\n",
       "<style scoped>\n",
       "    .dataframe tbody tr th:only-of-type {\n",
       "        vertical-align: middle;\n",
       "    }\n",
       "\n",
       "    .dataframe tbody tr th {\n",
       "        vertical-align: top;\n",
       "    }\n",
       "\n",
       "    .dataframe thead th {\n",
       "        text-align: right;\n",
       "    }\n",
       "</style>\n",
       "<table border=\"1\" class=\"dataframe\">\n",
       "  <thead>\n",
       "    <tr style=\"text-align: right;\">\n",
       "      <th></th>\n",
       "      <th>street</th>\n",
       "      <th>district</th>\n",
       "    </tr>\n",
       "  </thead>\n",
       "  <tbody>\n",
       "    <tr>\n",
       "      <td>0</td>\n",
       "      <td>1-й Ирининский переулок</td>\n",
       "      <td>Басманный район</td>\n",
       "    </tr>\n",
       "    <tr>\n",
       "      <td>1</td>\n",
       "      <td>2-й Ирининский переулок</td>\n",
       "      <td>Басманный район</td>\n",
       "    </tr>\n",
       "    <tr>\n",
       "      <td>2</td>\n",
       "      <td>3-й Ирининский переулок</td>\n",
       "      <td>Басманный район</td>\n",
       "    </tr>\n",
       "    <tr>\n",
       "      <td>3</td>\n",
       "      <td>Иркутская улица</td>\n",
       "      <td>район Гольяново</td>\n",
       "    </tr>\n",
       "    <tr>\n",
       "      <td>4</td>\n",
       "      <td>1-й Иртышский проезд</td>\n",
       "      <td>район Гольяново</td>\n",
       "    </tr>\n",
       "  </tbody>\n",
       "</table>\n",
       "</div>"
      ],
      "text/plain": [
       "                    street         district\n",
       "0  1-й Ирининский переулок  Басманный район\n",
       "1  2-й Ирининский переулок  Басманный район\n",
       "2  3-й Ирининский переулок  Басманный район\n",
       "3          Иркутская улица  район Гольяново\n",
       "4     1-й Иртышский проезд  район Гольяново"
      ]
     },
     "execution_count": 38,
     "metadata": {},
     "output_type": "execute_result"
    }
   ],
   "source": [
    "#импорт внешних данных по районам Москвы\n",
    "from io import BytesIO\n",
    "import requests\n",
    "\n",
    "spreadsheet_id = '1UX8FOrw3fpFLsbxNfw2sGnyyjbKS7kbSTKUSCC7WMXo'\n",
    "file_name = 'https://docs.google.com/spreadsheets/d/{}/export?format=csv'.format(spreadsheet_id)\n",
    "r = requests.get(file_name)\n",
    "df = pd.read_csv(BytesIO(r.content))\n",
    "df = df[['street', 'district']]\n",
    "df.head()"
   ]
  },
  {
   "cell_type": "code",
   "execution_count": 39,
   "metadata": {
    "scrolled": true
   },
   "outputs": [
    {
     "data": {
      "text/html": [
       "<div>\n",
       "<style scoped>\n",
       "    .dataframe tbody tr th:only-of-type {\n",
       "        vertical-align: middle;\n",
       "    }\n",
       "\n",
       "    .dataframe tbody tr th {\n",
       "        vertical-align: top;\n",
       "    }\n",
       "\n",
       "    .dataframe thead th {\n",
       "        text-align: right;\n",
       "    }\n",
       "</style>\n",
       "<table border=\"1\" class=\"dataframe\">\n",
       "  <thead>\n",
       "    <tr style=\"text-align: right;\">\n",
       "      <th></th>\n",
       "      <th>street</th>\n",
       "    </tr>\n",
       "    <tr>\n",
       "      <th>district</th>\n",
       "      <th></th>\n",
       "    </tr>\n",
       "  </thead>\n",
       "  <tbody>\n",
       "    <tr>\n",
       "      <td>район Нагатино-Садовники</td>\n",
       "      <td>2</td>\n",
       "    </tr>\n",
       "    <tr>\n",
       "      <td>Хорошёвский район</td>\n",
       "      <td>2</td>\n",
       "    </tr>\n",
       "    <tr>\n",
       "      <td>район Тропарёво-Никулино</td>\n",
       "      <td>2</td>\n",
       "    </tr>\n",
       "    <tr>\n",
       "      <td>район Тёплый Стан</td>\n",
       "      <td>2</td>\n",
       "    </tr>\n",
       "    <tr>\n",
       "      <td>район Чертаново Северное</td>\n",
       "      <td>2</td>\n",
       "    </tr>\n",
       "    <tr>\n",
       "      <td>район Чертаново Центральное</td>\n",
       "      <td>2</td>\n",
       "    </tr>\n",
       "    <tr>\n",
       "      <td>район Проспект Вернадского</td>\n",
       "      <td>2</td>\n",
       "    </tr>\n",
       "    <tr>\n",
       "      <td>район Чертаново Южное</td>\n",
       "      <td>2</td>\n",
       "    </tr>\n",
       "    <tr>\n",
       "      <td>Обручевский район</td>\n",
       "      <td>2</td>\n",
       "    </tr>\n",
       "    <tr>\n",
       "      <td>Ломоносовский район</td>\n",
       "      <td>2</td>\n",
       "    </tr>\n",
       "  </tbody>\n",
       "</table>\n",
       "</div>"
      ],
      "text/plain": [
       "                             street\n",
       "district                           \n",
       "район Нагатино-Садовники          2\n",
       "Хорошёвский район                 2\n",
       "район Тропарёво-Никулино          2\n",
       "район Тёплый Стан                 2\n",
       "район Чертаново Северное          2\n",
       "район Чертаново Центральное       2\n",
       "район Проспект Вернадского        2\n",
       "район Чертаново Южное             2\n",
       "Обручевский район                 2\n",
       "Ломоносовский район               2"
      ]
     },
     "execution_count": 39,
     "metadata": {},
     "output_type": "execute_result"
    }
   ],
   "source": [
    "#объединение данных по районам с ТОП-10 улицами \n",
    "rest_street_top_10.merge(df, on = 'street', how = 'left').drop(columns =['id'], axis = 1).groupby(\n",
    "    'district').agg('count').sort_values(by = 'street', ascending = False).head(10)"
   ]
  },
  {
   "cell_type": "markdown",
   "metadata": {},
   "source": [
    "Улицы с высокой концентрацией объектов общественного питания достаточно крупные, поэтому одновременно входят сразу в несколько райнов. В объединенной таблице можно выделить районы - лидеры, сгруппировав данные по районам и посчитав количество улиц, которые в них входят.  \n",
    "\n",
    "Можно предположить, что в этих районах будет сложнее справиться с конкуренцией или же найти свободное помещение для аренды. \n",
    "\n",
    "В связи с этим целесообразно найти районы, в которых точек общественного питания не так много."
   ]
  },
  {
   "cell_type": "code",
   "execution_count": 40,
   "metadata": {},
   "outputs": [
    {
     "data": {
      "text/html": [
       "<div>\n",
       "<style scoped>\n",
       "    .dataframe tbody tr th:only-of-type {\n",
       "        vertical-align: middle;\n",
       "    }\n",
       "\n",
       "    .dataframe tbody tr th {\n",
       "        vertical-align: top;\n",
       "    }\n",
       "\n",
       "    .dataframe thead th {\n",
       "        text-align: right;\n",
       "    }\n",
       "</style>\n",
       "<table border=\"1\" class=\"dataframe\">\n",
       "  <thead>\n",
       "    <tr style=\"text-align: right;\">\n",
       "      <th></th>\n",
       "      <th>street</th>\n",
       "    </tr>\n",
       "    <tr>\n",
       "      <th>district</th>\n",
       "      <th></th>\n",
       "    </tr>\n",
       "  </thead>\n",
       "  <tbody>\n",
       "    <tr>\n",
       "      <td>район Филёвский Парк</td>\n",
       "      <td>1</td>\n",
       "    </tr>\n",
       "    <tr>\n",
       "      <td>район Ивановское</td>\n",
       "      <td>1</td>\n",
       "    </tr>\n",
       "    <tr>\n",
       "      <td>район Западное Дегунино</td>\n",
       "      <td>1</td>\n",
       "    </tr>\n",
       "    <tr>\n",
       "      <td>район Чертаново Северное</td>\n",
       "      <td>1</td>\n",
       "    </tr>\n",
       "    <tr>\n",
       "      <td>район Чертаново Южное</td>\n",
       "      <td>1</td>\n",
       "    </tr>\n",
       "    <tr>\n",
       "      <td>район Восточный</td>\n",
       "      <td>1</td>\n",
       "    </tr>\n",
       "    <tr>\n",
       "      <td>район Савёлки</td>\n",
       "      <td>1</td>\n",
       "    </tr>\n",
       "    <tr>\n",
       "      <td>район Левобережный</td>\n",
       "      <td>1</td>\n",
       "    </tr>\n",
       "    <tr>\n",
       "      <td>район Лианозово</td>\n",
       "      <td>1</td>\n",
       "    </tr>\n",
       "    <tr>\n",
       "      <td>район Южное Медведково</td>\n",
       "      <td>1</td>\n",
       "    </tr>\n",
       "  </tbody>\n",
       "</table>\n",
       "</div>"
      ],
      "text/plain": [
       "                          street\n",
       "district                        \n",
       "район Филёвский Парк           1\n",
       "район Ивановское               1\n",
       "район Западное Дегунино        1\n",
       "район Чертаново Северное       1\n",
       "район Чертаново Южное          1\n",
       "район Восточный                1\n",
       "район Савёлки                  1\n",
       "район Левобережный             1\n",
       "район Лианозово                1\n",
       "район Южное Медведково         1"
      ]
     },
     "execution_count": 40,
     "metadata": {},
     "output_type": "execute_result"
    }
   ],
   "source": [
    "#объединение данных по районам с улицами с одним объектом питания\n",
    "one_rest = rest.pivot_table(index = 'street', values = 'id', aggfunc = 'count').rename(columns ={'id':'total_rest'})\n",
    "one_rest = one_rest[one_rest['total_rest'] == 1]\n",
    "(one_rest.merge(df, on = 'street', how ='left')\n",
    " .drop(columns =['total_rest'], axis = 1).groupby('district').agg('count').sort_values(by = 'street').head(10)\n",
    ")"
   ]
  },
  {
   "cell_type": "markdown",
   "metadata": {},
   "source": [
    "В этих районах концентрация объектов общественного питания меньше, а следовательно конкуренция будет намного меньше."
   ]
  },
  {
   "cell_type": "markdown",
   "metadata": {},
   "source": [
    "<a id='2.7'></a>\n",
    "### Распределение количества посадочных мест для улиц с большим количеством объектов общественного питания "
   ]
  },
  {
   "cell_type": "code",
   "execution_count": 41,
   "metadata": {},
   "outputs": [
    {
     "data": {
      "text/html": [
       "<div>\n",
       "<style scoped>\n",
       "    .dataframe tbody tr th:only-of-type {\n",
       "        vertical-align: middle;\n",
       "    }\n",
       "\n",
       "    .dataframe tbody tr th {\n",
       "        vertical-align: top;\n",
       "    }\n",
       "\n",
       "    .dataframe thead th {\n",
       "        text-align: right;\n",
       "    }\n",
       "</style>\n",
       "<table border=\"1\" class=\"dataframe\">\n",
       "  <thead>\n",
       "    <tr style=\"text-align: right;\">\n",
       "      <th></th>\n",
       "      <th>total_rest</th>\n",
       "      <th>avg_number</th>\n",
       "    </tr>\n",
       "    <tr>\n",
       "      <th>street</th>\n",
       "      <th></th>\n",
       "      <th></th>\n",
       "    </tr>\n",
       "  </thead>\n",
       "  <tbody>\n",
       "    <tr>\n",
       "      <td>проспект Мира</td>\n",
       "      <td>197</td>\n",
       "      <td>45.0</td>\n",
       "    </tr>\n",
       "    <tr>\n",
       "      <td>Профсоюзная улица</td>\n",
       "      <td>180</td>\n",
       "      <td>25.0</td>\n",
       "    </tr>\n",
       "    <tr>\n",
       "      <td>Ленинградский проспект</td>\n",
       "      <td>171</td>\n",
       "      <td>40.0</td>\n",
       "    </tr>\n",
       "    <tr>\n",
       "      <td>Варшавское шоссе</td>\n",
       "      <td>164</td>\n",
       "      <td>30.0</td>\n",
       "    </tr>\n",
       "    <tr>\n",
       "      <td>Ленинский проспект</td>\n",
       "      <td>148</td>\n",
       "      <td>45.0</td>\n",
       "    </tr>\n",
       "    <tr>\n",
       "      <td>проспект Вернадского</td>\n",
       "      <td>127</td>\n",
       "      <td>40.0</td>\n",
       "    </tr>\n",
       "    <tr>\n",
       "      <td>Кутузовский проспект</td>\n",
       "      <td>112</td>\n",
       "      <td>41.0</td>\n",
       "    </tr>\n",
       "    <tr>\n",
       "      <td>Каширское шоссе</td>\n",
       "      <td>110</td>\n",
       "      <td>25.0</td>\n",
       "    </tr>\n",
       "    <tr>\n",
       "      <td>Кировоградская улица</td>\n",
       "      <td>106</td>\n",
       "      <td>30.0</td>\n",
       "    </tr>\n",
       "    <tr>\n",
       "      <td>Ходынский бульвар</td>\n",
       "      <td>101</td>\n",
       "      <td>10.0</td>\n",
       "    </tr>\n",
       "  </tbody>\n",
       "</table>\n",
       "</div>"
      ],
      "text/plain": [
       "                        total_rest  avg_number\n",
       "street                                        \n",
       "проспект Мира                  197        45.0\n",
       "Профсоюзная улица              180        25.0\n",
       "Ленинградский проспект         171        40.0\n",
       "Варшавское шоссе               164        30.0\n",
       "Ленинский проспект             148        45.0\n",
       "проспект Вернадского           127        40.0\n",
       "Кутузовский проспект           112        41.0\n",
       "Каширское шоссе                110        25.0\n",
       "Кировоградская улица           106        30.0\n",
       "Ходынский бульвар              101        10.0"
      ]
     },
     "execution_count": 41,
     "metadata": {},
     "output_type": "execute_result"
    }
   ],
   "source": [
    "#сводная таблица по улицам с большим количеством заведений и их средним количеством посадочных мест\n",
    "rest_street_top_10_number = rest.pivot_table(index = 'street', values = 'number', aggfunc = ['count', 'median']) \n",
    "rest_street_top_10_number.columns = ['total_rest', 'avg_number']\n",
    "                      \n",
    "rest_street_top_10_number = rest_street_top_10_number.sort_values(by = 'total_rest', ascending = False).head(10) \n",
    "rest_street_top_10_number"
   ]
  },
  {
   "cell_type": "code",
   "execution_count": 42,
   "metadata": {},
   "outputs": [
    {
     "data": {
      "image/png": "[encoded data removed]",
      "text/plain": [
       "<Figure size 1080x288 with 1 Axes>"
      ]
     },
     "metadata": {
      "needs_background": "light"
     },
     "output_type": "display_data"
    }
   ],
   "source": [
    "#построение плотности распределения посадочных мест\n",
    "import warnings\n",
    "warnings.simplefilter(action='ignore', category=FutureWarning)\n",
    "plt.figure(figsize = (15,4))\n",
    "ax = sns.distplot(rest_street_top_10_number ['avg_number'], bins = 10)\n",
    "plt.title('Плотность распределения посадочных мест')\n",
    "plt.show();"
   ]
  },
  {
   "cell_type": "markdown",
   "metadata": {},
   "source": [
    "<a id='3'></a> \n",
    "## Общий вывод"
   ]
  },
  {
   "cell_type": "markdown",
   "metadata": {},
   "source": [
    "\n",
    "    1. Самыми популярными объектами общественного питания стали кафе, столовые и рестораны\n",
    "    2. Количество несетевых объектов общественного питания в 4 раза больше сетевых\n",
    "    3. Для предприятий быстрого обслуживания, отделов кулинарии, ресторанов характерно сетевое распространение \n",
    "    4. Также для сетевых заведений характерно мало заведений с большим количеством посадочных мест\n",
    "    5. В столовых и в ресторанах в среднем самое большое количество посадочных мест\n",
    "    6. При выборе расположения будущего объекта общественного питания необходимо обратить внимание на район, поскольку есть районы с высокой концентрацией объектов общественного питания, а значит с высоким уровнем конкуренции. Для молодого бизнеса будет достаточно трудно сразу справиться с такой задачей. В таком случае стоит обратить внимание на районы с редким расположением заведений общественного питания. \n",
    "    7. Также для сетевых заведений, находящихся на улицах с большим количеством объектов общественного питания, характерно в среднем от 25 до 45 посадочных мест."
   ]
  },
  {
   "cell_type": "markdown",
   "metadata": {},
   "source": [
    "<a id='4'></a> \n",
    "## Презентация для инвесторов"
   ]
  },
  {
   "cell_type": "markdown",
   "metadata": {},
   "source": [
    "Ссылка на презентацию: \n",
    "    https://disk.yandex.ru/i/NnmMqkgr6CBtAQ"
   ]
  }
 ],
 "metadata": {
  "ExecuteTimeLog": [
   {
    "duration": 416,
    "start_time": "2022-03-18T09:22:19.073Z"
   },
   {
    "duration": 76,
    "start_time": "2022-03-18T09:23:01.015Z"
   },
   {
    "duration": 28,
    "start_time": "2022-03-18T09:23:09.603Z"
   },
   {
    "duration": 16,
    "start_time": "2022-03-18T09:23:38.558Z"
   },
   {
    "duration": 28,
    "start_time": "2022-03-18T09:24:17.719Z"
   },
   {
    "duration": 9,
    "start_time": "2022-03-18T09:24:24.147Z"
   },
   {
    "duration": 179,
    "start_time": "2022-03-18T09:26:01.882Z"
   },
   {
    "duration": 18,
    "start_time": "2022-03-18T09:26:54.153Z"
   },
   {
    "duration": 10,
    "start_time": "2022-03-18T09:27:49.646Z"
   },
   {
    "duration": 6,
    "start_time": "2022-03-18T09:28:48.617Z"
   },
   {
    "duration": 7,
    "start_time": "2022-03-18T09:29:40.808Z"
   },
   {
    "duration": 6,
    "start_time": "2022-03-18T09:32:58.572Z"
   },
   {
    "duration": 6,
    "start_time": "2022-03-18T09:33:12.502Z"
   },
   {
    "duration": 68,
    "start_time": "2022-03-18T09:34:24.898Z"
   },
   {
    "duration": 21,
    "start_time": "2022-03-18T09:34:35.558Z"
   },
   {
    "duration": 5470,
    "start_time": "2022-03-18T09:35:46.007Z"
   },
   {
    "duration": 22,
    "start_time": "2022-03-18T09:37:19.966Z"
   },
   {
    "duration": 14,
    "start_time": "2022-03-18T09:41:23.621Z"
   },
   {
    "duration": 11,
    "start_time": "2022-03-18T09:54:47.754Z"
   },
   {
    "duration": 13,
    "start_time": "2022-03-18T10:02:44.079Z"
   },
   {
    "duration": 199,
    "start_time": "2022-03-18T10:10:51.359Z"
   },
   {
    "duration": 27,
    "start_time": "2022-03-18T10:11:30.325Z"
   },
   {
    "duration": 17,
    "start_time": "2022-03-18T10:12:21.606Z"
   },
   {
    "duration": 15,
    "start_time": "2022-03-18T10:12:36.531Z"
   },
   {
    "duration": 9,
    "start_time": "2022-03-18T10:13:38.598Z"
   },
   {
    "duration": 464,
    "start_time": "2022-03-18T10:19:45.601Z"
   },
   {
    "duration": 27,
    "start_time": "2022-03-18T10:20:20.819Z"
   },
   {
    "duration": 15,
    "start_time": "2022-03-18T10:22:56.166Z"
   },
   {
    "duration": 8,
    "start_time": "2022-03-18T10:25:04.475Z"
   },
   {
    "duration": 3464,
    "start_time": "2022-03-18T10:25:39.081Z"
   },
   {
    "duration": 182,
    "start_time": "2022-03-18T10:29:48.422Z"
   },
   {
    "duration": 10,
    "start_time": "2022-03-18T10:35:38.940Z"
   },
   {
    "duration": 104,
    "start_time": "2022-03-18T10:35:46.766Z"
   },
   {
    "duration": 11,
    "start_time": "2022-03-18T10:35:49.193Z"
   },
   {
    "duration": 7795,
    "start_time": "2022-03-18T10:36:25.975Z"
   },
   {
    "duration": 2915,
    "start_time": "2022-03-18T10:36:57.703Z"
   },
   {
    "duration": 2505,
    "start_time": "2022-03-18T10:37:14.711Z"
   },
   {
    "duration": 18,
    "start_time": "2022-03-18T10:43:50.580Z"
   },
   {
    "duration": 14,
    "start_time": "2022-03-18T10:43:55.980Z"
   },
   {
    "duration": 12,
    "start_time": "2022-03-18T10:44:29.328Z"
   },
   {
    "duration": 2456,
    "start_time": "2022-03-18T10:45:15.099Z"
   },
   {
    "duration": 2987,
    "start_time": "2022-03-18T10:45:25.981Z"
   },
   {
    "duration": 218,
    "start_time": "2022-03-18T10:46:25.266Z"
   },
   {
    "duration": 407,
    "start_time": "2022-03-18T10:48:07.063Z"
   },
   {
    "duration": 503,
    "start_time": "2022-03-18T10:49:52.376Z"
   },
   {
    "duration": 190,
    "start_time": "2022-03-18T10:56:45.461Z"
   },
   {
    "duration": 178,
    "start_time": "2022-03-18T10:56:59.347Z"
   },
   {
    "duration": 186,
    "start_time": "2022-03-18T10:58:28.555Z"
   },
   {
    "duration": 9,
    "start_time": "2022-03-18T13:24:11.895Z"
   },
   {
    "duration": 216,
    "start_time": "2022-03-18T13:24:35.508Z"
   },
   {
    "duration": 1338,
    "start_time": "2022-03-19T10:28:30.383Z"
   },
   {
    "duration": 65,
    "start_time": "2022-03-19T10:28:31.723Z"
   },
   {
    "duration": 14,
    "start_time": "2022-03-19T10:28:31.789Z"
   },
   {
    "duration": 9,
    "start_time": "2022-03-19T10:28:31.805Z"
   },
   {
    "duration": 12,
    "start_time": "2022-03-19T10:28:31.816Z"
   },
   {
    "duration": 9,
    "start_time": "2022-03-19T10:28:31.830Z"
   },
   {
    "duration": 8,
    "start_time": "2022-03-19T10:28:31.841Z"
   },
   {
    "duration": 193,
    "start_time": "2022-03-19T10:28:31.851Z"
   },
   {
    "duration": 109,
    "start_time": "2022-03-19T10:28:34.323Z"
   },
   {
    "duration": 138,
    "start_time": "2022-03-19T10:34:42.688Z"
   },
   {
    "duration": 103,
    "start_time": "2022-03-19T10:34:50.969Z"
   },
   {
    "duration": 143,
    "start_time": "2022-03-19T10:35:20.578Z"
   },
   {
    "duration": 138,
    "start_time": "2022-03-19T10:35:58.027Z"
   },
   {
    "duration": 96,
    "start_time": "2022-03-19T10:37:10.912Z"
   },
   {
    "duration": 95,
    "start_time": "2022-03-19T10:37:19.234Z"
   },
   {
    "duration": 162,
    "start_time": "2022-03-19T10:37:25.019Z"
   },
   {
    "duration": 97,
    "start_time": "2022-03-19T10:37:41.282Z"
   },
   {
    "duration": 135,
    "start_time": "2022-03-19T10:38:16.180Z"
   },
   {
    "duration": 161,
    "start_time": "2022-03-19T10:38:22.363Z"
   },
   {
    "duration": 149,
    "start_time": "2022-03-19T10:38:27.325Z"
   },
   {
    "duration": 134,
    "start_time": "2022-03-19T10:39:27.057Z"
   },
   {
    "duration": 138,
    "start_time": "2022-03-19T10:39:37.748Z"
   },
   {
    "duration": 164,
    "start_time": "2022-03-19T10:40:03.752Z"
   },
   {
    "duration": 138,
    "start_time": "2022-03-19T10:40:22.357Z"
   },
   {
    "duration": 231,
    "start_time": "2022-03-19T10:41:13.492Z"
   },
   {
    "duration": 143,
    "start_time": "2022-03-19T10:41:33.945Z"
   },
   {
    "duration": 233,
    "start_time": "2022-03-19T10:41:44.357Z"
   },
   {
    "duration": 139,
    "start_time": "2022-03-19T10:42:27.756Z"
   },
   {
    "duration": 147,
    "start_time": "2022-03-19T10:44:22.890Z"
   },
   {
    "duration": 161,
    "start_time": "2022-03-19T10:44:35.973Z"
   },
   {
    "duration": 145,
    "start_time": "2022-03-19T10:44:48.630Z"
   },
   {
    "duration": 151,
    "start_time": "2022-03-19T10:44:57.252Z"
   },
   {
    "duration": 156,
    "start_time": "2022-03-19T10:45:04.851Z"
   },
   {
    "duration": 159,
    "start_time": "2022-03-19T10:45:27.200Z"
   },
   {
    "duration": 154,
    "start_time": "2022-03-19T10:46:13.425Z"
   },
   {
    "duration": 158,
    "start_time": "2022-03-19T10:46:21.431Z"
   },
   {
    "duration": 156,
    "start_time": "2022-03-19T10:46:28.425Z"
   },
   {
    "duration": 95,
    "start_time": "2022-03-19T11:31:11.876Z"
   },
   {
    "duration": 6,
    "start_time": "2022-03-19T11:32:27.792Z"
   },
   {
    "duration": 6,
    "start_time": "2022-03-19T11:32:53.588Z"
   },
   {
    "duration": 84,
    "start_time": "2022-03-19T11:33:53.379Z"
   },
   {
    "duration": 10,
    "start_time": "2022-03-19T11:34:09.007Z"
   },
   {
    "duration": 164,
    "start_time": "2022-03-19T11:34:29.560Z"
   },
   {
    "duration": 168,
    "start_time": "2022-03-19T11:38:58.081Z"
   },
   {
    "duration": 161,
    "start_time": "2022-03-19T11:39:28.119Z"
   },
   {
    "duration": 159,
    "start_time": "2022-03-19T11:39:33.534Z"
   },
   {
    "duration": 174,
    "start_time": "2022-03-19T11:46:00.678Z"
   },
   {
    "duration": 6,
    "start_time": "2022-03-19T11:46:24.807Z"
   },
   {
    "duration": 5,
    "start_time": "2022-03-19T11:46:45.036Z"
   },
   {
    "duration": 155,
    "start_time": "2022-03-19T11:49:32.989Z"
   },
   {
    "duration": 242,
    "start_time": "2022-03-19T11:49:56.081Z"
   },
   {
    "duration": 8,
    "start_time": "2022-03-19T11:50:02.236Z"
   },
   {
    "duration": 7,
    "start_time": "2022-03-19T11:50:05.888Z"
   },
   {
    "duration": 12,
    "start_time": "2022-03-19T11:51:19.411Z"
   },
   {
    "duration": 9,
    "start_time": "2022-03-19T11:52:14.977Z"
   },
   {
    "duration": 9,
    "start_time": "2022-03-19T11:52:22.200Z"
   },
   {
    "duration": 8,
    "start_time": "2022-03-19T11:52:47.038Z"
   },
   {
    "duration": 10,
    "start_time": "2022-03-19T11:55:22.072Z"
   },
   {
    "duration": 7,
    "start_time": "2022-03-19T11:57:19.720Z"
   },
   {
    "duration": 161,
    "start_time": "2022-03-19T11:58:11.431Z"
   },
   {
    "duration": 174,
    "start_time": "2022-03-19T11:58:34.219Z"
   },
   {
    "duration": 7,
    "start_time": "2022-03-19T11:58:49.592Z"
   },
   {
    "duration": 13,
    "start_time": "2022-03-19T12:00:47.908Z"
   },
   {
    "duration": 13,
    "start_time": "2022-03-19T12:01:03.201Z"
   },
   {
    "duration": 175,
    "start_time": "2022-03-19T12:01:17.998Z"
   },
   {
    "duration": 169,
    "start_time": "2022-03-19T12:02:17.129Z"
   },
   {
    "duration": 183,
    "start_time": "2022-03-19T12:02:45.348Z"
   },
   {
    "duration": 244,
    "start_time": "2022-03-19T12:10:28.717Z"
   },
   {
    "duration": 2,
    "start_time": "2022-03-19T12:10:47.205Z"
   },
   {
    "duration": 67,
    "start_time": "2022-03-19T12:10:47.209Z"
   },
   {
    "duration": 11,
    "start_time": "2022-03-19T12:10:47.277Z"
   },
   {
    "duration": 9,
    "start_time": "2022-03-19T12:10:47.289Z"
   },
   {
    "duration": 13,
    "start_time": "2022-03-19T12:10:47.299Z"
   },
   {
    "duration": 9,
    "start_time": "2022-03-19T12:10:47.314Z"
   },
   {
    "duration": 8,
    "start_time": "2022-03-19T12:10:47.324Z"
   },
   {
    "duration": 170,
    "start_time": "2022-03-19T12:10:47.333Z"
   },
   {
    "duration": 105,
    "start_time": "2022-03-19T12:10:47.504Z"
   },
   {
    "duration": 172,
    "start_time": "2022-03-19T12:10:51.914Z"
   },
   {
    "duration": 170,
    "start_time": "2022-03-19T12:14:15.058Z"
   },
   {
    "duration": 177,
    "start_time": "2022-03-19T12:14:53.912Z"
   },
   {
    "duration": 174,
    "start_time": "2022-03-19T12:15:10.652Z"
   },
   {
    "duration": 8,
    "start_time": "2022-03-19T12:15:42.303Z"
   },
   {
    "duration": 172,
    "start_time": "2022-03-19T12:16:04.556Z"
   },
   {
    "duration": 7,
    "start_time": "2022-03-19T12:16:08.086Z"
   },
   {
    "duration": 175,
    "start_time": "2022-03-19T12:16:58.259Z"
   },
   {
    "duration": 7,
    "start_time": "2022-03-19T12:17:03.580Z"
   },
   {
    "duration": 5,
    "start_time": "2022-03-19T12:18:38.830Z"
   },
   {
    "duration": 9,
    "start_time": "2022-03-19T12:18:57.708Z"
   },
   {
    "duration": 6,
    "start_time": "2022-03-19T12:19:56.288Z"
   },
   {
    "duration": 6,
    "start_time": "2022-03-19T12:27:21.865Z"
   },
   {
    "duration": 14,
    "start_time": "2022-03-19T12:28:05.262Z"
   },
   {
    "duration": 12,
    "start_time": "2022-03-19T12:28:53.965Z"
   },
   {
    "duration": 15,
    "start_time": "2022-03-19T12:30:46.799Z"
   },
   {
    "duration": 14,
    "start_time": "2022-03-19T12:31:11.921Z"
   },
   {
    "duration": 13,
    "start_time": "2022-03-19T12:31:29.442Z"
   },
   {
    "duration": 9,
    "start_time": "2022-03-19T12:32:33.256Z"
   },
   {
    "duration": 10,
    "start_time": "2022-03-19T12:33:08.870Z"
   },
   {
    "duration": 160,
    "start_time": "2022-03-19T12:34:03.349Z"
   },
   {
    "duration": 187,
    "start_time": "2022-03-19T12:35:45.724Z"
   },
   {
    "duration": 275,
    "start_time": "2022-03-19T12:37:55.652Z"
   },
   {
    "duration": 189,
    "start_time": "2022-03-19T12:53:29.197Z"
   },
   {
    "duration": 13,
    "start_time": "2022-03-19T12:53:39.954Z"
   },
   {
    "duration": 8,
    "start_time": "2022-03-19T12:59:30.850Z"
   },
   {
    "duration": 9,
    "start_time": "2022-03-19T12:59:35.891Z"
   },
   {
    "duration": 10,
    "start_time": "2022-03-19T13:38:19.576Z"
   },
   {
    "duration": 13,
    "start_time": "2022-03-19T13:39:04.115Z"
   },
   {
    "duration": 10,
    "start_time": "2022-03-19T13:39:10.084Z"
   },
   {
    "duration": 12,
    "start_time": "2022-03-19T13:41:20.988Z"
   },
   {
    "duration": 10,
    "start_time": "2022-03-19T13:41:26.893Z"
   },
   {
    "duration": 7,
    "start_time": "2022-03-19T13:41:47.194Z"
   },
   {
    "duration": 6,
    "start_time": "2022-03-19T13:42:04.947Z"
   },
   {
    "duration": 9,
    "start_time": "2022-03-19T13:52:28.417Z"
   },
   {
    "duration": 12,
    "start_time": "2022-03-19T13:56:03.555Z"
   },
   {
    "duration": 10,
    "start_time": "2022-03-19T13:56:29.660Z"
   },
   {
    "duration": 10,
    "start_time": "2022-03-19T13:56:50.897Z"
   },
   {
    "duration": 9,
    "start_time": "2022-03-19T14:03:33.399Z"
   },
   {
    "duration": 10,
    "start_time": "2022-03-19T14:04:17.046Z"
   },
   {
    "duration": 14,
    "start_time": "2022-03-19T14:04:44.579Z"
   },
   {
    "duration": 10,
    "start_time": "2022-03-19T14:05:05.010Z"
   },
   {
    "duration": 2,
    "start_time": "2022-03-19T14:20:41.666Z"
   },
   {
    "duration": 6,
    "start_time": "2022-03-19T14:20:55.415Z"
   },
   {
    "duration": 329,
    "start_time": "2022-03-19T14:22:02.373Z"
   },
   {
    "duration": 13,
    "start_time": "2022-03-19T14:22:08.429Z"
   },
   {
    "duration": 11,
    "start_time": "2022-03-19T14:23:19.005Z"
   },
   {
    "duration": 11,
    "start_time": "2022-03-19T14:23:30.436Z"
   },
   {
    "duration": 8,
    "start_time": "2022-03-19T14:23:37.417Z"
   },
   {
    "duration": 7,
    "start_time": "2022-03-19T14:23:48.790Z"
   },
   {
    "duration": 15,
    "start_time": "2022-03-19T14:24:07.005Z"
   },
   {
    "duration": 7,
    "start_time": "2022-03-19T14:24:14.627Z"
   },
   {
    "duration": 11,
    "start_time": "2022-03-19T14:24:36.234Z"
   },
   {
    "duration": 7,
    "start_time": "2022-03-19T14:24:38.838Z"
   },
   {
    "duration": 10,
    "start_time": "2022-03-19T14:24:56.680Z"
   },
   {
    "duration": 15,
    "start_time": "2022-03-19T14:25:25.481Z"
   },
   {
    "duration": 13,
    "start_time": "2022-03-19T14:25:45.834Z"
   },
   {
    "duration": 17,
    "start_time": "2022-03-19T14:26:30.817Z"
   },
   {
    "duration": 14,
    "start_time": "2022-03-19T14:26:42.348Z"
   },
   {
    "duration": 10,
    "start_time": "2022-03-19T14:26:53.130Z"
   },
   {
    "duration": 7,
    "start_time": "2022-03-19T14:27:12.986Z"
   },
   {
    "duration": 9,
    "start_time": "2022-03-19T14:27:18.777Z"
   },
   {
    "duration": 8,
    "start_time": "2022-03-19T14:27:20.834Z"
   },
   {
    "duration": 7,
    "start_time": "2022-03-19T14:27:41.008Z"
   },
   {
    "duration": 4,
    "start_time": "2022-03-19T14:27:59.380Z"
   },
   {
    "duration": 7,
    "start_time": "2022-03-19T14:28:03.077Z"
   },
   {
    "duration": 3,
    "start_time": "2022-03-19T14:36:18.583Z"
   },
   {
    "duration": 14,
    "start_time": "2022-03-19T14:37:01.526Z"
   },
   {
    "duration": 11,
    "start_time": "2022-03-19T14:37:24.331Z"
   },
   {
    "duration": 4,
    "start_time": "2022-03-19T14:37:48.446Z"
   },
   {
    "duration": 20,
    "start_time": "2022-03-19T14:37:59.233Z"
   },
   {
    "duration": 15,
    "start_time": "2022-03-19T14:38:31.984Z"
   },
   {
    "duration": 12,
    "start_time": "2022-03-19T14:38:51.008Z"
   },
   {
    "duration": 2,
    "start_time": "2022-03-19T14:39:13.269Z"
   },
   {
    "duration": 8,
    "start_time": "2022-03-19T14:39:36.469Z"
   },
   {
    "duration": 4,
    "start_time": "2022-03-19T14:41:06.647Z"
   },
   {
    "duration": 3,
    "start_time": "2022-03-19T14:41:47.017Z"
   },
   {
    "duration": 6,
    "start_time": "2022-03-19T14:41:49.828Z"
   },
   {
    "duration": 18,
    "start_time": "2022-03-19T14:42:25.625Z"
   },
   {
    "duration": 176,
    "start_time": "2022-03-19T15:00:25.896Z"
   },
   {
    "duration": 3,
    "start_time": "2022-03-19T15:01:42.051Z"
   },
   {
    "duration": 10,
    "start_time": "2022-03-19T15:01:51.465Z"
   },
   {
    "duration": 3,
    "start_time": "2022-03-19T15:02:42.249Z"
   },
   {
    "duration": 16,
    "start_time": "2022-03-19T15:02:44.617Z"
   },
   {
    "duration": 3,
    "start_time": "2022-03-19T15:03:20.264Z"
   },
   {
    "duration": 19,
    "start_time": "2022-03-19T15:03:23.806Z"
   },
   {
    "duration": 3,
    "start_time": "2022-03-19T15:05:15.862Z"
   },
   {
    "duration": 55,
    "start_time": "2022-03-19T15:05:15.867Z"
   },
   {
    "duration": 12,
    "start_time": "2022-03-19T15:05:15.923Z"
   },
   {
    "duration": 7,
    "start_time": "2022-03-19T15:05:15.936Z"
   },
   {
    "duration": 14,
    "start_time": "2022-03-19T15:05:15.944Z"
   },
   {
    "duration": 11,
    "start_time": "2022-03-19T15:05:15.960Z"
   },
   {
    "duration": 29,
    "start_time": "2022-03-19T15:05:15.972Z"
   },
   {
    "duration": 170,
    "start_time": "2022-03-19T15:05:16.003Z"
   },
   {
    "duration": 109,
    "start_time": "2022-03-19T15:05:16.176Z"
   },
   {
    "duration": 177,
    "start_time": "2022-03-19T15:05:16.287Z"
   },
   {
    "duration": 6,
    "start_time": "2022-03-19T15:05:16.465Z"
   },
   {
    "duration": 313,
    "start_time": "2022-03-19T15:05:16.472Z"
   },
   {
    "duration": 9,
    "start_time": "2022-03-19T15:05:57.204Z"
   },
   {
    "duration": 9,
    "start_time": "2022-03-19T15:07:03.353Z"
   },
   {
    "duration": 9,
    "start_time": "2022-03-19T15:07:48.505Z"
   },
   {
    "duration": 7,
    "start_time": "2022-03-19T16:32:39.435Z"
   },
   {
    "duration": 5,
    "start_time": "2022-03-19T16:37:34.687Z"
   },
   {
    "duration": 11,
    "start_time": "2022-03-19T16:43:08.950Z"
   },
   {
    "duration": 23,
    "start_time": "2022-03-19T16:47:41.500Z"
   },
   {
    "duration": 21,
    "start_time": "2022-03-19T16:48:05.626Z"
   },
   {
    "duration": 21,
    "start_time": "2022-03-19T16:48:22.710Z"
   },
   {
    "duration": 22,
    "start_time": "2022-03-19T16:48:30.510Z"
   },
   {
    "duration": 25,
    "start_time": "2022-03-19T16:48:33.734Z"
   },
   {
    "duration": 21,
    "start_time": "2022-03-19T16:48:39.584Z"
   },
   {
    "duration": 22,
    "start_time": "2022-03-19T16:49:29.710Z"
   },
   {
    "duration": 28,
    "start_time": "2022-03-19T16:49:56.198Z"
   },
   {
    "duration": 13,
    "start_time": "2022-03-19T16:50:30.913Z"
   },
   {
    "duration": 14,
    "start_time": "2022-03-19T16:50:46.604Z"
   },
   {
    "duration": 13,
    "start_time": "2022-03-19T16:51:06.747Z"
   },
   {
    "duration": 15,
    "start_time": "2022-03-19T16:51:13.618Z"
   },
   {
    "duration": 8,
    "start_time": "2022-03-19T16:52:17.106Z"
   },
   {
    "duration": 20,
    "start_time": "2022-03-19T16:52:46.876Z"
   },
   {
    "duration": 24,
    "start_time": "2022-03-19T16:53:05.884Z"
   },
   {
    "duration": 9144,
    "start_time": "2022-03-19T16:53:39.609Z"
   },
   {
    "duration": 21,
    "start_time": "2022-03-19T16:54:09.614Z"
   },
   {
    "duration": 9,
    "start_time": "2022-03-19T17:02:21.521Z"
   },
   {
    "duration": 8,
    "start_time": "2022-03-19T17:02:24.707Z"
   },
   {
    "duration": 6,
    "start_time": "2022-03-19T17:03:06.042Z"
   },
   {
    "duration": 8,
    "start_time": "2022-03-19T17:03:52.538Z"
   },
   {
    "duration": 7,
    "start_time": "2022-03-19T17:04:19.012Z"
   },
   {
    "duration": 4,
    "start_time": "2022-03-19T17:04:59.555Z"
   },
   {
    "duration": 8,
    "start_time": "2022-03-19T17:06:09.142Z"
   },
   {
    "duration": 11,
    "start_time": "2022-03-19T17:06:35.400Z"
   },
   {
    "duration": 12,
    "start_time": "2022-03-19T17:07:02.538Z"
   },
   {
    "duration": 10,
    "start_time": "2022-03-19T17:10:55.832Z"
   },
   {
    "duration": 11,
    "start_time": "2022-03-19T17:11:56.912Z"
   },
   {
    "duration": 15,
    "start_time": "2022-03-19T17:12:05.739Z"
   },
   {
    "duration": 10,
    "start_time": "2022-03-19T17:12:26.303Z"
   },
   {
    "duration": 3613,
    "start_time": "2022-03-19T17:14:18.921Z"
   },
   {
    "duration": 7,
    "start_time": "2022-03-19T17:14:32.019Z"
   },
   {
    "duration": 198,
    "start_time": "2022-03-19T17:39:41.331Z"
   },
   {
    "duration": 5,
    "start_time": "2022-03-19T17:40:27.709Z"
   },
   {
    "duration": 10,
    "start_time": "2022-03-19T17:41:02.201Z"
   },
   {
    "duration": 3427,
    "start_time": "2022-03-19T17:41:14.382Z"
   },
   {
    "duration": 3,
    "start_time": "2022-03-19T17:42:08.048Z"
   },
   {
    "duration": 3487,
    "start_time": "2022-03-19T17:42:09.836Z"
   },
   {
    "duration": 7,
    "start_time": "2022-03-19T17:42:47.792Z"
   },
   {
    "duration": 3531,
    "start_time": "2022-03-19T17:43:17.111Z"
   },
   {
    "duration": 7,
    "start_time": "2022-03-19T17:43:46.918Z"
   },
   {
    "duration": 10,
    "start_time": "2022-03-19T17:44:20.797Z"
   },
   {
    "duration": 193,
    "start_time": "2022-03-19T17:44:24.423Z"
   },
   {
    "duration": 8,
    "start_time": "2022-03-19T17:44:33.370Z"
   },
   {
    "duration": 8,
    "start_time": "2022-03-19T17:44:36.119Z"
   },
   {
    "duration": 8,
    "start_time": "2022-03-19T17:44:38.636Z"
   },
   {
    "duration": 11,
    "start_time": "2022-03-19T17:44:45.541Z"
   },
   {
    "duration": 3,
    "start_time": "2022-03-19T17:45:30.954Z"
   },
   {
    "duration": 13,
    "start_time": "2022-03-19T17:45:33.013Z"
   },
   {
    "duration": 24,
    "start_time": "2022-03-19T17:45:53.738Z"
   },
   {
    "duration": 18,
    "start_time": "2022-03-19T17:47:04.138Z"
   },
   {
    "duration": 18,
    "start_time": "2022-03-19T17:47:39.225Z"
   },
   {
    "duration": 20,
    "start_time": "2022-03-19T17:47:50.514Z"
   },
   {
    "duration": 4,
    "start_time": "2022-03-19T17:48:17.362Z"
   },
   {
    "duration": 17,
    "start_time": "2022-03-19T17:48:19.440Z"
   },
   {
    "duration": 3,
    "start_time": "2022-03-19T17:49:59.189Z"
   },
   {
    "duration": 11,
    "start_time": "2022-03-19T17:50:01.232Z"
   },
   {
    "duration": 4,
    "start_time": "2022-03-19T17:50:22.354Z"
   },
   {
    "duration": 11,
    "start_time": "2022-03-19T17:50:23.954Z"
   },
   {
    "duration": 7,
    "start_time": "2022-03-19T17:50:48.208Z"
   },
   {
    "duration": 23,
    "start_time": "2022-03-19T17:50:50.055Z"
   },
   {
    "duration": 4,
    "start_time": "2022-03-19T17:50:57.070Z"
   },
   {
    "duration": 11,
    "start_time": "2022-03-19T17:50:59.930Z"
   },
   {
    "duration": 22,
    "start_time": "2022-03-19T17:55:13.289Z"
   },
   {
    "duration": 24,
    "start_time": "2022-03-19T17:55:21.687Z"
   },
   {
    "duration": 20,
    "start_time": "2022-03-19T17:58:28.925Z"
   },
   {
    "duration": 21,
    "start_time": "2022-03-19T18:02:28.444Z"
   },
   {
    "duration": 20,
    "start_time": "2022-03-19T18:02:35.790Z"
   },
   {
    "duration": 3,
    "start_time": "2022-03-19T18:03:40.437Z"
   },
   {
    "duration": 4,
    "start_time": "2022-03-19T18:04:05.019Z"
   },
   {
    "duration": 2,
    "start_time": "2022-03-19T18:08:08.145Z"
   },
   {
    "duration": 54,
    "start_time": "2022-03-21T08:40:10.258Z"
   },
   {
    "duration": 1389,
    "start_time": "2022-03-21T08:40:15.341Z"
   },
   {
    "duration": 57,
    "start_time": "2022-03-21T08:40:16.732Z"
   },
   {
    "duration": 15,
    "start_time": "2022-03-21T08:40:16.791Z"
   },
   {
    "duration": 20,
    "start_time": "2022-03-21T08:40:16.807Z"
   },
   {
    "duration": 21,
    "start_time": "2022-03-21T08:40:16.829Z"
   },
   {
    "duration": 22,
    "start_time": "2022-03-21T08:40:16.852Z"
   },
   {
    "duration": 17,
    "start_time": "2022-03-21T08:40:16.876Z"
   },
   {
    "duration": 211,
    "start_time": "2022-03-21T08:40:16.895Z"
   },
   {
    "duration": 125,
    "start_time": "2022-03-21T08:40:17.107Z"
   },
   {
    "duration": 192,
    "start_time": "2022-03-21T08:40:19.071Z"
   },
   {
    "duration": 191,
    "start_time": "2022-03-21T08:42:02.862Z"
   },
   {
    "duration": 11,
    "start_time": "2022-03-21T08:42:46.017Z"
   },
   {
    "duration": 4,
    "start_time": "2022-03-21T09:37:29.683Z"
   },
   {
    "duration": 59,
    "start_time": "2022-03-21T09:37:32.745Z"
   },
   {
    "duration": 215,
    "start_time": "2022-03-21T09:37:52.404Z"
   },
   {
    "duration": 8,
    "start_time": "2022-03-21T09:37:56.576Z"
   },
   {
    "duration": 24,
    "start_time": "2022-03-21T09:38:01.740Z"
   },
   {
    "duration": 4,
    "start_time": "2022-03-21T09:38:11.660Z"
   },
   {
    "duration": 16,
    "start_time": "2022-03-21T09:38:14.094Z"
   },
   {
    "duration": 8,
    "start_time": "2022-03-21T09:38:40.779Z"
   },
   {
    "duration": 4,
    "start_time": "2022-03-21T09:49:28.087Z"
   },
   {
    "duration": 4,
    "start_time": "2022-03-21T09:49:31.529Z"
   },
   {
    "duration": 4,
    "start_time": "2022-03-21T09:50:42.995Z"
   },
   {
    "duration": 7,
    "start_time": "2022-03-21T09:50:46.317Z"
   },
   {
    "duration": 3,
    "start_time": "2022-03-21T10:10:32.981Z"
   },
   {
    "duration": 3,
    "start_time": "2022-03-21T10:11:58.745Z"
   },
   {
    "duration": 15,
    "start_time": "2022-03-21T10:12:00.452Z"
   },
   {
    "duration": 3,
    "start_time": "2022-03-21T10:14:05.975Z"
   },
   {
    "duration": 6,
    "start_time": "2022-03-21T10:14:09.782Z"
   },
   {
    "duration": 12,
    "start_time": "2022-03-21T10:14:41.713Z"
   },
   {
    "duration": 8,
    "start_time": "2022-03-21T10:14:50.429Z"
   },
   {
    "duration": 3,
    "start_time": "2022-03-21T10:22:05.098Z"
   },
   {
    "duration": 8,
    "start_time": "2022-03-21T10:22:23.084Z"
   },
   {
    "duration": 13,
    "start_time": "2022-03-21T10:22:39.188Z"
   },
   {
    "duration": 3,
    "start_time": "2022-03-21T10:31:15.721Z"
   },
   {
    "duration": 2,
    "start_time": "2022-03-21T10:31:18.490Z"
   },
   {
    "duration": 4,
    "start_time": "2022-03-21T10:31:19.825Z"
   },
   {
    "duration": 5,
    "start_time": "2022-03-21T10:31:46.166Z"
   },
   {
    "duration": 4,
    "start_time": "2022-03-21T10:36:53.662Z"
   },
   {
    "duration": 6,
    "start_time": "2022-03-21T10:39:36.162Z"
   },
   {
    "duration": 9,
    "start_time": "2022-03-21T10:39:37.810Z"
   },
   {
    "duration": 4,
    "start_time": "2022-03-21T10:41:16.853Z"
   },
   {
    "duration": 169,
    "start_time": "2022-03-21T11:07:58.328Z"
   },
   {
    "duration": 10,
    "start_time": "2022-03-21T11:08:31.051Z"
   },
   {
    "duration": 147,
    "start_time": "2022-03-21T11:08:46.193Z"
   },
   {
    "duration": 7,
    "start_time": "2022-03-21T11:09:18.375Z"
   },
   {
    "duration": 7,
    "start_time": "2022-03-21T11:10:45.959Z"
   },
   {
    "duration": 188,
    "start_time": "2022-03-21T11:11:34.471Z"
   },
   {
    "duration": 7,
    "start_time": "2022-03-21T11:11:40.956Z"
   },
   {
    "duration": 25,
    "start_time": "2022-03-21T11:12:07.050Z"
   },
   {
    "duration": 187,
    "start_time": "2022-03-21T11:12:58.360Z"
   },
   {
    "duration": 8,
    "start_time": "2022-03-21T11:12:59.879Z"
   },
   {
    "duration": 4,
    "start_time": "2022-03-21T11:14:19.339Z"
   },
   {
    "duration": 148,
    "start_time": "2022-03-21T11:26:49.329Z"
   },
   {
    "duration": 132,
    "start_time": "2022-03-21T11:26:54.741Z"
   },
   {
    "duration": 141,
    "start_time": "2022-03-21T11:28:21.398Z"
   },
   {
    "duration": 217,
    "start_time": "2022-03-21T11:28:35.473Z"
   },
   {
    "duration": 124,
    "start_time": "2022-03-21T11:28:55.282Z"
   },
   {
    "duration": 10,
    "start_time": "2022-03-21T11:32:00.390Z"
   },
   {
    "duration": 131,
    "start_time": "2022-03-21T11:32:05.827Z"
   },
   {
    "duration": 545,
    "start_time": "2022-03-21T11:32:07.747Z"
   },
   {
    "duration": 516,
    "start_time": "2022-03-21T11:32:14.574Z"
   },
   {
    "duration": 525,
    "start_time": "2022-03-21T11:34:09.741Z"
   },
   {
    "duration": 605,
    "start_time": "2022-03-21T11:34:55.109Z"
   },
   {
    "duration": 596,
    "start_time": "2022-03-21T11:40:22.047Z"
   },
   {
    "duration": 546,
    "start_time": "2022-03-21T11:40:47.050Z"
   },
   {
    "duration": 35,
    "start_time": "2022-03-21T11:45:07.812Z"
   },
   {
    "duration": 230,
    "start_time": "2022-03-21T11:45:30.864Z"
   },
   {
    "duration": 954,
    "start_time": "2022-03-21T11:46:19.663Z"
   },
   {
    "duration": 855,
    "start_time": "2022-03-21T11:51:39.955Z"
   },
   {
    "duration": 1167,
    "start_time": "2022-03-21T11:52:02.853Z"
   },
   {
    "duration": 828,
    "start_time": "2022-03-21T11:52:32.035Z"
   },
   {
    "duration": 400,
    "start_time": "2022-03-21T11:53:13.148Z"
   },
   {
    "duration": 1008,
    "start_time": "2022-03-21T11:53:26.488Z"
   },
   {
    "duration": 10,
    "start_time": "2022-03-21T12:07:16.922Z"
   },
   {
    "duration": 13,
    "start_time": "2022-03-21T12:07:20.762Z"
   },
   {
    "duration": 584,
    "start_time": "2022-03-21T12:12:04.360Z"
   },
   {
    "duration": 10,
    "start_time": "2022-03-21T12:12:35.276Z"
   },
   {
    "duration": 146,
    "start_time": "2022-03-21T12:13:41.051Z"
   },
   {
    "duration": 158,
    "start_time": "2022-03-21T12:13:52.387Z"
   },
   {
    "duration": 171,
    "start_time": "2022-03-21T12:13:56.458Z"
   },
   {
    "duration": 175,
    "start_time": "2022-03-21T12:14:24.894Z"
   },
   {
    "duration": 176,
    "start_time": "2022-03-21T12:15:07.892Z"
   },
   {
    "duration": 172,
    "start_time": "2022-03-21T12:15:33.978Z"
   },
   {
    "duration": 171,
    "start_time": "2022-03-21T12:16:15.441Z"
   },
   {
    "duration": 185,
    "start_time": "2022-03-21T12:19:19.031Z"
   },
   {
    "duration": 165,
    "start_time": "2022-03-21T12:27:55.444Z"
   },
   {
    "duration": 48,
    "start_time": "2022-03-21T12:30:50.058Z"
   },
   {
    "duration": 2700,
    "start_time": "2022-03-21T12:30:59.852Z"
   },
   {
    "duration": 2785,
    "start_time": "2022-03-21T12:31:28.872Z"
   },
   {
    "duration": 43,
    "start_time": "2022-03-21T12:31:52.892Z"
   },
   {
    "duration": 46,
    "start_time": "2022-03-21T12:32:06.729Z"
   },
   {
    "duration": 124,
    "start_time": "2022-03-21T12:33:07.269Z"
   },
   {
    "duration": 55,
    "start_time": "2022-03-21T12:34:28.977Z"
   },
   {
    "duration": 57,
    "start_time": "2022-03-21T12:35:00.911Z"
   },
   {
    "duration": 63,
    "start_time": "2022-03-21T12:35:06.347Z"
   },
   {
    "duration": 2743,
    "start_time": "2022-03-22T08:40:30.307Z"
   },
   {
    "duration": 59,
    "start_time": "2022-03-22T08:40:33.052Z"
   },
   {
    "duration": 20,
    "start_time": "2022-03-22T08:40:33.113Z"
   },
   {
    "duration": 13,
    "start_time": "2022-03-22T08:40:33.135Z"
   },
   {
    "duration": 19,
    "start_time": "2022-03-22T08:40:33.150Z"
   },
   {
    "duration": 12,
    "start_time": "2022-03-22T08:40:33.171Z"
   },
   {
    "duration": 10,
    "start_time": "2022-03-22T08:40:33.185Z"
   },
   {
    "duration": 219,
    "start_time": "2022-03-22T08:40:33.197Z"
   },
   {
    "duration": 117,
    "start_time": "2022-03-22T08:40:33.418Z"
   },
   {
    "duration": 216,
    "start_time": "2022-03-22T08:40:33.536Z"
   },
   {
    "duration": 868,
    "start_time": "2022-03-22T08:40:33.754Z"
   },
   {
    "duration": 272,
    "start_time": "2022-03-22T08:40:34.623Z"
   },
   {
    "duration": 63,
    "start_time": "2022-03-22T08:40:34.896Z"
   },
   {
    "duration": 104,
    "start_time": "2022-03-22T08:42:25.823Z"
   },
   {
    "duration": 8,
    "start_time": "2022-03-22T08:42:54.797Z"
   },
   {
    "duration": 18,
    "start_time": "2022-03-22T08:43:01.051Z"
   },
   {
    "duration": 17,
    "start_time": "2022-03-22T08:43:34.189Z"
   },
   {
    "duration": 17,
    "start_time": "2022-03-22T09:06:22.008Z"
   },
   {
    "duration": 14,
    "start_time": "2022-03-22T09:06:32.008Z"
   },
   {
    "duration": 14,
    "start_time": "2022-03-22T09:06:44.604Z"
   },
   {
    "duration": 204,
    "start_time": "2022-03-22T09:50:49.560Z"
   },
   {
    "duration": 20,
    "start_time": "2022-03-22T10:01:44.967Z"
   },
   {
    "duration": 196,
    "start_time": "2022-03-22T10:01:52.725Z"
   },
   {
    "duration": 192,
    "start_time": "2022-03-22T10:06:18.461Z"
   },
   {
    "duration": 226,
    "start_time": "2022-03-22T10:42:27.668Z"
   },
   {
    "duration": 3877,
    "start_time": "2022-03-22T10:44:01.021Z"
   },
   {
    "duration": 860,
    "start_time": "2022-03-22T10:50:24.781Z"
   },
   {
    "duration": 852,
    "start_time": "2022-03-22T11:11:21.970Z"
   },
   {
    "duration": 564,
    "start_time": "2022-03-22T11:17:26.651Z"
   },
   {
    "duration": 2507,
    "start_time": "2022-03-22T11:19:32.973Z"
   },
   {
    "duration": 1024,
    "start_time": "2022-03-22T11:26:58.781Z"
   },
   {
    "duration": 586,
    "start_time": "2022-03-22T11:28:19.165Z"
   },
   {
    "duration": 19,
    "start_time": "2022-03-22T11:30:24.531Z"
   },
   {
    "duration": 25,
    "start_time": "2022-03-22T11:30:34.728Z"
   },
   {
    "duration": 997,
    "start_time": "2022-03-22T11:36:16.228Z"
   },
   {
    "duration": 11292,
    "start_time": "2022-03-22T11:36:26.887Z"
   },
   {
    "duration": 5827,
    "start_time": "2022-03-22T11:37:28.672Z"
   },
   {
    "duration": 319,
    "start_time": "2022-03-22T11:37:59.775Z"
   },
   {
    "duration": 951,
    "start_time": "2022-03-22T11:38:18.065Z"
   },
   {
    "duration": 5141,
    "start_time": "2022-03-22T11:43:13.795Z"
   },
   {
    "duration": 1061,
    "start_time": "2022-03-22T11:43:36.928Z"
   },
   {
    "duration": 993,
    "start_time": "2022-03-22T11:43:49.213Z"
   },
   {
    "duration": 7804,
    "start_time": "2022-03-22T11:44:20.803Z"
   },
   {
    "duration": 1149,
    "start_time": "2022-03-22T11:44:36.379Z"
   },
   {
    "duration": 1014,
    "start_time": "2022-03-22T11:44:43.271Z"
   },
   {
    "duration": 1000,
    "start_time": "2022-03-22T11:44:49.180Z"
   },
   {
    "duration": 636,
    "start_time": "2022-03-22T11:44:59.860Z"
   },
   {
    "duration": 544,
    "start_time": "2022-03-22T11:45:48.997Z"
   },
   {
    "duration": 518,
    "start_time": "2022-03-22T11:45:57.810Z"
   },
   {
    "duration": 1935,
    "start_time": "2022-03-22T11:46:03.784Z"
   },
   {
    "duration": 15,
    "start_time": "2022-03-22T11:46:14.332Z"
   },
   {
    "duration": 865,
    "start_time": "2022-03-22T11:46:58.290Z"
   },
   {
    "duration": 14,
    "start_time": "2022-03-22T11:47:31.652Z"
   },
   {
    "duration": 10,
    "start_time": "2022-03-22T11:47:36.241Z"
   },
   {
    "duration": 15,
    "start_time": "2022-03-22T11:47:47.069Z"
   },
   {
    "duration": 1189,
    "start_time": "2022-03-22T11:48:13.062Z"
   },
   {
    "duration": 842,
    "start_time": "2022-03-22T11:48:33.856Z"
   },
   {
    "duration": 1025,
    "start_time": "2022-03-22T11:48:47.297Z"
   },
   {
    "duration": 553,
    "start_time": "2022-03-22T11:49:04.307Z"
   },
   {
    "duration": 531,
    "start_time": "2022-03-22T11:49:59.408Z"
   },
   {
    "duration": 16,
    "start_time": "2022-03-22T11:50:09.862Z"
   },
   {
    "duration": 14,
    "start_time": "2022-03-22T11:50:21.991Z"
   },
   {
    "duration": 1505,
    "start_time": "2022-03-22T13:43:25.675Z"
   },
   {
    "duration": 964,
    "start_time": "2022-03-22T13:43:35.483Z"
   },
   {
    "duration": 642,
    "start_time": "2022-03-22T13:49:42.880Z"
   },
   {
    "duration": 621,
    "start_time": "2022-03-22T13:51:11.720Z"
   },
   {
    "duration": 960,
    "start_time": "2022-03-22T13:51:20.021Z"
   },
   {
    "duration": 595,
    "start_time": "2022-03-22T13:51:23.081Z"
   },
   {
    "duration": 700,
    "start_time": "2022-03-22T13:55:00.408Z"
   },
   {
    "duration": 14,
    "start_time": "2022-03-22T13:55:06.760Z"
   },
   {
    "duration": 3,
    "start_time": "2022-03-22T14:01:16.124Z"
   },
   {
    "duration": 4,
    "start_time": "2022-03-22T14:01:27.849Z"
   },
   {
    "duration": 9,
    "start_time": "2022-03-22T14:02:10.724Z"
   },
   {
    "duration": 22,
    "start_time": "2022-03-22T14:02:18.335Z"
   },
   {
    "duration": 17,
    "start_time": "2022-03-22T14:03:24.291Z"
   },
   {
    "duration": 26,
    "start_time": "2022-03-22T14:03:31.099Z"
   },
   {
    "duration": 34,
    "start_time": "2022-03-22T14:03:44.184Z"
   },
   {
    "duration": 3,
    "start_time": "2022-03-22T14:04:05.351Z"
   },
   {
    "duration": 22,
    "start_time": "2022-03-22T14:04:09.651Z"
   },
   {
    "duration": 16,
    "start_time": "2022-03-22T14:04:58.993Z"
   },
   {
    "duration": 923,
    "start_time": "2022-03-22T14:05:27.927Z"
   },
   {
    "duration": 4,
    "start_time": "2022-03-22T14:05:32.411Z"
   },
   {
    "duration": 16,
    "start_time": "2022-03-22T14:05:37.989Z"
   },
   {
    "duration": 16,
    "start_time": "2022-03-22T14:06:17.929Z"
   },
   {
    "duration": 18,
    "start_time": "2022-03-22T14:06:27.760Z"
   },
   {
    "duration": 3,
    "start_time": "2022-03-22T14:06:46.094Z"
   },
   {
    "duration": 3,
    "start_time": "2022-03-22T14:06:54.611Z"
   },
   {
    "duration": 58,
    "start_time": "2022-03-22T14:06:54.616Z"
   },
   {
    "duration": 13,
    "start_time": "2022-03-22T14:06:54.676Z"
   },
   {
    "duration": 11,
    "start_time": "2022-03-22T14:06:54.691Z"
   },
   {
    "duration": 31,
    "start_time": "2022-03-22T14:06:54.703Z"
   },
   {
    "duration": 16,
    "start_time": "2022-03-22T14:06:54.736Z"
   },
   {
    "duration": 9,
    "start_time": "2022-03-22T14:06:54.754Z"
   },
   {
    "duration": 198,
    "start_time": "2022-03-22T14:06:54.764Z"
   },
   {
    "duration": 125,
    "start_time": "2022-03-22T14:06:54.965Z"
   },
   {
    "duration": 193,
    "start_time": "2022-03-22T14:06:55.091Z"
   },
   {
    "duration": 789,
    "start_time": "2022-03-22T14:06:55.286Z"
   },
   {
    "duration": 12,
    "start_time": "2022-03-22T14:07:06.834Z"
   },
   {
    "duration": 5,
    "start_time": "2022-03-22T14:08:21.770Z"
   },
   {
    "duration": 15,
    "start_time": "2022-03-22T14:08:29.968Z"
   },
   {
    "duration": 12,
    "start_time": "2022-03-22T14:09:26.729Z"
   },
   {
    "duration": 9,
    "start_time": "2022-03-22T14:09:33.721Z"
   },
   {
    "duration": 16,
    "start_time": "2022-03-22T14:10:09.989Z"
   },
   {
    "duration": 15,
    "start_time": "2022-03-22T14:10:30.435Z"
   },
   {
    "duration": 16,
    "start_time": "2022-03-22T14:10:52.768Z"
   },
   {
    "duration": 3,
    "start_time": "2022-03-22T14:12:15.101Z"
   },
   {
    "duration": 6,
    "start_time": "2022-03-22T14:12:18.189Z"
   },
   {
    "duration": 16,
    "start_time": "2022-03-22T14:12:20.049Z"
   },
   {
    "duration": 11,
    "start_time": "2022-03-22T14:14:08.162Z"
   },
   {
    "duration": 16,
    "start_time": "2022-03-22T14:14:15.203Z"
   },
   {
    "duration": 16,
    "start_time": "2022-03-22T14:14:40.625Z"
   },
   {
    "duration": 11,
    "start_time": "2022-03-22T14:15:17.745Z"
   },
   {
    "duration": 10,
    "start_time": "2022-03-22T14:15:23.398Z"
   },
   {
    "duration": 11,
    "start_time": "2022-03-22T14:15:26.834Z"
   },
   {
    "duration": 1003,
    "start_time": "2022-03-22T14:15:28.601Z"
   },
   {
    "duration": 778,
    "start_time": "2022-03-22T14:16:26.661Z"
   },
   {
    "duration": 1227,
    "start_time": "2022-03-22T14:16:41.215Z"
   },
   {
    "duration": 638,
    "start_time": "2022-03-22T14:17:11.736Z"
   },
   {
    "duration": 733,
    "start_time": "2022-03-22T14:29:50.252Z"
   },
   {
    "duration": 631,
    "start_time": "2022-03-22T14:30:01.766Z"
   },
   {
    "duration": 1273,
    "start_time": "2022-03-22T16:10:48.845Z"
   },
   {
    "duration": 3921,
    "start_time": "2022-03-22T16:11:51.780Z"
   },
   {
    "duration": 4,
    "start_time": "2022-03-22T16:12:13.105Z"
   },
   {
    "duration": 59,
    "start_time": "2022-03-22T16:12:13.112Z"
   },
   {
    "duration": 13,
    "start_time": "2022-03-22T16:12:13.173Z"
   },
   {
    "duration": 9,
    "start_time": "2022-03-22T16:12:13.188Z"
   },
   {
    "duration": 37,
    "start_time": "2022-03-22T16:12:13.199Z"
   },
   {
    "duration": 16,
    "start_time": "2022-03-22T16:12:13.238Z"
   },
   {
    "duration": 14,
    "start_time": "2022-03-22T16:12:13.256Z"
   },
   {
    "duration": 288,
    "start_time": "2022-03-22T16:12:13.271Z"
   },
   {
    "duration": 173,
    "start_time": "2022-03-22T16:12:13.561Z"
   },
   {
    "duration": 293,
    "start_time": "2022-03-22T16:12:13.736Z"
   },
   {
    "duration": 1005,
    "start_time": "2022-03-22T16:12:14.034Z"
   },
   {
    "duration": 6,
    "start_time": "2022-03-22T16:12:15.041Z"
   },
   {
    "duration": 13,
    "start_time": "2022-03-22T16:12:15.049Z"
   },
   {
    "duration": 19,
    "start_time": "2022-03-22T16:12:15.064Z"
   },
   {
    "duration": 10,
    "start_time": "2022-03-22T16:12:15.085Z"
   },
   {
    "duration": 844,
    "start_time": "2022-03-22T16:12:15.096Z"
   },
   {
    "duration": 192,
    "start_time": "2022-03-22T16:12:15.941Z"
   },
   {
    "duration": 51,
    "start_time": "2022-03-22T16:12:16.135Z"
   },
   {
    "duration": 16,
    "start_time": "2022-03-22T16:12:53.204Z"
   },
   {
    "duration": 18,
    "start_time": "2022-03-22T16:14:39.287Z"
   },
   {
    "duration": 22,
    "start_time": "2022-03-22T16:15:17.272Z"
   },
   {
    "duration": 17,
    "start_time": "2022-03-22T16:15:24.491Z"
   },
   {
    "duration": 19,
    "start_time": "2022-03-22T16:15:38.467Z"
   },
   {
    "duration": 14,
    "start_time": "2022-03-22T16:16:22.706Z"
   },
   {
    "duration": 13,
    "start_time": "2022-03-22T16:16:32.582Z"
   },
   {
    "duration": 9,
    "start_time": "2022-03-22T16:17:48.514Z"
   },
   {
    "duration": 13,
    "start_time": "2022-03-22T16:18:08.857Z"
   },
   {
    "duration": 12,
    "start_time": "2022-03-22T16:22:31.221Z"
   },
   {
    "duration": 17,
    "start_time": "2022-03-22T16:29:29.843Z"
   },
   {
    "duration": 13,
    "start_time": "2022-03-22T16:29:56.838Z"
   },
   {
    "duration": 113,
    "start_time": "2022-03-23T07:13:31.399Z"
   },
   {
    "duration": 1872,
    "start_time": "2022-03-23T07:13:38.282Z"
   },
   {
    "duration": 76,
    "start_time": "2022-03-23T07:13:40.157Z"
   },
   {
    "duration": 23,
    "start_time": "2022-03-23T07:13:40.235Z"
   },
   {
    "duration": 37,
    "start_time": "2022-03-23T07:13:40.261Z"
   },
   {
    "duration": 36,
    "start_time": "2022-03-23T07:13:40.300Z"
   },
   {
    "duration": 25,
    "start_time": "2022-03-23T07:13:40.339Z"
   },
   {
    "duration": 16,
    "start_time": "2022-03-23T07:13:40.383Z"
   },
   {
    "duration": 448,
    "start_time": "2022-03-23T07:13:40.402Z"
   },
   {
    "duration": 197,
    "start_time": "2022-03-23T07:13:40.852Z"
   },
   {
    "duration": 347,
    "start_time": "2022-03-23T07:13:41.053Z"
   },
   {
    "duration": 1480,
    "start_time": "2022-03-23T07:13:41.402Z"
   },
   {
    "duration": 6,
    "start_time": "2022-03-23T07:13:42.885Z"
   },
   {
    "duration": 12,
    "start_time": "2022-03-23T07:13:42.893Z"
   },
   {
    "duration": 26,
    "start_time": "2022-03-23T07:13:42.908Z"
   },
   {
    "duration": 29,
    "start_time": "2022-03-23T07:13:42.936Z"
   },
   {
    "duration": 1363,
    "start_time": "2022-03-23T07:13:42.968Z"
   },
   {
    "duration": 437,
    "start_time": "2022-03-23T07:13:44.333Z"
   },
   {
    "duration": 114,
    "start_time": "2022-03-23T07:13:44.773Z"
   },
   {
    "duration": 21,
    "start_time": "2022-03-23T07:13:44.889Z"
   },
   {
    "duration": 22,
    "start_time": "2022-03-23T07:13:44.912Z"
   },
   {
    "duration": 1209,
    "start_time": "2022-03-23T07:13:44.937Z"
   },
   {
    "duration": 124,
    "start_time": "2022-03-23T07:13:52.344Z"
   },
   {
    "duration": 26,
    "start_time": "2022-03-23T07:14:38.171Z"
   },
   {
    "duration": 39,
    "start_time": "2022-03-23T07:15:40.170Z"
   },
   {
    "duration": 30,
    "start_time": "2022-03-23T07:15:49.159Z"
   },
   {
    "duration": 991,
    "start_time": "2022-03-23T07:16:06.119Z"
   },
   {
    "duration": 26,
    "start_time": "2022-03-23T07:16:09.653Z"
   },
   {
    "duration": 889,
    "start_time": "2022-03-23T07:16:21.284Z"
   },
   {
    "duration": 37,
    "start_time": "2022-03-23T07:16:41.997Z"
   },
   {
    "duration": 25,
    "start_time": "2022-03-23T07:16:49.790Z"
   },
   {
    "duration": 29,
    "start_time": "2022-03-23T07:17:05.078Z"
   },
   {
    "duration": 29,
    "start_time": "2022-03-23T07:17:46.047Z"
   },
   {
    "duration": 27,
    "start_time": "2022-03-23T07:17:50.811Z"
   },
   {
    "duration": 27,
    "start_time": "2022-03-23T07:18:30.179Z"
   },
   {
    "duration": 929,
    "start_time": "2022-03-23T07:18:45.843Z"
   },
   {
    "duration": 22,
    "start_time": "2022-03-23T07:21:21.387Z"
   },
   {
    "duration": 156,
    "start_time": "2022-03-23T07:21:58.406Z"
   },
   {
    "duration": 454,
    "start_time": "2022-03-23T07:22:08.374Z"
   },
   {
    "duration": 19,
    "start_time": "2022-03-23T07:26:58.609Z"
   },
   {
    "duration": 24,
    "start_time": "2022-03-23T07:27:06.723Z"
   },
   {
    "duration": 867,
    "start_time": "2022-03-23T07:28:19.069Z"
   },
   {
    "duration": 860,
    "start_time": "2022-03-23T07:28:43.300Z"
   },
   {
    "duration": 877,
    "start_time": "2022-03-23T07:29:16.440Z"
   },
   {
    "duration": 966,
    "start_time": "2022-03-23T07:29:26.754Z"
   },
   {
    "duration": 803,
    "start_time": "2022-03-23T07:29:32.180Z"
   },
   {
    "duration": 773,
    "start_time": "2022-03-23T07:30:02.502Z"
   },
   {
    "duration": 1048,
    "start_time": "2022-03-23T07:30:12.383Z"
   },
   {
    "duration": 880,
    "start_time": "2022-03-23T07:30:28.251Z"
   },
   {
    "duration": 890,
    "start_time": "2022-03-23T07:30:41.651Z"
   },
   {
    "duration": 896,
    "start_time": "2022-03-23T07:30:53.404Z"
   },
   {
    "duration": 878,
    "start_time": "2022-03-23T07:30:59.088Z"
   },
   {
    "duration": 1133,
    "start_time": "2022-03-23T07:33:18.953Z"
   },
   {
    "duration": 962,
    "start_time": "2022-03-23T07:33:52.492Z"
   },
   {
    "duration": 29,
    "start_time": "2022-03-23T07:34:34.073Z"
   },
   {
    "duration": 16,
    "start_time": "2022-03-23T07:34:53.763Z"
   },
   {
    "duration": 1286,
    "start_time": "2022-03-23T07:35:01.793Z"
   },
   {
    "duration": 16,
    "start_time": "2022-03-23T07:35:03.788Z"
   },
   {
    "duration": 928,
    "start_time": "2022-03-23T07:35:23.350Z"
   },
   {
    "duration": 1026,
    "start_time": "2022-03-23T07:35:47.767Z"
   },
   {
    "duration": 1051,
    "start_time": "2022-03-23T07:36:56.133Z"
   },
   {
    "duration": 855,
    "start_time": "2022-03-23T07:37:02.568Z"
   },
   {
    "duration": 1017,
    "start_time": "2022-03-23T07:37:30.393Z"
   },
   {
    "duration": 1265,
    "start_time": "2022-03-23T07:39:08.830Z"
   },
   {
    "duration": 27,
    "start_time": "2022-03-23T07:39:49.320Z"
   },
   {
    "duration": 20,
    "start_time": "2022-03-23T07:40:12.799Z"
   },
   {
    "duration": 31,
    "start_time": "2022-03-23T07:40:18.966Z"
   },
   {
    "duration": 37,
    "start_time": "2022-03-23T07:40:30.742Z"
   },
   {
    "duration": 15,
    "start_time": "2022-03-23T07:40:43.293Z"
   },
   {
    "duration": 36,
    "start_time": "2022-03-23T07:40:48.069Z"
   },
   {
    "duration": 5100,
    "start_time": "2022-03-23T07:42:10.780Z"
   },
   {
    "duration": 1087,
    "start_time": "2022-03-23T07:47:14.117Z"
   },
   {
    "duration": 20,
    "start_time": "2022-03-23T07:47:35.905Z"
   },
   {
    "duration": 1382,
    "start_time": "2022-03-23T08:07:13.977Z"
   },
   {
    "duration": 1003,
    "start_time": "2022-03-23T08:07:34.397Z"
   },
   {
    "duration": 869,
    "start_time": "2022-03-23T08:07:46.688Z"
   },
   {
    "duration": 46,
    "start_time": "2022-03-23T14:32:03.406Z"
   },
   {
    "duration": 1346,
    "start_time": "2022-03-23T14:32:07.753Z"
   },
   {
    "duration": 59,
    "start_time": "2022-03-23T14:32:09.102Z"
   },
   {
    "duration": 15,
    "start_time": "2022-03-23T14:32:09.162Z"
   },
   {
    "duration": 11,
    "start_time": "2022-03-23T14:32:09.180Z"
   },
   {
    "duration": 25,
    "start_time": "2022-03-23T14:32:09.192Z"
   },
   {
    "duration": 12,
    "start_time": "2022-03-23T14:32:09.218Z"
   },
   {
    "duration": 12,
    "start_time": "2022-03-23T14:32:09.231Z"
   },
   {
    "duration": 247,
    "start_time": "2022-03-23T14:32:09.245Z"
   },
   {
    "duration": 133,
    "start_time": "2022-03-23T14:32:09.494Z"
   },
   {
    "duration": 223,
    "start_time": "2022-03-23T14:32:09.630Z"
   },
   {
    "duration": 994,
    "start_time": "2022-03-23T14:32:09.855Z"
   },
   {
    "duration": 4,
    "start_time": "2022-03-23T14:32:10.850Z"
   },
   {
    "duration": 7,
    "start_time": "2022-03-23T14:32:10.856Z"
   },
   {
    "duration": 11,
    "start_time": "2022-03-23T14:32:10.865Z"
   },
   {
    "duration": 10,
    "start_time": "2022-03-23T14:32:10.877Z"
   },
   {
    "duration": 931,
    "start_time": "2022-03-23T14:32:10.888Z"
   },
   {
    "duration": 198,
    "start_time": "2022-03-23T14:32:11.821Z"
   },
   {
    "duration": 47,
    "start_time": "2022-03-23T14:32:12.021Z"
   },
   {
    "duration": 232,
    "start_time": "2022-03-23T14:32:12.069Z"
   },
   {
    "duration": 20,
    "start_time": "2022-03-23T14:32:17.603Z"
   },
   {
    "duration": 21,
    "start_time": "2022-03-23T14:32:44.672Z"
   },
   {
    "duration": 18,
    "start_time": "2022-03-23T14:32:56.912Z"
   },
   {
    "duration": 23,
    "start_time": "2022-03-23T14:33:10.304Z"
   },
   {
    "duration": 19,
    "start_time": "2022-03-23T14:33:29.471Z"
   },
   {
    "duration": 18,
    "start_time": "2022-03-23T14:33:40.792Z"
   },
   {
    "duration": 25,
    "start_time": "2022-03-23T14:33:54.159Z"
   },
   {
    "duration": 160,
    "start_time": "2022-03-23T14:34:41.231Z"
   },
   {
    "duration": 6,
    "start_time": "2022-03-23T14:34:57.282Z"
   },
   {
    "duration": 18,
    "start_time": "2022-03-23T14:35:10.491Z"
   },
   {
    "duration": 9,
    "start_time": "2022-03-23T14:35:22.720Z"
   },
   {
    "duration": 8,
    "start_time": "2022-03-23T14:35:30.973Z"
   },
   {
    "duration": 8,
    "start_time": "2022-03-23T14:35:36.980Z"
   },
   {
    "duration": 7,
    "start_time": "2022-03-23T14:35:49.248Z"
   },
   {
    "duration": 3,
    "start_time": "2022-03-23T14:36:01.699Z"
   },
   {
    "duration": 7,
    "start_time": "2022-03-23T14:36:05.773Z"
   },
   {
    "duration": 7,
    "start_time": "2022-03-23T14:36:11.844Z"
   },
   {
    "duration": 1582,
    "start_time": "2022-03-23T14:36:26.421Z"
   },
   {
    "duration": 1197,
    "start_time": "2022-03-23T14:36:35.612Z"
   },
   {
    "duration": 2,
    "start_time": "2022-03-23T14:36:41.508Z"
   },
   {
    "duration": 49,
    "start_time": "2022-03-23T14:36:41.515Z"
   },
   {
    "duration": 13,
    "start_time": "2022-03-23T14:36:41.566Z"
   },
   {
    "duration": 30,
    "start_time": "2022-03-23T14:36:41.581Z"
   },
   {
    "duration": 17,
    "start_time": "2022-03-23T14:36:41.613Z"
   },
   {
    "duration": 11,
    "start_time": "2022-03-23T14:36:41.632Z"
   },
   {
    "duration": 9,
    "start_time": "2022-03-23T14:36:41.645Z"
   },
   {
    "duration": 209,
    "start_time": "2022-03-23T14:36:41.655Z"
   },
   {
    "duration": 114,
    "start_time": "2022-03-23T14:36:41.866Z"
   },
   {
    "duration": 207,
    "start_time": "2022-03-23T14:36:41.981Z"
   },
   {
    "duration": 880,
    "start_time": "2022-03-23T14:36:42.191Z"
   },
   {
    "duration": 4,
    "start_time": "2022-03-23T14:36:43.073Z"
   },
   {
    "duration": 8,
    "start_time": "2022-03-23T14:36:43.078Z"
   },
   {
    "duration": 24,
    "start_time": "2022-03-23T14:36:43.087Z"
   },
   {
    "duration": 9,
    "start_time": "2022-03-23T14:36:43.113Z"
   },
   {
    "duration": 1023,
    "start_time": "2022-03-23T14:36:43.124Z"
   },
   {
    "duration": 178,
    "start_time": "2022-03-23T14:36:44.148Z"
   },
   {
    "duration": 51,
    "start_time": "2022-03-23T14:36:46.806Z"
   },
   {
    "duration": 52,
    "start_time": "2022-03-23T14:36:53.873Z"
   },
   {
    "duration": 19,
    "start_time": "2022-03-23T14:36:58.953Z"
   },
   {
    "duration": 78,
    "start_time": "2022-03-23T14:37:15.303Z"
   },
   {
    "duration": 199,
    "start_time": "2022-03-23T14:37:22.666Z"
   },
   {
    "duration": 285,
    "start_time": "2022-03-23T14:37:30.155Z"
   },
   {
    "duration": 17,
    "start_time": "2022-03-23T14:38:32.763Z"
   },
   {
    "duration": 17,
    "start_time": "2022-03-23T14:38:38.014Z"
   },
   {
    "duration": 9,
    "start_time": "2022-03-23T14:38:44.614Z"
   },
   {
    "duration": 1297,
    "start_time": "2022-03-23T14:38:51.155Z"
   },
   {
    "duration": 20,
    "start_time": "2022-03-23T14:38:55.574Z"
   },
   {
    "duration": 10,
    "start_time": "2022-03-23T14:40:53.692Z"
   },
   {
    "duration": 14,
    "start_time": "2022-03-23T14:41:03.227Z"
   },
   {
    "duration": 14,
    "start_time": "2022-03-23T14:42:01.730Z"
   },
   {
    "duration": 16,
    "start_time": "2022-03-23T14:42:22.990Z"
   },
   {
    "duration": 67,
    "start_time": "2022-03-23T14:43:35.959Z"
   },
   {
    "duration": 23,
    "start_time": "2022-03-23T14:43:44.488Z"
   },
   {
    "duration": 211,
    "start_time": "2022-03-23T14:44:10.759Z"
   },
   {
    "duration": 51,
    "start_time": "2022-03-23T14:45:40.497Z"
   },
   {
    "duration": 72,
    "start_time": "2022-03-23T14:45:52.529Z"
   },
   {
    "duration": 9,
    "start_time": "2022-03-23T14:46:27.987Z"
   },
   {
    "duration": 10,
    "start_time": "2022-03-23T14:46:53.613Z"
   },
   {
    "duration": 17,
    "start_time": "2022-03-23T14:47:06.678Z"
   },
   {
    "duration": 214,
    "start_time": "2022-03-23T14:47:35.809Z"
   },
   {
    "duration": 17,
    "start_time": "2022-03-23T14:47:51.902Z"
   },
   {
    "duration": 16,
    "start_time": "2022-03-23T14:47:59.639Z"
   },
   {
    "duration": 15,
    "start_time": "2022-03-23T14:56:28.070Z"
   },
   {
    "duration": 15,
    "start_time": "2022-03-23T14:56:51.566Z"
   },
   {
    "duration": 14,
    "start_time": "2022-03-23T14:58:28.212Z"
   },
   {
    "duration": 14,
    "start_time": "2022-03-23T14:59:39.723Z"
   },
   {
    "duration": 16,
    "start_time": "2022-03-23T15:00:00.593Z"
   },
   {
    "duration": 16,
    "start_time": "2022-03-23T15:00:49.571Z"
   },
   {
    "duration": 14,
    "start_time": "2022-03-23T15:01:27.341Z"
   },
   {
    "duration": 210,
    "start_time": "2022-03-23T15:11:21.046Z"
   },
   {
    "duration": 73,
    "start_time": "2022-03-23T15:12:45.681Z"
   },
   {
    "duration": 215,
    "start_time": "2022-03-23T15:13:26.264Z"
   },
   {
    "duration": 17,
    "start_time": "2022-03-23T15:33:02.550Z"
   },
   {
    "duration": 51,
    "start_time": "2022-03-23T15:50:14.415Z"
   },
   {
    "duration": 52,
    "start_time": "2022-03-23T18:46:56.336Z"
   },
   {
    "duration": 126,
    "start_time": "2022-03-23T18:47:35.263Z"
   },
   {
    "duration": 12,
    "start_time": "2022-03-23T18:47:43.002Z"
   },
   {
    "duration": 780,
    "start_time": "2022-03-23T18:54:06.625Z"
   },
   {
    "duration": 25,
    "start_time": "2022-03-23T19:02:21.505Z"
   },
   {
    "duration": 17,
    "start_time": "2022-03-23T19:02:46.853Z"
   },
   {
    "duration": 23,
    "start_time": "2022-03-23T19:03:09.692Z"
   },
   {
    "duration": 16,
    "start_time": "2022-03-23T19:03:30.852Z"
   },
   {
    "duration": 7,
    "start_time": "2022-03-23T19:04:02.329Z"
   },
   {
    "duration": 48,
    "start_time": "2022-03-23T19:05:05.372Z"
   },
   {
    "duration": 12,
    "start_time": "2022-03-23T19:05:07.231Z"
   },
   {
    "duration": 8,
    "start_time": "2022-03-23T19:05:43.369Z"
   },
   {
    "duration": 17,
    "start_time": "2022-03-23T19:06:48.764Z"
   },
   {
    "duration": 14,
    "start_time": "2022-03-23T19:06:59.161Z"
   },
   {
    "duration": 31,
    "start_time": "2022-03-23T19:13:42.595Z"
   },
   {
    "duration": 30,
    "start_time": "2022-03-23T19:15:10.798Z"
   },
   {
    "duration": 37,
    "start_time": "2022-03-23T19:15:26.245Z"
   },
   {
    "duration": 11,
    "start_time": "2022-03-23T19:17:35.391Z"
   },
   {
    "duration": 14,
    "start_time": "2022-03-23T19:17:56.611Z"
   },
   {
    "duration": 12,
    "start_time": "2022-03-23T19:18:06.089Z"
   },
   {
    "duration": 50,
    "start_time": "2022-03-23T19:20:05.722Z"
   },
   {
    "duration": 46,
    "start_time": "2022-03-23T19:22:01.312Z"
   },
   {
    "duration": 61,
    "start_time": "2022-03-23T19:22:24.108Z"
   },
   {
    "duration": 51,
    "start_time": "2022-03-23T19:23:03.571Z"
   },
   {
    "duration": 52,
    "start_time": "2022-03-23T19:23:53.937Z"
   },
   {
    "duration": 109,
    "start_time": "2022-03-23T19:24:07.874Z"
   },
   {
    "duration": 45,
    "start_time": "2022-03-23T19:24:26.430Z"
   },
   {
    "duration": 48,
    "start_time": "2022-03-23T19:24:41.937Z"
   },
   {
    "duration": 45,
    "start_time": "2022-03-23T19:24:52.143Z"
   },
   {
    "duration": 3,
    "start_time": "2022-03-23T19:25:29.219Z"
   },
   {
    "duration": 56,
    "start_time": "2022-03-23T19:25:29.224Z"
   },
   {
    "duration": 14,
    "start_time": "2022-03-23T19:25:29.282Z"
   },
   {
    "duration": 14,
    "start_time": "2022-03-23T19:25:29.297Z"
   },
   {
    "duration": 14,
    "start_time": "2022-03-23T19:25:29.314Z"
   },
   {
    "duration": 12,
    "start_time": "2022-03-23T19:25:29.330Z"
   },
   {
    "duration": 8,
    "start_time": "2022-03-23T19:25:29.343Z"
   },
   {
    "duration": 196,
    "start_time": "2022-03-23T19:25:29.352Z"
   },
   {
    "duration": 121,
    "start_time": "2022-03-23T19:25:29.550Z"
   },
   {
    "duration": 300,
    "start_time": "2022-03-23T19:25:29.673Z"
   },
   {
    "duration": 974,
    "start_time": "2022-03-23T19:25:29.975Z"
   },
   {
    "duration": 4,
    "start_time": "2022-03-23T19:25:30.951Z"
   },
   {
    "duration": 29,
    "start_time": "2022-03-23T19:25:30.957Z"
   },
   {
    "duration": 35,
    "start_time": "2022-03-23T19:25:30.989Z"
   },
   {
    "duration": 13,
    "start_time": "2022-03-23T19:25:31.026Z"
   },
   {
    "duration": 912,
    "start_time": "2022-03-23T19:25:31.041Z"
   },
   {
    "duration": 194,
    "start_time": "2022-03-23T19:25:31.955Z"
   },
   {
    "duration": 165,
    "start_time": "2022-03-23T19:25:32.151Z"
   },
   {
    "duration": 213,
    "start_time": "2022-03-23T19:25:32.318Z"
   },
   {
    "duration": 18,
    "start_time": "2022-03-23T19:25:32.533Z"
   },
   {
    "duration": 1141,
    "start_time": "2022-03-23T19:25:32.552Z"
   },
   {
    "duration": 15,
    "start_time": "2022-03-23T19:25:33.695Z"
   },
   {
    "duration": 23,
    "start_time": "2022-03-23T19:26:37.505Z"
   },
   {
    "duration": 858,
    "start_time": "2022-03-23T19:26:50.875Z"
   },
   {
    "duration": 13,
    "start_time": "2022-03-23T19:26:58.005Z"
   },
   {
    "duration": 18,
    "start_time": "2022-03-23T19:27:03.793Z"
   },
   {
    "duration": 20,
    "start_time": "2022-03-23T19:27:07.044Z"
   },
   {
    "duration": 25,
    "start_time": "2022-03-23T19:28:10.871Z"
   },
   {
    "duration": 26,
    "start_time": "2022-03-23T19:28:57.739Z"
   },
   {
    "duration": 65,
    "start_time": "2022-03-23T19:31:10.239Z"
   },
   {
    "duration": 227,
    "start_time": "2022-03-23T19:31:23.779Z"
   },
   {
    "duration": 35,
    "start_time": "2022-03-23T19:31:31.739Z"
   },
   {
    "duration": 24,
    "start_time": "2022-03-23T19:31:38.881Z"
   },
   {
    "duration": 25,
    "start_time": "2022-03-23T19:31:45.007Z"
   },
   {
    "duration": 12,
    "start_time": "2022-03-23T19:34:39.400Z"
   },
   {
    "duration": 27,
    "start_time": "2022-03-23T19:34:49.983Z"
   },
   {
    "duration": 63,
    "start_time": "2022-03-23T19:36:07.269Z"
   },
   {
    "duration": 17,
    "start_time": "2022-03-23T19:36:13.988Z"
   },
   {
    "duration": 15,
    "start_time": "2022-03-23T19:36:57.885Z"
   },
   {
    "duration": 20,
    "start_time": "2022-03-23T19:37:07.798Z"
   },
   {
    "duration": 25,
    "start_time": "2022-03-23T19:38:08.105Z"
   },
   {
    "duration": 22,
    "start_time": "2022-03-23T19:39:34.009Z"
   },
   {
    "duration": 26,
    "start_time": "2022-03-23T19:39:48.104Z"
   },
   {
    "duration": 26,
    "start_time": "2022-03-23T19:40:45.521Z"
   },
   {
    "duration": 26,
    "start_time": "2022-03-23T19:41:39.088Z"
   },
   {
    "duration": 79,
    "start_time": "2022-03-24T09:11:43.467Z"
   },
   {
    "duration": 1817,
    "start_time": "2022-03-24T09:11:47.999Z"
   },
   {
    "duration": 66,
    "start_time": "2022-03-24T09:11:49.819Z"
   },
   {
    "duration": 21,
    "start_time": "2022-03-24T09:11:49.888Z"
   },
   {
    "duration": 14,
    "start_time": "2022-03-24T09:11:49.912Z"
   },
   {
    "duration": 42,
    "start_time": "2022-03-24T09:11:49.928Z"
   },
   {
    "duration": 16,
    "start_time": "2022-03-24T09:11:49.973Z"
   },
   {
    "duration": 24,
    "start_time": "2022-03-24T09:11:49.991Z"
   },
   {
    "duration": 341,
    "start_time": "2022-03-24T09:11:50.017Z"
   },
   {
    "duration": 181,
    "start_time": "2022-03-24T09:11:50.367Z"
   },
   {
    "duration": 332,
    "start_time": "2022-03-24T09:11:50.551Z"
   },
   {
    "duration": 1446,
    "start_time": "2022-03-24T09:11:50.886Z"
   },
   {
    "duration": 4,
    "start_time": "2022-03-24T09:11:52.335Z"
   },
   {
    "duration": 40,
    "start_time": "2022-03-24T09:11:52.342Z"
   },
   {
    "duration": 25,
    "start_time": "2022-03-24T09:11:52.385Z"
   },
   {
    "duration": 29,
    "start_time": "2022-03-24T09:11:52.412Z"
   },
   {
    "duration": 1344,
    "start_time": "2022-03-24T09:11:52.443Z"
   },
   {
    "duration": 310,
    "start_time": "2022-03-24T09:11:53.790Z"
   },
   {
    "duration": 89,
    "start_time": "2022-03-24T09:11:54.103Z"
   },
   {
    "duration": 340,
    "start_time": "2022-03-24T09:11:54.195Z"
   },
   {
    "duration": 37,
    "start_time": "2022-03-24T09:11:54.537Z"
   },
   {
    "duration": 2451,
    "start_time": "2022-03-24T09:11:54.576Z"
   },
   {
    "duration": 22,
    "start_time": "2022-03-24T09:12:03.886Z"
   },
   {
    "duration": 20,
    "start_time": "2022-03-24T09:12:56.930Z"
   },
   {
    "duration": 93,
    "start_time": "2022-03-24T09:19:57.474Z"
   },
   {
    "duration": 111,
    "start_time": "2022-03-24T09:20:13.928Z"
   },
   {
    "duration": 108,
    "start_time": "2022-03-24T09:20:34.270Z"
   },
   {
    "duration": 90,
    "start_time": "2022-03-24T09:21:20.623Z"
   },
   {
    "duration": 13,
    "start_time": "2022-03-24T09:41:00.936Z"
   },
   {
    "duration": 2816,
    "start_time": "2022-03-24T09:41:22.168Z"
   },
   {
    "duration": 95,
    "start_time": "2022-03-24T09:41:47.683Z"
   },
   {
    "duration": 5261,
    "start_time": "2022-03-24T09:48:32.102Z"
   },
   {
    "duration": 142,
    "start_time": "2022-03-24T09:49:05.531Z"
   },
   {
    "duration": 121,
    "start_time": "2022-03-24T09:52:31.690Z"
   },
   {
    "duration": 151,
    "start_time": "2022-03-24T09:52:38.790Z"
   },
   {
    "duration": 4304,
    "start_time": "2022-03-24T09:54:45.530Z"
   },
   {
    "duration": 55,
    "start_time": "2022-03-24T09:55:47.389Z"
   },
   {
    "duration": 59,
    "start_time": "2022-03-24T10:02:19.382Z"
   },
   {
    "duration": 57,
    "start_time": "2022-03-24T10:02:30.158Z"
   },
   {
    "duration": 51,
    "start_time": "2022-03-24T10:30:53.251Z"
   },
   {
    "duration": 34,
    "start_time": "2022-03-24T10:31:28.263Z"
   },
   {
    "duration": 46,
    "start_time": "2022-03-24T10:31:37.722Z"
   },
   {
    "duration": 48,
    "start_time": "2022-03-24T10:32:23.991Z"
   },
   {
    "duration": 44,
    "start_time": "2022-03-24T10:32:42.603Z"
   },
   {
    "duration": 49,
    "start_time": "2022-03-24T10:33:14.209Z"
   },
   {
    "duration": 46,
    "start_time": "2022-03-24T10:34:26.847Z"
   },
   {
    "duration": 46,
    "start_time": "2022-03-24T10:34:39.629Z"
   },
   {
    "duration": 52,
    "start_time": "2022-03-24T10:34:49.695Z"
   },
   {
    "duration": 46,
    "start_time": "2022-03-24T10:34:56.819Z"
   },
   {
    "duration": 47,
    "start_time": "2022-03-24T10:35:02.279Z"
   },
   {
    "duration": 45,
    "start_time": "2022-03-24T10:35:09.297Z"
   },
   {
    "duration": 38,
    "start_time": "2022-03-24T10:35:15.975Z"
   },
   {
    "duration": 47,
    "start_time": "2022-03-24T10:35:37.927Z"
   },
   {
    "duration": 486,
    "start_time": "2022-03-24T10:38:48.027Z"
   },
   {
    "duration": 285,
    "start_time": "2022-03-24T10:39:07.923Z"
   },
   {
    "duration": 46,
    "start_time": "2022-03-24T10:39:41.598Z"
   },
   {
    "duration": 294,
    "start_time": "2022-03-24T10:39:45.008Z"
   },
   {
    "duration": 19,
    "start_time": "2022-03-24T12:30:50.717Z"
   },
   {
    "duration": 13,
    "start_time": "2022-03-24T12:31:10.870Z"
   },
   {
    "duration": 18,
    "start_time": "2022-03-24T12:31:34.705Z"
   },
   {
    "duration": 16,
    "start_time": "2022-03-24T12:31:43.932Z"
   },
   {
    "duration": 3,
    "start_time": "2022-03-24T12:31:47.267Z"
   },
   {
    "duration": 68,
    "start_time": "2022-03-24T12:31:47.273Z"
   },
   {
    "duration": 24,
    "start_time": "2022-03-24T12:31:47.344Z"
   },
   {
    "duration": 11,
    "start_time": "2022-03-24T12:31:47.371Z"
   },
   {
    "duration": 24,
    "start_time": "2022-03-24T12:31:47.384Z"
   },
   {
    "duration": 18,
    "start_time": "2022-03-24T12:31:51.539Z"
   },
   {
    "duration": 14,
    "start_time": "2022-03-24T12:34:24.110Z"
   },
   {
    "duration": 82,
    "start_time": "2022-03-24T12:36:34.905Z"
   },
   {
    "duration": 318,
    "start_time": "2022-03-24T13:08:56.166Z"
   },
   {
    "duration": 182,
    "start_time": "2022-03-24T13:10:12.305Z"
   },
   {
    "duration": 15,
    "start_time": "2022-03-24T13:11:43.694Z"
   },
   {
    "duration": 19,
    "start_time": "2022-03-24T13:11:58.151Z"
   },
   {
    "duration": 177,
    "start_time": "2022-03-24T13:12:23.536Z"
   },
   {
    "duration": 339,
    "start_time": "2022-03-24T13:14:19.467Z"
   },
   {
    "duration": 1788,
    "start_time": "2022-03-24T13:21:05.045Z"
   },
   {
    "duration": 1388,
    "start_time": "2022-03-24T13:31:32.496Z"
   },
   {
    "duration": 19,
    "start_time": "2022-03-24T13:32:08.834Z"
   },
   {
    "duration": 140,
    "start_time": "2022-03-24T13:32:16.572Z"
   },
   {
    "duration": 1600,
    "start_time": "2022-03-24T13:32:50.046Z"
   },
   {
    "duration": 1495,
    "start_time": "2022-03-24T13:33:23.943Z"
   },
   {
    "duration": 11,
    "start_time": "2022-03-24T13:35:29.047Z"
   },
   {
    "duration": 27,
    "start_time": "2022-03-24T13:35:54.776Z"
   },
   {
    "duration": 4,
    "start_time": "2022-03-24T13:36:04.081Z"
   },
   {
    "duration": 79,
    "start_time": "2022-03-24T13:36:04.090Z"
   },
   {
    "duration": 12,
    "start_time": "2022-03-24T13:36:04.172Z"
   },
   {
    "duration": 20,
    "start_time": "2022-03-24T13:36:04.187Z"
   },
   {
    "duration": 20,
    "start_time": "2022-03-24T13:36:04.209Z"
   },
   {
    "duration": 47,
    "start_time": "2022-03-24T13:36:04.232Z"
   },
   {
    "duration": 32,
    "start_time": "2022-03-24T13:36:04.281Z"
   },
   {
    "duration": 308,
    "start_time": "2022-03-24T13:36:04.315Z"
   },
   {
    "duration": 200,
    "start_time": "2022-03-24T13:36:04.625Z"
   },
   {
    "duration": 342,
    "start_time": "2022-03-24T13:36:04.828Z"
   },
   {
    "duration": 27,
    "start_time": "2022-03-24T13:36:07.659Z"
   },
   {
    "duration": 25,
    "start_time": "2022-03-24T13:45:09.193Z"
   },
   {
    "duration": 25,
    "start_time": "2022-03-24T13:53:17.060Z"
   },
   {
    "duration": 5,
    "start_time": "2022-03-24T13:53:20.022Z"
   },
   {
    "duration": 9,
    "start_time": "2022-03-24T13:53:31.349Z"
   },
   {
    "duration": 29,
    "start_time": "2022-03-24T13:53:40.072Z"
   },
   {
    "duration": 27,
    "start_time": "2022-03-24T13:53:57.266Z"
   },
   {
    "duration": 32,
    "start_time": "2022-03-24T13:54:59.580Z"
   },
   {
    "duration": 6,
    "start_time": "2022-03-24T14:03:17.224Z"
   },
   {
    "duration": 15,
    "start_time": "2022-03-24T14:03:23.353Z"
   },
   {
    "duration": 137,
    "start_time": "2022-03-24T14:03:52.090Z"
   },
   {
    "duration": 23,
    "start_time": "2022-03-24T14:03:58.095Z"
   },
   {
    "duration": 806,
    "start_time": "2022-03-24T14:05:26.561Z"
   },
   {
    "duration": 297,
    "start_time": "2022-03-24T14:11:54.573Z"
   },
   {
    "duration": 298,
    "start_time": "2022-03-24T14:14:11.640Z"
   },
   {
    "duration": 30,
    "start_time": "2022-03-24T14:14:34.955Z"
   },
   {
    "duration": 298,
    "start_time": "2022-03-24T14:14:58.608Z"
   },
   {
    "duration": 84,
    "start_time": "2022-03-24T14:24:37.944Z"
   },
   {
    "duration": 23,
    "start_time": "2022-03-24T14:24:48.501Z"
   },
   {
    "duration": 13,
    "start_time": "2022-03-24T14:25:12.521Z"
   },
   {
    "duration": 19,
    "start_time": "2022-03-24T14:43:47.562Z"
   },
   {
    "duration": 73,
    "start_time": "2022-03-24T14:47:26.300Z"
   },
   {
    "duration": 14,
    "start_time": "2022-03-24T14:47:28.807Z"
   },
   {
    "duration": 20,
    "start_time": "2022-03-24T14:47:36.788Z"
   },
   {
    "duration": 84,
    "start_time": "2022-03-24T14:48:32.238Z"
   },
   {
    "duration": 16,
    "start_time": "2022-03-24T14:48:34.271Z"
   },
   {
    "duration": 21,
    "start_time": "2022-03-24T14:48:37.369Z"
   },
   {
    "duration": 87,
    "start_time": "2022-03-24T14:50:19.455Z"
   },
   {
    "duration": 17,
    "start_time": "2022-03-24T14:50:23.699Z"
   },
   {
    "duration": 30,
    "start_time": "2022-03-24T14:50:28.339Z"
   },
   {
    "duration": 86,
    "start_time": "2022-03-24T14:51:24.544Z"
   },
   {
    "duration": 14,
    "start_time": "2022-03-24T14:51:26.801Z"
   },
   {
    "duration": 22,
    "start_time": "2022-03-24T14:51:29.984Z"
   },
   {
    "duration": 98,
    "start_time": "2022-03-24T14:51:47.040Z"
   },
   {
    "duration": 20,
    "start_time": "2022-03-24T14:51:48.923Z"
   },
   {
    "duration": 21,
    "start_time": "2022-03-24T14:51:51.859Z"
   },
   {
    "duration": 313,
    "start_time": "2022-03-24T14:55:17.670Z"
   },
   {
    "duration": 324,
    "start_time": "2022-03-24T14:56:16.179Z"
   },
   {
    "duration": 1365,
    "start_time": "2022-03-24T17:06:47.954Z"
   },
   {
    "duration": 14,
    "start_time": "2022-03-24T17:07:02.551Z"
   },
   {
    "duration": 7,
    "start_time": "2022-03-24T17:08:17.593Z"
   },
   {
    "duration": 27,
    "start_time": "2022-03-24T17:09:39.542Z"
   },
   {
    "duration": 23,
    "start_time": "2022-03-24T17:09:56.714Z"
   },
   {
    "duration": 490,
    "start_time": "2022-03-24T17:10:39.796Z"
   },
   {
    "duration": 30,
    "start_time": "2022-03-24T17:10:48.463Z"
   },
   {
    "duration": 27,
    "start_time": "2022-03-24T17:20:40.683Z"
   },
   {
    "duration": 37,
    "start_time": "2022-03-24T17:21:04.495Z"
   },
   {
    "duration": 36,
    "start_time": "2022-03-24T17:21:49.816Z"
   },
   {
    "duration": 37,
    "start_time": "2022-03-24T17:22:13.444Z"
   },
   {
    "duration": 101,
    "start_time": "2022-03-24T17:23:45.876Z"
   },
   {
    "duration": 42,
    "start_time": "2022-03-24T17:26:36.172Z"
   },
   {
    "duration": 300,
    "start_time": "2022-03-24T17:27:48.046Z"
   },
   {
    "duration": 46,
    "start_time": "2022-03-24T17:43:13.526Z"
   },
   {
    "duration": 257,
    "start_time": "2022-03-24T17:44:25.113Z"
   },
   {
    "duration": 430,
    "start_time": "2022-03-24T17:44:33.199Z"
   },
   {
    "duration": 276,
    "start_time": "2022-03-24T17:44:48.072Z"
   },
   {
    "duration": 42,
    "start_time": "2022-03-24T17:46:56.941Z"
   },
   {
    "duration": 41,
    "start_time": "2022-03-24T17:47:52.310Z"
   },
   {
    "duration": 41,
    "start_time": "2022-03-24T17:48:12.062Z"
   },
   {
    "duration": 331,
    "start_time": "2022-03-24T17:48:14.894Z"
   },
   {
    "duration": 110,
    "start_time": "2022-03-24T17:52:29.825Z"
   },
   {
    "duration": 166,
    "start_time": "2022-03-24T18:35:30.384Z"
   },
   {
    "duration": 181,
    "start_time": "2022-03-24T18:35:55.933Z"
   },
   {
    "duration": 1483,
    "start_time": "2022-03-25T07:14:09.350Z"
   },
   {
    "duration": 55,
    "start_time": "2022-03-25T07:14:10.835Z"
   },
   {
    "duration": 14,
    "start_time": "2022-03-25T07:14:10.892Z"
   },
   {
    "duration": 15,
    "start_time": "2022-03-25T07:14:10.908Z"
   },
   {
    "duration": 12,
    "start_time": "2022-03-25T07:14:10.925Z"
   },
   {
    "duration": 20,
    "start_time": "2022-03-25T07:14:10.939Z"
   },
   {
    "duration": 15,
    "start_time": "2022-03-25T07:14:10.982Z"
   },
   {
    "duration": 388,
    "start_time": "2022-03-25T07:14:10.999Z"
   },
   {
    "duration": 152,
    "start_time": "2022-03-25T07:14:11.390Z"
   },
   {
    "duration": 272,
    "start_time": "2022-03-25T07:14:11.545Z"
   },
   {
    "duration": 19,
    "start_time": "2022-03-25T07:14:11.819Z"
   },
   {
    "duration": 20,
    "start_time": "2022-03-25T07:14:11.840Z"
   },
   {
    "duration": 25,
    "start_time": "2022-03-25T07:14:11.881Z"
   },
   {
    "duration": 16,
    "start_time": "2022-03-25T07:14:11.908Z"
   },
   {
    "duration": 8,
    "start_time": "2022-03-25T07:14:11.925Z"
   },
   {
    "duration": 15,
    "start_time": "2022-03-25T07:14:11.935Z"
   },
   {
    "duration": 598,
    "start_time": "2022-03-25T07:14:11.951Z"
   },
   {
    "duration": 158,
    "start_time": "2022-03-25T07:14:12.551Z"
   },
   {
    "duration": 58,
    "start_time": "2022-03-25T07:14:12.710Z"
   },
   {
    "duration": 263,
    "start_time": "2022-03-25T07:14:12.770Z"
   },
   {
    "duration": 1166,
    "start_time": "2022-03-25T07:14:13.035Z"
   },
   {
    "duration": 15,
    "start_time": "2022-03-25T07:14:14.203Z"
   },
   {
    "duration": 35,
    "start_time": "2022-03-25T07:14:14.220Z"
   },
   {
    "duration": 45,
    "start_time": "2022-03-25T07:14:14.257Z"
   },
   {
    "duration": 254,
    "start_time": "2022-03-25T07:14:14.304Z"
   },
   {
    "duration": 302,
    "start_time": "2022-03-25T09:41:58.409Z"
   },
   {
    "duration": 5100,
    "start_time": "2022-03-25T19:28:50.684Z"
   },
   {
    "duration": 204,
    "start_time": "2022-03-25T19:28:55.786Z"
   },
   {
    "duration": 21,
    "start_time": "2022-03-25T19:28:55.992Z"
   },
   {
    "duration": 21,
    "start_time": "2022-03-25T19:28:56.085Z"
   },
   {
    "duration": 82,
    "start_time": "2022-03-25T19:28:56.108Z"
   },
   {
    "duration": 94,
    "start_time": "2022-03-25T19:28:56.193Z"
   },
   {
    "duration": 16,
    "start_time": "2022-03-25T19:28:56.290Z"
   },
   {
    "duration": 925,
    "start_time": "2022-03-25T19:28:56.308Z"
   },
   {
    "duration": 192,
    "start_time": "2022-03-25T19:28:57.235Z"
   },
   {
    "duration": 345,
    "start_time": "2022-03-25T19:28:57.429Z"
   },
   {
    "duration": 27,
    "start_time": "2022-03-25T19:28:57.776Z"
   },
   {
    "duration": 36,
    "start_time": "2022-03-25T19:28:57.805Z"
   },
   {
    "duration": 43,
    "start_time": "2022-03-25T19:28:57.844Z"
   },
   {
    "duration": 44,
    "start_time": "2022-03-25T19:28:57.889Z"
   },
   {
    "duration": 14,
    "start_time": "2022-03-25T19:28:57.936Z"
   },
   {
    "duration": 41,
    "start_time": "2022-03-25T19:28:57.952Z"
   },
   {
    "duration": 834,
    "start_time": "2022-03-25T19:28:57.996Z"
   },
   {
    "duration": 327,
    "start_time": "2022-03-25T19:28:58.833Z"
   },
   {
    "duration": 103,
    "start_time": "2022-03-25T19:28:59.163Z"
   },
   {
    "duration": 433,
    "start_time": "2022-03-25T19:28:59.268Z"
   },
   {
    "duration": 1189,
    "start_time": "2022-03-25T19:28:59.703Z"
   },
   {
    "duration": 20,
    "start_time": "2022-03-25T19:29:00.895Z"
   },
   {
    "duration": 41,
    "start_time": "2022-03-25T19:29:00.917Z"
   },
   {
    "duration": 40,
    "start_time": "2022-03-25T19:29:00.985Z"
   },
   {
    "duration": 334,
    "start_time": "2022-03-25T19:29:01.027Z"
   }
  ],
  "kernelspec": {
   "display_name": "Python 3 (ipykernel)",
   "language": "python",
   "name": "python3"
  },
  "language_info": {
   "codemirror_mode": {
    "name": "ipython",
    "version": 3
   },
   "file_extension": ".py",
   "mimetype": "text/x-python",
   "name": "python",
   "nbconvert_exporter": "python",
   "pygments_lexer": "ipython3",
   "version": "3.7.8"
  },
  "toc": {
   "base_numbering": 1,
   "nav_menu": {},
   "number_sections": true,
   "sideBar": true,
   "skip_h1_title": true,
   "title_cell": "Table of Contents",
   "title_sidebar": "Contents",
   "toc_cell": false,
   "toc_position": {
    "height": "calc(100% - 180px)",
    "left": "10px",
    "top": "150px",
    "width": "165px"
   },
   "toc_section_display": true,
   "toc_window_display": false
  }
 },
 "nbformat": 4,
 "nbformat_minor": 2
}
