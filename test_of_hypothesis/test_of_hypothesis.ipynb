{
 "cells": [
  {
   "cell_type": "markdown",
   "metadata": {},
   "source": [
    "# Проверка гипотез по увеличению выручки "
   ]
  },
  {
   "cell_type": "markdown",
   "metadata": {},
   "source": [
    "**Цель проекта** заключается в проверке гипотез по увеличению выручки для крупного интернет-магазина. \n",
    "\n",
    "В ходе исследования:\n",
    "\n",
    "- осуществим приоритизацию гипотез, \n",
    "- проведем A/B-тест и проанализируем результаты."
   ]
  },
  {
   "cell_type": "markdown",
   "metadata": {
    "toc": true
   },
   "source": [
    "<h1>Содержание исследования<span class=\"tocSkip\"></span></h1>\n",
    "<div class=\"toc\"><ul class=\"toc-item\"><li><span><a href=\"#Приоритизация-гипотез\" data-toc-modified-id=\"Приоритизация-гипотез-1\"><span class=\"toc-item-num\">1&nbsp;&nbsp;</span>Приоритизация гипотез</a></span></li><li><span><a href=\"#Подсчет-кумулятивных-метрик\" data-toc-modified-id=\"Подсчет-кумулятивных-метрик-2\"><span class=\"toc-item-num\">2&nbsp;&nbsp;</span>Подсчет кумулятивных метрик</a></span><ul class=\"toc-item\"><li><span><a href=\"#Построение-графика-кумулятивной-выручки-по-группам\" data-toc-modified-id=\"Построение-графика-кумулятивной-выручки-по-группам-2.1\"><span class=\"toc-item-num\">2.1&nbsp;&nbsp;</span>Построение графика кумулятивной выручки по группам</a></span></li><li><span><a href=\"#Построение-графика-кумулятивного-среднего-чека-по-группам\" data-toc-modified-id=\"Построение-графика-кумулятивного-среднего-чека-по-группам-2.2\"><span class=\"toc-item-num\">2.2&nbsp;&nbsp;</span>Построение графика кумулятивного среднего чека по группам</a></span></li><li><span><a href=\"#Построение-графика-относительного-изменения-кумулятивного-среднего-чека-группы-B-к-группе-A\" data-toc-modified-id=\"Построение-графика-относительного-изменения-кумулятивного-среднего-чека-группы-B-к-группе-A-2.3\"><span class=\"toc-item-num\">2.3&nbsp;&nbsp;</span>Построение графика относительного изменения кумулятивного среднего чека группы B к группе A</a></span></li><li><span><a href=\"#Построение-графика-кумулятивной-конверсии-по-группам\" data-toc-modified-id=\"Построение-графика-кумулятивной-конверсии-по-группам-2.4\"><span class=\"toc-item-num\">2.4&nbsp;&nbsp;</span>Построение графика кумулятивной конверсии по группам</a></span></li><li><span><a href=\"#Построение--графика-относительного-изменения-кумулятивной-конверсии-группы-B-к-группе-A\" data-toc-modified-id=\"Построение--графика-относительного-изменения-кумулятивной-конверсии-группы-B-к-группе-A-2.5\"><span class=\"toc-item-num\">2.5&nbsp;&nbsp;</span>Построение  графика относительного изменения кумулятивной конверсии группы B к группе A</a></span></li></ul></li><li><span><a href=\"#Анализ-выбросов-и-всплесков\" data-toc-modified-id=\"Анализ-выбросов-и-всплесков-3\"><span class=\"toc-item-num\">3&nbsp;&nbsp;</span>Анализ выбросов и всплесков</a></span><ul class=\"toc-item\"><li><span><a href=\"#Построение-точечного-графика-количества-заказов-по-пользователям\" data-toc-modified-id=\"Построение-точечного-графика-количества-заказов-по-пользователям-3.1\"><span class=\"toc-item-num\">3.1&nbsp;&nbsp;</span>Построение точечного графика количества заказов по пользователям</a></span></li><li><span><a href=\"#Подсчет-95-й-и-99-й-перцентили-количества-заказов-на-пользователя.\" data-toc-modified-id=\"Подсчет-95-й-и-99-й-перцентили-количества-заказов-на-пользователя.-3.2\"><span class=\"toc-item-num\">3.2&nbsp;&nbsp;</span>Подсчет 95-й и 99-й перцентили количества заказов на пользователя.</a></span></li><li><span><a href=\"#Построение-точечного-графика-стоимостей-заказов.\" data-toc-modified-id=\"Построение-точечного-графика-стоимостей-заказов.-3.3\"><span class=\"toc-item-num\">3.3&nbsp;&nbsp;</span>Построение точечного графика стоимостей заказов.</a></span></li><li><span><a href=\"#Подсчет-95-й-и-99-й-перцентили-стоимости-заказов.\" data-toc-modified-id=\"Подсчет-95-й-и-99-й-перцентили-стоимости-заказов.-3.4\"><span class=\"toc-item-num\">3.4&nbsp;&nbsp;</span>Подсчет 95-й и 99-й перцентили стоимости заказов.</a></span></li></ul></li><li><span><a href=\"#Подсчет-статистической-значимости\" data-toc-modified-id=\"Подсчет-статистической-значимости-4\"><span class=\"toc-item-num\">4&nbsp;&nbsp;</span>Подсчет статистической значимости</a></span><ul class=\"toc-item\"><li><span><a href=\"#Статистическая-значимость-различий-в-конверсии-между-группами-по-«сырым»-данным\" data-toc-modified-id=\"Статистическая-значимость-различий-в-конверсии-между-группами-по-«сырым»-данным-4.1\"><span class=\"toc-item-num\">4.1&nbsp;&nbsp;</span>Статистическая значимость различий в конверсии между группами по «сырым» данным</a></span></li><li><span><a href=\"#Cтатистическая-значимость-различий-в-среднем-чеке-заказа-между-группами-по-«сырым»-данным.\" data-toc-modified-id=\"Cтатистическая-значимость-различий-в-среднем-чеке-заказа-между-группами-по-«сырым»-данным.-4.2\"><span class=\"toc-item-num\">4.2&nbsp;&nbsp;</span>Cтатистическая значимость различий в среднем чеке заказа между группами по «сырым» данным.</a></span></li><li><span><a href=\"#Cтатистическая-значимость-различий-в-конверсии-между-группами-по-«очищенным»-данным.\" data-toc-modified-id=\"Cтатистическая-значимость-различий-в-конверсии-между-группами-по-«очищенным»-данным.-4.3\"><span class=\"toc-item-num\">4.3&nbsp;&nbsp;</span>Cтатистическая значимость различий в конверсии между группами по «очищенным» данным.</a></span></li><li><span><a href=\"#Cтатистическая-значимость-различий-в-среднем-чеке-заказа-между-группами-по-«очищенным»-данным.\" data-toc-modified-id=\"Cтатистическая-значимость-различий-в-среднем-чеке-заказа-между-группами-по-«очищенным»-данным.-4.4\"><span class=\"toc-item-num\">4.4&nbsp;&nbsp;</span>Cтатистическая значимость различий в среднем чеке заказа между группами по «очищенным» данным.</a></span></li></ul></li><li><span><a href=\"#Решение-по-результатам-теста\" data-toc-modified-id=\"Решение-по-результатам-теста-5\"><span class=\"toc-item-num\">5&nbsp;&nbsp;</span>Решение по результатам теста</a></span></li><li><span><a href=\"#Общий-вывод\" data-toc-modified-id=\"Общий-вывод-6\"><span class=\"toc-item-num\">6&nbsp;&nbsp;</span>Общий вывод</a></span></li></ul></div>"
   ]
  },
  {
   "cell_type": "markdown",
   "metadata": {},
   "source": [
    "## Приоритизация гипотез "
   ]
  },
  {
   "cell_type": "markdown",
   "metadata": {},
   "source": [
    "Изучим файл с гипотезами по увеличению выручки интернет-магазина"
   ]
  },
  {
   "cell_type": "code",
   "execution_count": 1,
   "metadata": {},
   "outputs": [],
   "source": [
    "import pandas as pd \n",
    "import datetime as dt\n",
    "import numpy as np \n",
    "import scipy.stats as stats\n",
    "import matplotlib.pyplot as plt"
   ]
  },
  {
   "cell_type": "code",
   "execution_count": 2,
   "metadata": {},
   "outputs": [
    {
     "data": {
      "text/html": [
       "<div>\n",
       "<style scoped>\n",
       "    .dataframe tbody tr th:only-of-type {\n",
       "        vertical-align: middle;\n",
       "    }\n",
       "\n",
       "    .dataframe tbody tr th {\n",
       "        vertical-align: top;\n",
       "    }\n",
       "\n",
       "    .dataframe thead th {\n",
       "        text-align: right;\n",
       "    }\n",
       "</style>\n",
       "<table border=\"1\" class=\"dataframe\">\n",
       "  <thead>\n",
       "    <tr style=\"text-align: right;\">\n",
       "      <th></th>\n",
       "      <th>Hypothesis</th>\n",
       "      <th>Reach</th>\n",
       "      <th>Impact</th>\n",
       "      <th>Confidence</th>\n",
       "      <th>Efforts</th>\n",
       "    </tr>\n",
       "  </thead>\n",
       "  <tbody>\n",
       "    <tr>\n",
       "      <td>0</td>\n",
       "      <td>Добавить два новых канала привлечения трафика, что позволит привлекать на 30% больше пользователей</td>\n",
       "      <td>3</td>\n",
       "      <td>10</td>\n",
       "      <td>8</td>\n",
       "      <td>6</td>\n",
       "    </tr>\n",
       "    <tr>\n",
       "      <td>1</td>\n",
       "      <td>Запустить собственную службу доставки, что сократит срок доставки заказов</td>\n",
       "      <td>2</td>\n",
       "      <td>5</td>\n",
       "      <td>4</td>\n",
       "      <td>10</td>\n",
       "    </tr>\n",
       "    <tr>\n",
       "      <td>2</td>\n",
       "      <td>Добавить блоки рекомендаций товаров на сайт интернет магазина, чтобы повысить конверсию и средний чек заказа</td>\n",
       "      <td>8</td>\n",
       "      <td>3</td>\n",
       "      <td>7</td>\n",
       "      <td>3</td>\n",
       "    </tr>\n",
       "    <tr>\n",
       "      <td>3</td>\n",
       "      <td>Изменить структура категорий, что увеличит конверсию, т.к. пользователи быстрее найдут нужный товар</td>\n",
       "      <td>8</td>\n",
       "      <td>3</td>\n",
       "      <td>3</td>\n",
       "      <td>8</td>\n",
       "    </tr>\n",
       "    <tr>\n",
       "      <td>4</td>\n",
       "      <td>Изменить цвет фона главной страницы, чтобы увеличить вовлеченность пользователей</td>\n",
       "      <td>3</td>\n",
       "      <td>1</td>\n",
       "      <td>1</td>\n",
       "      <td>1</td>\n",
       "    </tr>\n",
       "    <tr>\n",
       "      <td>5</td>\n",
       "      <td>Добавить страницу отзывов клиентов о магазине, что позволит увеличить количество заказов</td>\n",
       "      <td>3</td>\n",
       "      <td>2</td>\n",
       "      <td>2</td>\n",
       "      <td>3</td>\n",
       "    </tr>\n",
       "    <tr>\n",
       "      <td>6</td>\n",
       "      <td>Показать на главной странице баннеры с актуальными акциями и распродажами, чтобы увеличить конверсию</td>\n",
       "      <td>5</td>\n",
       "      <td>3</td>\n",
       "      <td>8</td>\n",
       "      <td>3</td>\n",
       "    </tr>\n",
       "    <tr>\n",
       "      <td>7</td>\n",
       "      <td>Добавить форму подписки на все основные страницы, чтобы собрать базу клиентов для email-рассылок</td>\n",
       "      <td>10</td>\n",
       "      <td>7</td>\n",
       "      <td>8</td>\n",
       "      <td>5</td>\n",
       "    </tr>\n",
       "    <tr>\n",
       "      <td>8</td>\n",
       "      <td>Запустить акцию, дающую скидку на товар в день рождения</td>\n",
       "      <td>1</td>\n",
       "      <td>9</td>\n",
       "      <td>9</td>\n",
       "      <td>5</td>\n",
       "    </tr>\n",
       "  </tbody>\n",
       "</table>\n",
       "</div>"
      ],
      "text/plain": [
       "                                                                                                     Hypothesis  \\\n",
       "0            Добавить два новых канала привлечения трафика, что позволит привлекать на 30% больше пользователей   \n",
       "1                                     Запустить собственную службу доставки, что сократит срок доставки заказов   \n",
       "2  Добавить блоки рекомендаций товаров на сайт интернет магазина, чтобы повысить конверсию и средний чек заказа   \n",
       "3           Изменить структура категорий, что увеличит конверсию, т.к. пользователи быстрее найдут нужный товар   \n",
       "4                              Изменить цвет фона главной страницы, чтобы увеличить вовлеченность пользователей   \n",
       "5                      Добавить страницу отзывов клиентов о магазине, что позволит увеличить количество заказов   \n",
       "6          Показать на главной странице баннеры с актуальными акциями и распродажами, чтобы увеличить конверсию   \n",
       "7              Добавить форму подписки на все основные страницы, чтобы собрать базу клиентов для email-рассылок   \n",
       "8                                                       Запустить акцию, дающую скидку на товар в день рождения   \n",
       "\n",
       "   Reach  Impact  Confidence  Efforts  \n",
       "0      3      10           8        6  \n",
       "1      2       5           4       10  \n",
       "2      8       3           7        3  \n",
       "3      8       3           3        8  \n",
       "4      3       1           1        1  \n",
       "5      3       2           2        3  \n",
       "6      5       3           8        3  \n",
       "7     10       7           8        5  \n",
       "8      1       9           9        5  "
      ]
     },
     "execution_count": 2,
     "metadata": {},
     "output_type": "execute_result"
    }
   ],
   "source": [
    "data = pd.read_csv('C:/Users/User/datasets/hypothesis.csv')\n",
    "pd.set_option('display.max_columns', None)\n",
    "pd.options.display.max_colwidth = 150 \n",
    "data"
   ]
  },
  {
   "cell_type": "code",
   "execution_count": 3,
   "metadata": {},
   "outputs": [],
   "source": [
    "data.columns = data.columns.str.lower()"
   ]
  },
  {
   "cell_type": "markdown",
   "metadata": {},
   "source": [
    "Данных достаточно для того, чтобы провести приоритизацию гипотез с помощью фреймворка **ICE**"
   ]
  },
  {
   "cell_type": "code",
   "execution_count": 4,
   "metadata": {},
   "outputs": [
    {
     "data": {
      "text/html": [
       "<div>\n",
       "<style scoped>\n",
       "    .dataframe tbody tr th:only-of-type {\n",
       "        vertical-align: middle;\n",
       "    }\n",
       "\n",
       "    .dataframe tbody tr th {\n",
       "        vertical-align: top;\n",
       "    }\n",
       "\n",
       "    .dataframe thead th {\n",
       "        text-align: right;\n",
       "    }\n",
       "</style>\n",
       "<table border=\"1\" class=\"dataframe\">\n",
       "  <thead>\n",
       "    <tr style=\"text-align: right;\">\n",
       "      <th></th>\n",
       "      <th>hypothesis</th>\n",
       "      <th>ICE</th>\n",
       "    </tr>\n",
       "  </thead>\n",
       "  <tbody>\n",
       "    <tr>\n",
       "      <td>8</td>\n",
       "      <td>Запустить акцию, дающую скидку на товар в день рождения</td>\n",
       "      <td>16.0</td>\n",
       "    </tr>\n",
       "    <tr>\n",
       "      <td>0</td>\n",
       "      <td>Добавить два новых канала привлечения трафика, что позволит привлекать на 30% больше пользователей</td>\n",
       "      <td>13.0</td>\n",
       "    </tr>\n",
       "    <tr>\n",
       "      <td>7</td>\n",
       "      <td>Добавить форму подписки на все основные страницы, чтобы собрать базу клиентов для email-рассылок</td>\n",
       "      <td>11.0</td>\n",
       "    </tr>\n",
       "    <tr>\n",
       "      <td>6</td>\n",
       "      <td>Показать на главной странице баннеры с актуальными акциями и распродажами, чтобы увеличить конверсию</td>\n",
       "      <td>8.0</td>\n",
       "    </tr>\n",
       "    <tr>\n",
       "      <td>2</td>\n",
       "      <td>Добавить блоки рекомендаций товаров на сайт интернет магазина, чтобы повысить конверсию и средний чек заказа</td>\n",
       "      <td>7.0</td>\n",
       "    </tr>\n",
       "    <tr>\n",
       "      <td>1</td>\n",
       "      <td>Запустить собственную службу доставки, что сократит срок доставки заказов</td>\n",
       "      <td>2.0</td>\n",
       "    </tr>\n",
       "    <tr>\n",
       "      <td>3</td>\n",
       "      <td>Изменить структура категорий, что увеличит конверсию, т.к. пользователи быстрее найдут нужный товар</td>\n",
       "      <td>1.0</td>\n",
       "    </tr>\n",
       "    <tr>\n",
       "      <td>4</td>\n",
       "      <td>Изменить цвет фона главной страницы, чтобы увеличить вовлеченность пользователей</td>\n",
       "      <td>1.0</td>\n",
       "    </tr>\n",
       "    <tr>\n",
       "      <td>5</td>\n",
       "      <td>Добавить страницу отзывов клиентов о магазине, что позволит увеличить количество заказов</td>\n",
       "      <td>1.0</td>\n",
       "    </tr>\n",
       "  </tbody>\n",
       "</table>\n",
       "</div>"
      ],
      "text/plain": [
       "                                                                                                     hypothesis  \\\n",
       "8                                                       Запустить акцию, дающую скидку на товар в день рождения   \n",
       "0            Добавить два новых канала привлечения трафика, что позволит привлекать на 30% больше пользователей   \n",
       "7              Добавить форму подписки на все основные страницы, чтобы собрать базу клиентов для email-рассылок   \n",
       "6          Показать на главной странице баннеры с актуальными акциями и распродажами, чтобы увеличить конверсию   \n",
       "2  Добавить блоки рекомендаций товаров на сайт интернет магазина, чтобы повысить конверсию и средний чек заказа   \n",
       "1                                     Запустить собственную службу доставки, что сократит срок доставки заказов   \n",
       "3           Изменить структура категорий, что увеличит конверсию, т.к. пользователи быстрее найдут нужный товар   \n",
       "4                              Изменить цвет фона главной страницы, чтобы увеличить вовлеченность пользователей   \n",
       "5                      Добавить страницу отзывов клиентов о магазине, что позволит увеличить количество заказов   \n",
       "\n",
       "    ICE  \n",
       "8  16.0  \n",
       "0  13.0  \n",
       "7  11.0  \n",
       "6   8.0  \n",
       "2   7.0  \n",
       "1   2.0  \n",
       "3   1.0  \n",
       "4   1.0  \n",
       "5   1.0  "
      ]
     },
     "execution_count": 4,
     "metadata": {},
     "output_type": "execute_result"
    }
   ],
   "source": [
    "data['ICE']= round((data['impact']*data['confidence'])/data['efforts'])\n",
    "data[['hypothesis', 'ICE']].sort_values(by = 'ICE', ascending = False)"
   ]
  },
  {
   "cell_type": "markdown",
   "metadata": {},
   "source": [
    "**Вывод** \n",
    "\n",
    "Наиболее перспективными гипотезами по **ICE** стали 8, 0, 7 "
   ]
  },
  {
   "cell_type": "markdown",
   "metadata": {},
   "source": [
    "Проведем приоритизацию с помощью **RICE**"
   ]
  },
  {
   "cell_type": "code",
   "execution_count": 5,
   "metadata": {
    "scrolled": true
   },
   "outputs": [
    {
     "data": {
      "text/html": [
       "<div>\n",
       "<style scoped>\n",
       "    .dataframe tbody tr th:only-of-type {\n",
       "        vertical-align: middle;\n",
       "    }\n",
       "\n",
       "    .dataframe tbody tr th {\n",
       "        vertical-align: top;\n",
       "    }\n",
       "\n",
       "    .dataframe thead th {\n",
       "        text-align: right;\n",
       "    }\n",
       "</style>\n",
       "<table border=\"1\" class=\"dataframe\">\n",
       "  <thead>\n",
       "    <tr style=\"text-align: right;\">\n",
       "      <th></th>\n",
       "      <th>hypothesis</th>\n",
       "      <th>RICE</th>\n",
       "    </tr>\n",
       "  </thead>\n",
       "  <tbody>\n",
       "    <tr>\n",
       "      <td>7</td>\n",
       "      <td>Добавить форму подписки на все основные страницы, чтобы собрать базу клиентов для email-рассылок</td>\n",
       "      <td>112.0</td>\n",
       "    </tr>\n",
       "    <tr>\n",
       "      <td>2</td>\n",
       "      <td>Добавить блоки рекомендаций товаров на сайт интернет магазина, чтобы повысить конверсию и средний чек заказа</td>\n",
       "      <td>56.0</td>\n",
       "    </tr>\n",
       "    <tr>\n",
       "      <td>0</td>\n",
       "      <td>Добавить два новых канала привлечения трафика, что позволит привлекать на 30% больше пользователей</td>\n",
       "      <td>40.0</td>\n",
       "    </tr>\n",
       "    <tr>\n",
       "      <td>6</td>\n",
       "      <td>Показать на главной странице баннеры с актуальными акциями и распродажами, чтобы увеличить конверсию</td>\n",
       "      <td>40.0</td>\n",
       "    </tr>\n",
       "    <tr>\n",
       "      <td>8</td>\n",
       "      <td>Запустить акцию, дающую скидку на товар в день рождения</td>\n",
       "      <td>16.0</td>\n",
       "    </tr>\n",
       "    <tr>\n",
       "      <td>3</td>\n",
       "      <td>Изменить структура категорий, что увеличит конверсию, т.к. пользователи быстрее найдут нужный товар</td>\n",
       "      <td>9.0</td>\n",
       "    </tr>\n",
       "    <tr>\n",
       "      <td>1</td>\n",
       "      <td>Запустить собственную службу доставки, что сократит срок доставки заказов</td>\n",
       "      <td>4.0</td>\n",
       "    </tr>\n",
       "    <tr>\n",
       "      <td>5</td>\n",
       "      <td>Добавить страницу отзывов клиентов о магазине, что позволит увеличить количество заказов</td>\n",
       "      <td>4.0</td>\n",
       "    </tr>\n",
       "    <tr>\n",
       "      <td>4</td>\n",
       "      <td>Изменить цвет фона главной страницы, чтобы увеличить вовлеченность пользователей</td>\n",
       "      <td>3.0</td>\n",
       "    </tr>\n",
       "  </tbody>\n",
       "</table>\n",
       "</div>"
      ],
      "text/plain": [
       "                                                                                                     hypothesis  \\\n",
       "7              Добавить форму подписки на все основные страницы, чтобы собрать базу клиентов для email-рассылок   \n",
       "2  Добавить блоки рекомендаций товаров на сайт интернет магазина, чтобы повысить конверсию и средний чек заказа   \n",
       "0            Добавить два новых канала привлечения трафика, что позволит привлекать на 30% больше пользователей   \n",
       "6          Показать на главной странице баннеры с актуальными акциями и распродажами, чтобы увеличить конверсию   \n",
       "8                                                       Запустить акцию, дающую скидку на товар в день рождения   \n",
       "3           Изменить структура категорий, что увеличит конверсию, т.к. пользователи быстрее найдут нужный товар   \n",
       "1                                     Запустить собственную службу доставки, что сократит срок доставки заказов   \n",
       "5                      Добавить страницу отзывов клиентов о магазине, что позволит увеличить количество заказов   \n",
       "4                              Изменить цвет фона главной страницы, чтобы увеличить вовлеченность пользователей   \n",
       "\n",
       "    RICE  \n",
       "7  112.0  \n",
       "2   56.0  \n",
       "0   40.0  \n",
       "6   40.0  \n",
       "8   16.0  \n",
       "3    9.0  \n",
       "1    4.0  \n",
       "5    4.0  \n",
       "4    3.0  "
      ]
     },
     "execution_count": 5,
     "metadata": {},
     "output_type": "execute_result"
    }
   ],
   "source": [
    "data['RICE'] = round((data['reach']*data['impact']*data['confidence'])/data['efforts']) \n",
    "data[['hypothesis', 'RICE' ]].sort_values(by = 'RICE', ascending = False)"
   ]
  },
  {
   "cell_type": "markdown",
   "metadata": {},
   "source": [
    "**Вывод**\n",
    "    \n",
    "В первом тесте лидирующими вариантами по увеличению выручки стали:\n",
    "    \n",
    "- Запустить акцию, дающую скидку на товар в день рождения\n",
    "    \n",
    "- Добавить два новых канала привлечения трафика, что позволит привлекать на 30% больше пользователей\n",
    "    \n",
    "- Добавить форму подписки на все основные страницы, чтобы собрать базу клиентов для email-рассылок \n",
    "\n",
    "Во втором тесте вариант с добавлением формы подписки на все страницы и с добавлением двух новых каналов привлечения трафика остались, но сюда же добавились следующие предложения: \n",
    "    \n",
    "- Добавить блоки рекомендаций товаров на сайт интернет магазина, чтобы повысить конверсию и средний чек заказа \n",
    "    \n",
    "- Показать на главной странице баннеры с актуальными акциями и распродажами, чтобы увеличить конверсию\n",
    "    "
   ]
  },
  {
   "cell_type": "markdown",
   "metadata": {},
   "source": [
    "## Подсчет кумулятивных метрик"
   ]
  },
  {
   "cell_type": "code",
   "execution_count": 6,
   "metadata": {},
   "outputs": [],
   "source": [
    "orders = pd.read_csv('C:/Users/User/datasets/orders.csv')\n",
    "visitors = pd.read_csv('C:/Users/User/datasets/visitors.csv')"
   ]
  },
  {
   "cell_type": "code",
   "execution_count": 7,
   "metadata": {},
   "outputs": [
    {
     "name": "stdout",
     "output_type": "stream",
     "text": [
      "<class 'pandas.core.frame.DataFrame'>\n",
      "RangeIndex: 1197 entries, 0 to 1196\n",
      "Data columns (total 5 columns):\n",
      "transactionId    1197 non-null int64\n",
      "visitorId        1197 non-null int64\n",
      "date             1197 non-null object\n",
      "revenue          1197 non-null int64\n",
      "group            1197 non-null object\n",
      "dtypes: int64(3), object(2)\n",
      "memory usage: 46.9+ KB\n"
     ]
    }
   ],
   "source": [
    "orders.info()"
   ]
  },
  {
   "cell_type": "code",
   "execution_count": 8,
   "metadata": {},
   "outputs": [
    {
     "name": "stdout",
     "output_type": "stream",
     "text": [
      "<class 'pandas.core.frame.DataFrame'>\n",
      "RangeIndex: 62 entries, 0 to 61\n",
      "Data columns (total 3 columns):\n",
      "date        62 non-null object\n",
      "group       62 non-null object\n",
      "visitors    62 non-null int64\n",
      "dtypes: int64(1), object(2)\n",
      "memory usage: 1.6+ KB\n"
     ]
    }
   ],
   "source": [
    "visitors.info()"
   ]
  },
  {
   "cell_type": "code",
   "execution_count": 9,
   "metadata": {},
   "outputs": [
    {
     "data": {
      "text/plain": [
       "0"
      ]
     },
     "metadata": {},
     "output_type": "display_data"
    },
    {
     "data": {
      "text/plain": [
       "0"
      ]
     },
     "metadata": {},
     "output_type": "display_data"
    }
   ],
   "source": [
    "display(orders.duplicated().sum())\n",
    "display(visitors.duplicated().sum())"
   ]
  },
  {
   "cell_type": "markdown",
   "metadata": {},
   "source": [
    "Поиск пользователей, которые попали в обе группы "
   ]
  },
  {
   "cell_type": "code",
   "execution_count": 10,
   "metadata": {},
   "outputs": [
    {
     "data": {
      "text/plain": [
       "array([   8300375,  199603092,  232979603,  237748145,  276558944,\n",
       "        351125977,  393266494,  457167155,  471551937,  477780734,\n",
       "        818047933,  963407295, 1230306981, 1294878855, 1316129916,\n",
       "       1333886533, 1404934699, 1602967004, 1614305549, 1648269707,\n",
       "       1668030113, 1738359350, 1801183820, 1959144690, 2038680547,\n",
       "       2044997962, 2378935119, 2458001652, 2579882178, 2587333274,\n",
       "       2600415354, 2654030115, 2686716486, 2712142231, 2716752286,\n",
       "       2780786433, 2927087541, 2949041841, 2954449915, 3062433592,\n",
       "       3202540741, 3234906277, 3656415546, 3717692402, 3766097110,\n",
       "       3803269165, 3891541246, 3941795274, 3951559397, 3957174400,\n",
       "       3963646447, 3972127743, 3984495233, 4069496402, 4120364173,\n",
       "       4186807279, 4256040402, 4266935830], dtype=int64)"
      ]
     },
     "execution_count": 10,
     "metadata": {},
     "output_type": "execute_result"
    }
   ],
   "source": [
    "np.intersect1d(orders.query('group == \"A\"')['visitorId'].unique(), orders.query('group== \"B\"')['visitorId'].unique())"
   ]
  },
  {
   "cell_type": "markdown",
   "metadata": {},
   "source": [
    "Искключим такие дубликаты из таблицы orders"
   ]
  },
  {
   "cell_type": "code",
   "execution_count": 11,
   "metadata": {},
   "outputs": [
    {
     "data": {
      "text/html": [
       "<div>\n",
       "<style scoped>\n",
       "    .dataframe tbody tr th:only-of-type {\n",
       "        vertical-align: middle;\n",
       "    }\n",
       "\n",
       "    .dataframe tbody tr th {\n",
       "        vertical-align: top;\n",
       "    }\n",
       "\n",
       "    .dataframe thead th {\n",
       "        text-align: right;\n",
       "    }\n",
       "</style>\n",
       "<table border=\"1\" class=\"dataframe\">\n",
       "  <thead>\n",
       "    <tr style=\"text-align: right;\">\n",
       "      <th></th>\n",
       "      <th>transactionId</th>\n",
       "      <th>visitorId</th>\n",
       "      <th>date</th>\n",
       "      <th>revenue</th>\n",
       "      <th>group</th>\n",
       "    </tr>\n",
       "  </thead>\n",
       "  <tbody>\n",
       "    <tr>\n",
       "      <td>0</td>\n",
       "      <td>3667963787</td>\n",
       "      <td>3312258926</td>\n",
       "      <td>2019-08-15</td>\n",
       "      <td>1650</td>\n",
       "      <td>B</td>\n",
       "    </tr>\n",
       "    <tr>\n",
       "      <td>1</td>\n",
       "      <td>2804400009</td>\n",
       "      <td>3642806036</td>\n",
       "      <td>2019-08-15</td>\n",
       "      <td>730</td>\n",
       "      <td>B</td>\n",
       "    </tr>\n",
       "    <tr>\n",
       "      <td>2</td>\n",
       "      <td>3797467345</td>\n",
       "      <td>1196621759</td>\n",
       "      <td>2019-08-15</td>\n",
       "      <td>9759</td>\n",
       "      <td>B</td>\n",
       "    </tr>\n",
       "    <tr>\n",
       "      <td>3</td>\n",
       "      <td>2282983706</td>\n",
       "      <td>2322279887</td>\n",
       "      <td>2019-08-15</td>\n",
       "      <td>2308</td>\n",
       "      <td>B</td>\n",
       "    </tr>\n",
       "    <tr>\n",
       "      <td>4</td>\n",
       "      <td>182168103</td>\n",
       "      <td>935554773</td>\n",
       "      <td>2019-08-15</td>\n",
       "      <td>2210</td>\n",
       "      <td>B</td>\n",
       "    </tr>\n",
       "  </tbody>\n",
       "</table>\n",
       "</div>"
      ],
      "text/plain": [
       "   transactionId   visitorId        date  revenue group\n",
       "0     3667963787  3312258926  2019-08-15     1650     B\n",
       "1     2804400009  3642806036  2019-08-15      730     B\n",
       "2     3797467345  1196621759  2019-08-15     9759     B\n",
       "3     2282983706  2322279887  2019-08-15     2308     B\n",
       "4      182168103   935554773  2019-08-15     2210     B"
      ]
     },
     "execution_count": 11,
     "metadata": {},
     "output_type": "execute_result"
    }
   ],
   "source": [
    "(orders [~ orders['visitorId'].isin(\n",
    "    np.intersect1d(orders.query('group == \"A\"')['visitorId'].unique(), orders.query('group== \"B\"')['visitorId'].unique()))]\n",
    "    .reset_index(drop = True).head())"
   ]
  },
  {
   "cell_type": "markdown",
   "metadata": {},
   "source": [
    "Изменим тип данных для даты в обоих датафреймах"
   ]
  },
  {
   "cell_type": "code",
   "execution_count": 12,
   "metadata": {},
   "outputs": [],
   "source": [
    "visitors['date'] = visitors['date'].map(\n",
    "    lambda x: dt.datetime.strptime(x, '%Y-%m-%d')\n",
    ")\n",
    "orders['date'] = orders['date'].map(\n",
    "    lambda x: dt.datetime.strptime(x, '%Y-%m-%d')\n",
    ")"
   ]
  },
  {
   "cell_type": "markdown",
   "metadata": {},
   "source": [
    "**Вывод**\n",
    "\n",
    "В данных нет полных дубликатов и пропусков. Были пользователи, которые попали в обе группы, но мы их исключили. Данные готовы для анализа\n"
   ]
  },
  {
   "cell_type": "markdown",
   "metadata": {},
   "source": [
    "### Построение графика кумулятивной выручки по группам"
   ]
  },
  {
   "cell_type": "code",
   "execution_count": 13,
   "metadata": {},
   "outputs": [
    {
     "name": "stdout",
     "output_type": "stream",
     "text": [
      "        date group  orders  buyers  revenue  visitors\n",
      "0 2019-08-01     A      24      20   148579       719\n",
      "1 2019-08-01     B      21      20   101217       713\n",
      "2 2019-08-02     A      44      38   242401      1338\n",
      "3 2019-08-02     B      45      43   266748      1294\n",
      "4 2019-08-03     A      68      62   354874      1845\n"
     ]
    }
   ],
   "source": [
    "# создаем массив уникальных пар значений дат и групп теста\n",
    "datesGroups = orders[['date','group']].drop_duplicates()\n",
    "\n",
    "# получаем агрегированные кумулятивные по дням данные о заказах \n",
    "ordersAggregated = datesGroups.apply(\n",
    "    lambda x: orders[np.logical_and(orders['date'] <= x['date'], orders['group'] == x['group'])].agg(\n",
    "        {'date' : 'max', 'group' : 'max', 'transactionId' : 'nunique', 'visitorId' : 'nunique', 'revenue' : 'sum'}\n",
    "    ), axis=1).sort_values(by=['date','group'])\n",
    "                                                                                                                                \n",
    "\n",
    "# получаем агрегированные кумулятивные по дням данные о посетителях интернет-магазина \n",
    "visitorsAggregated = datesGroups.apply(\n",
    "    lambda x: visitors[np.logical_and(visitors['date'] <= x['date'], visitors['group'] == x['group'])].agg(\n",
    "        {'date' : 'max', 'group' : 'max', 'visitors' : 'sum'}), axis=1).sort_values(by=['date','group'])\n",
    "\n",
    "# объединяем кумулятивные данные в одной таблице и присваиваем ее столбцам понятные названия\n",
    "cumulativeData = ordersAggregated.merge(visitorsAggregated, left_on=['date', 'group'], right_on=['date', 'group'])\n",
    "cumulativeData.columns = ['date', 'group', 'orders', 'buyers', 'revenue', 'visitors']\n",
    "\n",
    "print(cumulativeData.head(5)) "
   ]
  },
  {
   "cell_type": "markdown",
   "metadata": {},
   "source": [
    "Построим графики кумулятивной выручки по дням и группам A/B-тестирования"
   ]
  },
  {
   "cell_type": "code",
   "execution_count": 14,
   "metadata": {},
   "outputs": [
    {
     "data": {
      "image/png": "[encoded data removed]",
      "text/plain": [
       "<Figure size 432x288 with 1 Axes>"
      ]
     },
     "metadata": {
      "needs_background": "light"
     },
     "output_type": "display_data"
    }
   ],
   "source": [
    "from pandas.plotting import register_matplotlib_converters\n",
    "register_matplotlib_converters()\n",
    "\n",
    "# датафрейм с кумулятивным количеством заказов и кумулятивной выручкой по дням в группе А\n",
    "cumulativeRevenueA = cumulativeData[cumulativeData['group']=='A'][['date','revenue', 'orders']]\n",
    "\n",
    "# датафрейм с кумулятивным количеством заказов и кумулятивной выручкой по дням в группе B\n",
    "cumulativeRevenueB = cumulativeData[cumulativeData['group']=='B'][['date','revenue', 'orders']]\n",
    "\n",
    "# Строим график выручки группы А\n",
    "plt.plot(cumulativeRevenueA['date'], cumulativeRevenueA['revenue'], label='A')\n",
    "\n",
    "# Строим график выручки группы B\n",
    "plt.plot(cumulativeRevenueB['date'], cumulativeRevenueB['revenue'], label='B')\n",
    "\n",
    "plt.legend()\n",
    "plt.xlabel('время, дни')\n",
    "plt.ylabel('выручка, долл')\n",
    "plt.title('Кумулятивная выручка по дням и группам A/B-тестирования')\n",
    "plt.xticks(rotation = 45)\n",
    "plt.grid(True)\n",
    "\n",
    "plt.annotate('скачок', xy=('2019-08-17', 2800000), xytext=('2019-08-10', 3500000),\n",
    "            arrowprops=dict(facecolor='g'))\n",
    "plt.annotate('отрыв', xy=('2019-08-05', 800000), xytext=('2019-08-05', 2000000),\n",
    "            arrowprops=dict(facecolor='g')); "
   ]
  },
  {
   "cell_type": "markdown",
   "metadata": {},
   "source": [
    "**Вывод**\n",
    "\n",
    "Выручка почти равномерно увеличивается в течение всего теста. Это хороший знак. Но выручка по группе В растет заметно быстрее.  На графике виден один очень большой скачок, что может сигнализировать о ненормальном распределении с аномально большими значениями в группе. Рассмотрим распределение среднего чека."
   ]
  },
  {
   "cell_type": "markdown",
   "metadata": {},
   "source": [
    "### Построение графика кумулятивного среднего чека по группам"
   ]
  },
  {
   "cell_type": "code",
   "execution_count": 15,
   "metadata": {},
   "outputs": [
    {
     "data": {
      "image/png": "[encoded data removed]",
      "text/plain": [
       "<Figure size 432x288 with 1 Axes>"
      ]
     },
     "metadata": {
      "needs_background": "light"
     },
     "output_type": "display_data"
    }
   ],
   "source": [
    "plt.plot(cumulativeRevenueA['date'], cumulativeRevenueA['revenue']/cumulativeRevenueA['orders'], label='A')\n",
    "plt.plot(cumulativeRevenueB['date'], cumulativeRevenueB['revenue']/cumulativeRevenueB['orders'], label='B')\n",
    "plt.legend() \n",
    "plt.xlabel('время, дни')\n",
    "plt.ylabel('выручка, долл')\n",
    "plt.title('Кумулятивный средний чек по дням и группам A/B-тестирования')\n",
    "plt.xticks(rotation = 45)\n",
    "plt.grid(True)\n",
    "\n",
    "plt.annotate('скачок', xy=('2019-08-18', 7000), xytext=('2019-08-10', 8000),\n",
    "            arrowprops=dict(facecolor='g'))\n",
    "plt.annotate('отрыв', xy=('2019-08-02', 5700), xytext=('2019-08-05', 6500),\n",
    "            arrowprops=dict(facecolor='g'));"
   ]
  },
  {
   "cell_type": "markdown",
   "metadata": {},
   "source": [
    "**Вывод**\n",
    "\n",
    "Средний чек не установился. Опять же подтверждается предположение о том, что в группу B попали крупные заказы (резкий всплеск на графике). По группе А также наблюдается скачок, возможно, в обе группы попали аномально большие заказы."
   ]
  },
  {
   "cell_type": "markdown",
   "metadata": {},
   "source": [
    "### Построение графика относительного изменения кумулятивного среднего чека группы B к группе A"
   ]
  },
  {
   "cell_type": "code",
   "execution_count": 16,
   "metadata": {},
   "outputs": [
    {
     "data": {
      "image/png": "[encoded data removed]",
      "text/plain": [
       "<Figure size 432x288 with 1 Axes>"
      ]
     },
     "metadata": {
      "needs_background": "light"
     },
     "output_type": "display_data"
    }
   ],
   "source": [
    "# собираем данные в одном датафрейме\n",
    "mergedCumulativeRevenue = cumulativeRevenueA.merge(\n",
    "    cumulativeRevenueB, left_on='date', right_on='date', how='left', suffixes=['A', 'B']\n",
    ")\n",
    "\n",
    "# cтроим отношение средних чеков\n",
    "plt.plot(\n",
    "    mergedCumulativeRevenue['date'], \n",
    "    (mergedCumulativeRevenue['revenueB']/mergedCumulativeRevenue['ordersB'])/(mergedCumulativeRevenue['revenueA']/mergedCumulativeRevenue['ordersA'])-1\n",
    ")\n",
    "\n",
    "# добавляем ось X\n",
    "plt.axhline(y=0, color='black', linestyle='--')\n",
    "plt.xlabel('время, дни')\n",
    "plt.ylabel('изменение')\n",
    "plt.title('Относительное изменение кумулятивного среднего чека группы B к группе A')\n",
    "plt.xticks(rotation = 45)\n",
    "plt.grid(True);"
   ]
  },
  {
   "cell_type": "markdown",
   "metadata": {},
   "source": [
    "**Вывод**\n",
    "\n",
    "График очень сильно скачет, что лишний раз свидетельствует о крупных заказах и выбросах."
   ]
  },
  {
   "cell_type": "markdown",
   "metadata": {},
   "source": [
    "### Построение графика кумулятивной конверсии по группам"
   ]
  },
  {
   "cell_type": "code",
   "execution_count": 17,
   "metadata": {},
   "outputs": [
    {
     "data": {
      "image/png": "[encoded data removed]",
      "text/plain": [
       "<Figure size 432x288 with 1 Axes>"
      ]
     },
     "metadata": {
      "needs_background": "light"
     },
     "output_type": "display_data"
    }
   ],
   "source": [
    "# считаем кумулятивную конверсию\n",
    "cumulativeData['conversion'] = cumulativeData['orders']/cumulativeData['visitors']\n",
    "\n",
    "# отделяем данные по группе A\n",
    "cumulativeDataA = cumulativeData[cumulativeData['group']=='A']\n",
    "\n",
    "# отделяем данные по группе B\n",
    "cumulativeDataB = cumulativeData[cumulativeData['group']=='B']\n",
    "\n",
    "# строим графики\n",
    "plt.plot(cumulativeDataA['date'], cumulativeDataA['conversion'], label='A')\n",
    "plt.plot(cumulativeDataB['date'], cumulativeDataB['conversion'], label='B')\n",
    "plt.legend()\n",
    "plt.xlabel('время, дни')\n",
    "plt.ylabel('уровень конверсии')\n",
    "plt.title('Кумулятивная конверсия по группам')\n",
    "plt.xticks(rotation = 45)\n",
    "plt.grid(True)\n",
    "\n",
    "plt.axis([cumulativeDataB['date'].min(), cumulativeDataB['date'].max(), cumulativeData['conversion'].min(), cumulativeData['conversion'].max()]) \n",
    "plt.show()"
   ]
  },
  {
   "cell_type": "markdown",
   "metadata": {},
   "source": [
    "**Вывод** \n",
    "\n",
    "В начале теста сегмент А имел большую конверсию, но позже она резко упала, а по сегменту В резко выросла. Поскольку масштаб увеличен, кажется, что колебания продолжаются, но на самом деле конверсия установилась около совего среднего значения. А разница между конверсиями по группам меньше 1%. "
   ]
  },
  {
   "cell_type": "markdown",
   "metadata": {},
   "source": [
    "### Построение  графика относительного изменения кумулятивной конверсии группы B к группе A"
   ]
  },
  {
   "cell_type": "code",
   "execution_count": 18,
   "metadata": {},
   "outputs": [
    {
     "data": {
      "image/png": "[encoded data removed]",
      "text/plain": [
       "<Figure size 432x288 with 1 Axes>"
      ]
     },
     "metadata": {
      "needs_background": "light"
     },
     "output_type": "display_data"
    }
   ],
   "source": [
    "mergedCumulativeConversions = cumulativeDataA[['date','conversion']].merge(\n",
    "    cumulativeDataB[['date','conversion']], left_on='date', right_on='date', how='left', suffixes=['A', 'B']\n",
    ")\n",
    "\n",
    "plt.plot(\n",
    "    mergedCumulativeConversions['date'], mergedCumulativeConversions['conversionB']/mergedCumulativeConversions['conversionA']-1, \n",
    "    label=\"Относительный прирост конверсии группы B относительно группы A\"\n",
    ")\n",
    "plt.xlabel('время, дни')\n",
    "plt.ylabel('изменение')\n",
    "plt.title('Изменение кумулятивной конверсии группы B к группе A')\n",
    "plt.xticks(rotation = 45)\n",
    "\n",
    "plt.axhline(y=0, color='black', linestyle='--')\n",
    "plt.axhline(y=0.14, color='grey', linestyle='--')\n",
    "plt.axis([\"2019-08-01\", '2019-08-31', -0.2, 0.3]) \n",
    "plt.grid(True)\n",
    "\n",
    "plt.show()"
   ]
  },
  {
   "cell_type": "markdown",
   "metadata": {},
   "source": [
    "**Вывод**\n",
    "\n",
    "В начале теста мы наблюдаем два резких скачка. Сначала конверсия по группе В была меньше, но быстро росла, позже она резко упала и после этого вновь выросла. В среднем прирост составил 14% относительно группы А. Пока еще рано делать выводы, нам необходимо проанализировать есть ли среди значений аномалии.  "
   ]
  },
  {
   "cell_type": "markdown",
   "metadata": {},
   "source": [
    "## Анализ выбросов и всплесков"
   ]
  },
  {
   "cell_type": "markdown",
   "metadata": {},
   "source": [
    "### Построение точечного графика количества заказов по пользователям"
   ]
  },
  {
   "cell_type": "code",
   "execution_count": 19,
   "metadata": {},
   "outputs": [
    {
     "data": {
      "image/png": "[encoded data removed]",
      "text/plain": [
       "<Figure size 432x288 with 1 Axes>"
      ]
     },
     "metadata": {
      "needs_background": "light"
     },
     "output_type": "display_data"
    }
   ],
   "source": [
    "ordersByUsers = (\n",
    "    orders.groupby('visitorId', as_index=False)\n",
    "    .agg({'transactionId': pd.Series.nunique})\n",
    ")\n",
    "ordersByUsers.columns = ['visitorId', 'transactions']\n",
    "\n",
    "\n",
    "x_values = pd.Series(range(0, len(ordersByUsers)))\n",
    "plt.scatter (x_values, ordersByUsers['transactions'])\n",
    "plt.title('Количество заказов по пользователям');"
   ]
  },
  {
   "cell_type": "markdown",
   "metadata": {},
   "source": [
    "**Вывод**\n",
    "\n",
    "Выводы подтверждаются: на графике есть аномальные значения. Сейчас необходимо определить, 2-3 заказа это много или нормально. "
   ]
  },
  {
   "cell_type": "markdown",
   "metadata": {},
   "source": [
    "### Подсчет 95-й и 99-й перцентили количества заказов на пользователя."
   ]
  },
  {
   "cell_type": "code",
   "execution_count": 20,
   "metadata": {},
   "outputs": [
    {
     "name": "stdout",
     "output_type": "stream",
     "text": [
      "[2. 4.]\n"
     ]
    }
   ],
   "source": [
    "print(np.percentile(ordersByUsers['transactions'], [95, 99]))"
   ]
  },
  {
   "cell_type": "markdown",
   "metadata": {},
   "source": [
    "**Вывод** \n",
    "\n",
    "Не более 5% пользователейсовершали больше 2-х заказов и не более 1% больше 4-х."
   ]
  },
  {
   "cell_type": "markdown",
   "metadata": {},
   "source": [
    "### Построение точечного графика стоимостей заказов. "
   ]
  },
  {
   "cell_type": "code",
   "execution_count": 21,
   "metadata": {},
   "outputs": [
    {
     "data": {
      "image/png": "[encoded data removed]",
      "text/plain": [
       "<Figure size 432x288 with 1 Axes>"
      ]
     },
     "metadata": {
      "needs_background": "light"
     },
     "output_type": "display_data"
    }
   ],
   "source": [
    "x_values = pd.Series(range(0, len(orders['revenue']))) \n",
    "plt.scatter(x_values, orders['revenue'])\n",
    "plt.title('График стоимостей заказов'); "
   ]
  },
  {
   "cell_type": "markdown",
   "metadata": {},
   "source": [
    "**Вывод** \n",
    "\n",
    "Опять же на графике мы можем наблюдать выбросы. Основная доля заказов не больше 80 тыс долл."
   ]
  },
  {
   "cell_type": "markdown",
   "metadata": {},
   "source": [
    "### Подсчет 95-й и 99-й перцентили стоимости заказов. "
   ]
  },
  {
   "cell_type": "code",
   "execution_count": 22,
   "metadata": {},
   "outputs": [
    {
     "name": "stdout",
     "output_type": "stream",
     "text": [
      "[28000.  58233.2]\n"
     ]
    }
   ],
   "source": [
    "print(np.percentile(orders['revenue'], [95, 99]))"
   ]
  },
  {
   "cell_type": "markdown",
   "metadata": {},
   "source": [
    "**Вывод** \n",
    "\n",
    "Не более чем у 5% заказов чек больше 28 тыс долл. И не более 1% заказов на сумму 58 тыс долл и более."
   ]
  },
  {
   "cell_type": "markdown",
   "metadata": {},
   "source": [
    "## Подсчет статистической значимости "
   ]
  },
  {
   "cell_type": "markdown",
   "metadata": {},
   "source": [
    "### Статистическая значимость различий в конверсии между группами по «сырым» данным"
   ]
  },
  {
   "cell_type": "markdown",
   "metadata": {},
   "source": [
    "<div class=\"alert alert-block alert-info\">\n",
    "\n",
    "Нулевая гипотеза: Нет статистически значимых различий в среднем чеке между группами.\n",
    "    \n",
    "Альтернативная гипотеза: Есть статистически значимые различия в среднем чеке между группами.\n",
    "    \n",
    "</div>"
   ]
  },
  {
   "cell_type": "markdown",
   "metadata": {},
   "source": [
    "Подготовка данных для расчета "
   ]
  },
  {
   "cell_type": "code",
   "execution_count": 23,
   "metadata": {
    "scrolled": false
   },
   "outputs": [
    {
     "name": "stdout",
     "output_type": "stream",
     "text": [
      "        date  ordersPerDateA  revenuePerDateA  ordersPerDateB  \\\n",
      "0 2019-08-01              24           148579              21   \n",
      "1 2019-08-02              20            93822              24   \n",
      "2 2019-08-03              24           112473              16   \n",
      "3 2019-08-04              16            70825              17   \n",
      "4 2019-08-05              25           124218              23   \n",
      "\n",
      "   revenuePerDateB  ordersCummulativeA  revenueCummulativeA  \\\n",
      "0           101217                  24               148579   \n",
      "1           165531                  44               242401   \n",
      "2           114248                  68               354874   \n",
      "3           108571                  84               425699   \n",
      "4            92428                 109               549917   \n",
      "\n",
      "   ordersCummulativeB  revenueCummulativeB  visitorsPerDateA  \\\n",
      "0                  21               101217               719   \n",
      "1                  45               266748               619   \n",
      "2                  61               380996               507   \n",
      "3                  78               489567               717   \n",
      "4                 101               581995               756   \n",
      "\n",
      "   visitorsPerDateB  visitorsCummulativeA  visitorsCummulativeB  \n",
      "0               713                   719                   713  \n",
      "1               581                  1338                  1294  \n",
      "2               509                  1845                  1803  \n",
      "3               770                  2562                  2573  \n",
      "4               707                  3318                  3280  \n"
     ]
    }
   ],
   "source": [
    "visitorsADaily = visitors[visitors['group'] == 'A'][['date', 'visitors']]\n",
    "visitorsADaily.columns = ['date', 'visitorsPerDateA']\n",
    "\n",
    "visitorsACummulative = visitorsADaily.apply(\n",
    "    lambda x: visitorsADaily[visitorsADaily['date'] <= x['date']].agg(\n",
    "        {'date': 'max', 'visitorsPerDateA': 'sum'}\n",
    "    ),\n",
    "    axis=1,\n",
    ")\n",
    "visitorsACummulative.columns = ['date', 'visitorsCummulativeA']\n",
    "\n",
    "visitorsBDaily = visitors[visitors['group'] == 'B'][['date', 'visitors']]\n",
    "visitorsBDaily.columns = ['date', 'visitorsPerDateB']\n",
    "\n",
    "visitorsBCummulative = visitorsBDaily.apply(\n",
    "    lambda x: visitorsBDaily[visitorsBDaily['date'] <= x['date']].agg(\n",
    "        {'date': 'max', 'visitorsPerDateB': 'sum'}\n",
    "    ),\n",
    "    axis=1,\n",
    ")\n",
    "visitorsBCummulative.columns = ['date', 'visitorsCummulativeB']\n",
    "\n",
    "ordersADaily = (\n",
    "    orders[orders['group'] == 'A'][['date', 'transactionId', 'visitorId', 'revenue']]\n",
    "    .groupby('date', as_index=False)\n",
    "    .agg({'transactionId': pd.Series.nunique, 'revenue': 'sum'})\n",
    ")\n",
    "ordersADaily.columns = ['date', 'ordersPerDateA', 'revenuePerDateA']\n",
    "\n",
    "ordersACummulative = ordersADaily.apply(\n",
    "    lambda x: ordersADaily[ordersADaily['date'] <= x['date']].agg(\n",
    "        {'date': 'max', 'ordersPerDateA': 'sum', 'revenuePerDateA': 'sum'}\n",
    "    ),\n",
    "    axis=1,\n",
    ").sort_values(by=['date'])\n",
    "ordersACummulative.columns = [\n",
    "    'date',\n",
    "    'ordersCummulativeA',\n",
    "    'revenueCummulativeA',\n",
    "]\n",
    "\n",
    "ordersBDaily = (\n",
    "    orders[orders['group'] == 'B'][['date', 'transactionId', 'visitorId', 'revenue']]\n",
    "    .groupby('date', as_index=False)\n",
    "    .agg({'transactionId': pd.Series.nunique, 'revenue': 'sum'})\n",
    ")\n",
    "ordersBDaily.columns = ['date', 'ordersPerDateB', 'revenuePerDateB']\n",
    "\n",
    "ordersBCummulative = ordersBDaily.apply(\n",
    "    lambda x: ordersBDaily[ordersBDaily['date'] <= x['date']].agg(\n",
    "        {'date': 'max', 'ordersPerDateB': 'sum', 'revenuePerDateB': 'sum'}\n",
    "    ),\n",
    "    axis=1,\n",
    ").sort_values(by=['date'])\n",
    "ordersBCummulative.columns = [\n",
    "    'date',\n",
    "    'ordersCummulativeB',\n",
    "    'revenueCummulativeB',\n",
    "]\n",
    "\n",
    "data = (\n",
    "    ordersADaily.merge(\n",
    "        ordersBDaily, left_on='date', right_on='date', how='left'\n",
    "    )\n",
    "    .merge(ordersACummulative, left_on='date', right_on='date', how='left')\n",
    "    .merge(ordersBCummulative, left_on='date', right_on='date', how='left')\n",
    "    .merge(visitorsADaily, left_on='date', right_on='date', how='left')\n",
    "    .merge(visitorsBDaily, left_on='date', right_on='date', how='left')\n",
    "    .merge(visitorsACummulative, left_on='date', right_on='date', how='left')\n",
    "    .merge(visitorsBCummulative, left_on='date', right_on='date', how='left')\n",
    ")\n",
    "\n",
    "print(data.head(5)) "
   ]
  },
  {
   "cell_type": "code",
   "execution_count": 24,
   "metadata": {},
   "outputs": [
    {
     "name": "stdout",
     "output_type": "stream",
     "text": [
      "0.017\n",
      "0.138\n"
     ]
    }
   ],
   "source": [
    "ordersByUsersA = (\n",
    "    orders[orders['group'] == 'A']\n",
    "    .groupby('visitorId', as_index=False)\n",
    "    .agg({'transactionId': pd.Series.nunique})\n",
    ")\n",
    "ordersByUsersA.columns = ['visitorId', 'transactions']\n",
    "\n",
    "ordersByUsersB = (\n",
    "    orders[orders['group'] == 'B']\n",
    "    .groupby('visitorId', as_index=False)\n",
    "    .agg({'transactionId': pd.Series.nunique})\n",
    ")\n",
    "ordersByUsersB.columns = ['visitorId', 'transactions']\n",
    "\n",
    "sampleA = pd.concat(\n",
    "    [\n",
    "        ordersByUsersA['transactions'],\n",
    "        pd.Series(\n",
    "            0,\n",
    "            index=np.arange(\n",
    "                data['visitorsPerDateA'].sum() - len(ordersByUsersA['transactions'])\n",
    "            ),\n",
    "            name='transactions',\n",
    "        ),\n",
    "    ],\n",
    "    axis=0,\n",
    ")\n",
    "\n",
    "sampleB = pd.concat(\n",
    "    [\n",
    "        ordersByUsersB['transactions'],\n",
    "        pd.Series(\n",
    "            0,\n",
    "            index=np.arange(\n",
    "                data['visitorsPerDateB'].sum() - len(ordersByUsersB['transactions'])\n",
    "            ),\n",
    "            name='transactions',\n",
    "        ),\n",
    "    ],\n",
    "    axis=0,\n",
    ")\n",
    "\n",
    "print(\"{0:.3f}\".format(stats.mannwhitneyu(sampleA, sampleB, True, 'two-sided')[1]))\n",
    "\n",
    "print(\"{0:.3f}\".format(sampleB.mean() / sampleA.mean() - 1))"
   ]
  },
  {
   "cell_type": "markdown",
   "metadata": {},
   "source": [
    "**Вывод** \n",
    "\n",
    "Первое число — p-value = 0.017 меньше 0.05. Значит, нулевую гипотезу о том, что статистически значимых различий в конверсии между группами нет, отвергаем. Относительный прирост конверсии группы B к конверсии группы А равен 13.8% — второе число в выводе."
   ]
  },
  {
   "cell_type": "markdown",
   "metadata": {},
   "source": [
    "### Cтатистическая значимость различий в среднем чеке заказа между группами по «сырым» данным."
   ]
  },
  {
   "cell_type": "markdown",
   "metadata": {},
   "source": [
    "<div class=\"alert alert-block alert-info\">\n",
    "\n",
    "Нулевая гипотеза: Нет статистически значимых различий в среднем чеке между группами.\n",
    "    \n",
    "Альтернативная гипотеза: Есть статистически значимые различия в среднем чеке между группами.\n",
    "    \n",
    "</div>"
   ]
  },
  {
   "cell_type": "code",
   "execution_count": 25,
   "metadata": {},
   "outputs": [
    {
     "name": "stdout",
     "output_type": "stream",
     "text": [
      "0.729\n",
      "0.259\n"
     ]
    }
   ],
   "source": [
    "print('{0:.3f}'.format(stats.mannwhitneyu(orders[orders['group']=='A']['revenue'], orders[orders['group']=='B']['revenue'],True, 'two-sided')[1]))\n",
    "print('{0:.3f}'.format(orders[orders['group']=='B']['revenue'].mean()/orders[orders['group']=='A']['revenue'].mean()-1))"
   ]
  },
  {
   "cell_type": "markdown",
   "metadata": {},
   "source": [
    "**Вывод**\n",
    "\n",
    "P-value значительно больше 0.05. Значит, причин отвергать нулевую гипотезу и считать, что в среднем чеке есть различия, нет. При этом средний чек группы В больше на 25,9% среднего чека группы А."
   ]
  },
  {
   "cell_type": "markdown",
   "metadata": {},
   "source": [
    "### Cтатистическая значимость различий в конверсии между группами по «очищенным» данным."
   ]
  },
  {
   "cell_type": "markdown",
   "metadata": {},
   "source": [
    "Примем за аномальных пользователей тех, кто совершил от 3 заказов или совершил заказ дороже 28 000 рублей. Так мы уберём от 1% до 5%  пользователей с наибольшим числом заказов и 5% пользователей с дорогими заказами."
   ]
  },
  {
   "cell_type": "code",
   "execution_count": 26,
   "metadata": {},
   "outputs": [
    {
     "name": "stdout",
     "output_type": "stream",
     "text": [
      "1099    148427295\n",
      "18      199603092\n",
      "928     204675465\n",
      "23      237748145\n",
      "684     358944393\n",
      "Name: visitorId, dtype: int64\n",
      "(63,)\n"
     ]
    }
   ],
   "source": [
    "usersWithManyOrders = pd.concat(\n",
    "    [\n",
    "        ordersByUsersA[ordersByUsersA['transactions'] > 3]['visitorId'],\n",
    "        ordersByUsersB[ordersByUsersB['transactions'] > 3]['visitorId'],\n",
    "    ],\n",
    "    axis=0,\n",
    ")\n",
    "usersWithExpensiveOrders = orders[orders['revenue'] > 28000]['visitorId']\n",
    "abnormalUsers = (\n",
    "    pd.concat([usersWithManyOrders, usersWithExpensiveOrders], axis=0)\n",
    "    .drop_duplicates()\n",
    "    .sort_values()\n",
    ")\n",
    "print(abnormalUsers.head(5))\n",
    "print(abnormalUsers.shape) "
   ]
  },
  {
   "cell_type": "markdown",
   "metadata": {},
   "source": [
    "Всего аномальных значения 63. Далее узнаем как они повлияли на результат теста. Посчитаем статистическую значимость различий в конверсии между группами теста по очищенным данным. "
   ]
  },
  {
   "cell_type": "code",
   "execution_count": 27,
   "metadata": {},
   "outputs": [
    {
     "name": "stdout",
     "output_type": "stream",
     "text": [
      "0.018\n",
      "0.148\n"
     ]
    }
   ],
   "source": [
    "sampleAFiltered = pd.concat(\n",
    "    [\n",
    "        ordersByUsersA[\n",
    "            np.logical_not(ordersByUsersA['visitorId'].isin(abnormalUsers))\n",
    "        ]['transactions'],\n",
    "        pd.Series(\n",
    "            0,\n",
    "            index=np.arange(\n",
    "                data['visitorsPerDateA'].sum() - len(ordersByUsersA['transactions'])\n",
    "            ),\n",
    "            name='transactions',\n",
    "        ),\n",
    "    ],\n",
    "    axis=0,\n",
    ")\n",
    "\n",
    "sampleBFiltered = pd.concat(\n",
    "    [\n",
    "        ordersByUsersB[\n",
    "            np.logical_not(ordersByUsersB['visitorId'].isin(abnormalUsers))\n",
    "        ]['transactions'],\n",
    "        pd.Series(\n",
    "            0,\n",
    "            index=np.arange(\n",
    "                data['visitorsPerDateB'].sum() - len(ordersByUsersB['transactions'])\n",
    "            ),\n",
    "            name='transactions',\n",
    "        ),\n",
    "    ],\n",
    "    axis=0,\n",
    ") \n",
    "print('{0:.3f}'.format(stats.mannwhitneyu(sampleAFiltered, sampleBFiltered,True, 'two-sided')[1]))\n",
    "print('{0:.3f}'.format(sampleBFiltered.mean()/sampleAFiltered.mean()-1)) "
   ]
  },
  {
   "cell_type": "markdown",
   "metadata": {},
   "source": [
    "Результаты по конверсии практически не изменились. Конверсия увеличилась всего на 0,1%, что не повлияло на результат теста. Посмотрим будут ли изменения по среднему чеку."
   ]
  },
  {
   "cell_type": "markdown",
   "metadata": {},
   "source": [
    "### Cтатистическая значимость различий в среднем чеке заказа между группами по «очищенным» данным."
   ]
  },
  {
   "cell_type": "code",
   "execution_count": 28,
   "metadata": {},
   "outputs": [
    {
     "name": "stdout",
     "output_type": "stream",
     "text": [
      "0.977\n",
      "-0.017\n"
     ]
    }
   ],
   "source": [
    "print(\n",
    "    '{0:.3f}'.format(\n",
    "        stats.mannwhitneyu(\n",
    "            orders[\n",
    "                np.logical_and(\n",
    "                    orders['group'] == 'A',\n",
    "                    np.logical_not(orders['visitorId'].isin(abnormalUsers)),\n",
    "                )\n",
    "            ]['revenue'],\n",
    "            orders[\n",
    "                np.logical_and(\n",
    "                    orders['group'] == 'B',\n",
    "                    np.logical_not(orders['visitorId'].isin(abnormalUsers)),\n",
    "                )\n",
    "            ]['revenue'],True, 'two-sided'\n",
    "        )[1]\n",
    "    )\n",
    ")\n",
    "\n",
    "print(\n",
    "    \"{0:.3f}\".format(\n",
    "        orders[\n",
    "            np.logical_and(\n",
    "                orders['group'] == 'B',\n",
    "                np.logical_not(orders['visitorId'].isin(abnormalUsers)),\n",
    "            )\n",
    "        ]['revenue'].mean()\n",
    "        / orders[\n",
    "            np.logical_and(\n",
    "                orders['group'] == 'A',\n",
    "                np.logical_not(orders['visitorId'].isin(abnormalUsers)),\n",
    "            )\n",
    "        ]['revenue'].mean()\n",
    "        - 1\n",
    "    )\n",
    ") "
   ]
  },
  {
   "cell_type": "markdown",
   "metadata": {},
   "source": [
    "Результат теста по среднему чеку также не изменился, но по \"очищенным данным\" средний чек группы B стал ниже на 2%, чем средний чек группы А. До этого разница между группами была почти в 50%, что сигнализировало о неравномерном распределении данных между группами.  Мы очистили данные, но результат теста все-таки не изменился. Значит дело не в выбросах. "
   ]
  },
  {
   "cell_type": "markdown",
   "metadata": {},
   "source": [
    "##  Решение по результатам теста"
   ]
  },
  {
   "cell_type": "markdown",
   "metadata": {},
   "source": [
    "- Имеется статистически значимое различие по конверсии между группами как по «сырым», так и по данным после фильтрации аномалий.\n",
    "- Нет статистически значимого различия по среднему чеку между группами ни по «сырым», ни по данным после фильтрации аномалий.\n",
    "- График различия конверсии между группами сообщает, что результаты группы B лучше на 14% группы A, а также прослеживается тенденция к улучшению.\n",
    "- График различия среднего чека колеблется: он то и позволил нам найти аномалии. Но все же результаты группы B лучше результатов группы А почти на 30%. \n",
    " \n",
    " Исходя из результатов, можно остановить тест и признать его успешным. Группа В является победителем в этом исследовании. "
   ]
  },
  {
   "cell_type": "markdown",
   "metadata": {},
   "source": [
    "## Общий вывод "
   ]
  },
  {
   "cell_type": "markdown",
   "metadata": {},
   "source": [
    "- При подготовке данных мы обнаружили, что некоторые пользователи попали в обе группы, что есть не очень хорошо, поэтому мы их нашли и исключили для проведения качественного анализа; \n",
    "\n",
    "- В первом (ICE) тесте лидирующими вариантами по увеличению выручки стали:\n",
    "    \n",
    " - Запустить акцию, дающую скидку на товар в день рождения\n",
    "    \n",
    " - Добавить два новых канала привлечения трафика, что позволит привлекать на 30% больше пользователей\n",
    "    \n",
    " - Добавить форму подписки на все основные страницы, чтобы собрать базу клиентов для email-рассылок \n",
    "\n",
    "- Во втором тесте (RICE) вариант с добавлением формы подписки на все страницы и с добавлением двух новых каналов привлечения трафика остались, но сюда же добавились следующие предложения: \n",
    "    \n",
    " - Добавить блоки рекомендаций товаров на сайт интернет магазина, чтобы повысить конверсию и средний чек заказа \n",
    "    \n",
    " - Показать на главной странице баннеры с актуальными акциями и распродажами, чтобы увеличить конверсию\n",
    "\n",
    "- Проанализировав A/B-тест мы пришли к тому, что показатели группы В лучше, поэтому тест можно остановить и приступить к внедрению, которое поспособствует увеличению выручки \n",
    "    "
   ]
  }
 ],
 "metadata": {
  "ExecuteTimeLog": [
   {
    "duration": 783,
    "start_time": "2022-03-04T10:16:26.837Z"
   },
   {
    "duration": 14,
    "start_time": "2022-03-04T10:16:28.813Z"
   },
   {
    "duration": 9,
    "start_time": "2022-03-04T10:16:52.327Z"
   },
   {
    "duration": 20,
    "start_time": "2022-03-04T10:17:09.959Z"
   },
   {
    "duration": 515,
    "start_time": "2022-03-04T10:17:49.168Z"
   },
   {
    "duration": 261,
    "start_time": "2022-03-04T10:17:54.878Z"
   },
   {
    "duration": 267,
    "start_time": "2022-03-04T10:18:03.608Z"
   },
   {
    "duration": 4,
    "start_time": "2022-03-04T10:19:35.119Z"
   },
   {
    "duration": 22,
    "start_time": "2022-03-04T10:20:13.131Z"
   },
   {
    "duration": 4,
    "start_time": "2022-03-04T10:20:20.841Z"
   },
   {
    "duration": 6,
    "start_time": "2022-03-04T10:24:09.649Z"
   },
   {
    "duration": 11,
    "start_time": "2022-03-04T10:24:25.390Z"
   },
   {
    "duration": 515,
    "start_time": "2022-03-04T10:27:36.395Z"
   },
   {
    "duration": 13,
    "start_time": "2022-03-04T10:27:57.394Z"
   },
   {
    "duration": 35,
    "start_time": "2022-03-04T10:41:05.550Z"
   },
   {
    "duration": 18,
    "start_time": "2022-03-04T10:53:07.991Z"
   },
   {
    "duration": 8,
    "start_time": "2022-03-04T10:53:15.539Z"
   },
   {
    "duration": 8,
    "start_time": "2022-03-04T10:54:19.236Z"
   },
   {
    "duration": 1112,
    "start_time": "2022-03-04T10:56:21.539Z"
   },
   {
    "duration": 3,
    "start_time": "2022-03-04T10:56:47.065Z"
   },
   {
    "duration": 1264,
    "start_time": "2022-03-04T10:56:52.198Z"
   },
   {
    "duration": 1364,
    "start_time": "2022-03-04T10:57:21.302Z"
   },
   {
    "duration": 50,
    "start_time": "2022-03-04T10:57:53.449Z"
   },
   {
    "duration": 21,
    "start_time": "2022-03-04T11:00:40.110Z"
   },
   {
    "duration": 3,
    "start_time": "2022-03-04T12:34:03.359Z"
   },
   {
    "duration": 8104,
    "start_time": "2022-03-04T12:34:13.236Z"
   },
   {
    "duration": 4,
    "start_time": "2022-03-04T12:35:19.163Z"
   },
   {
    "duration": 1472,
    "start_time": "2022-03-04T12:35:28.238Z"
   },
   {
    "duration": 7738,
    "start_time": "2022-03-04T12:35:53.821Z"
   },
   {
    "duration": 4,
    "start_time": "2022-03-04T12:36:12.899Z"
   },
   {
    "duration": 27,
    "start_time": "2022-03-04T12:36:12.905Z"
   },
   {
    "duration": 4,
    "start_time": "2022-03-04T12:36:12.936Z"
   },
   {
    "duration": 19,
    "start_time": "2022-03-04T12:36:12.943Z"
   },
   {
    "duration": 21,
    "start_time": "2022-03-04T12:36:12.965Z"
   },
   {
    "duration": 70,
    "start_time": "2022-03-04T12:36:12.988Z"
   },
   {
    "duration": 12,
    "start_time": "2022-03-04T12:36:13.060Z"
   },
   {
    "duration": 12,
    "start_time": "2022-03-04T12:36:13.076Z"
   },
   {
    "duration": 24,
    "start_time": "2022-03-04T12:36:13.091Z"
   },
   {
    "duration": 7520,
    "start_time": "2022-03-04T12:36:22.552Z"
   },
   {
    "duration": 8973,
    "start_time": "2022-03-04T12:38:28.810Z"
   },
   {
    "duration": 1883,
    "start_time": "2022-03-04T12:39:27.764Z"
   },
   {
    "duration": 566,
    "start_time": "2022-03-04T12:40:51.874Z"
   },
   {
    "duration": 270,
    "start_time": "2022-03-04T12:41:39.843Z"
   },
   {
    "duration": 446,
    "start_time": "2022-03-04T12:41:59.946Z"
   },
   {
    "duration": 89,
    "start_time": "2022-03-04T12:42:18.081Z"
   },
   {
    "duration": 314,
    "start_time": "2022-03-04T12:42:33.121Z"
   },
   {
    "duration": 370,
    "start_time": "2022-03-04T12:48:31.262Z"
   },
   {
    "duration": 300,
    "start_time": "2022-03-04T12:48:36.847Z"
   },
   {
    "duration": 432,
    "start_time": "2022-03-04T13:00:02.000Z"
   },
   {
    "duration": 455,
    "start_time": "2022-03-04T13:00:05.543Z"
   },
   {
    "duration": 325,
    "start_time": "2022-03-04T13:05:38.829Z"
   },
   {
    "duration": 311,
    "start_time": "2022-03-04T13:06:01.701Z"
   },
   {
    "duration": 329,
    "start_time": "2022-03-04T13:13:24.096Z"
   },
   {
    "duration": 433,
    "start_time": "2022-03-04T13:23:37.558Z"
   },
   {
    "duration": 420,
    "start_time": "2022-03-04T13:24:36.173Z"
   },
   {
    "duration": 626,
    "start_time": "2022-03-04T13:24:45.651Z"
   },
   {
    "duration": 443,
    "start_time": "2022-03-04T13:24:54.130Z"
   },
   {
    "duration": 503,
    "start_time": "2022-03-04T13:25:54.384Z"
   },
   {
    "duration": 439,
    "start_time": "2022-03-04T13:26:03.449Z"
   },
   {
    "duration": 415,
    "start_time": "2022-03-04T13:26:11.559Z"
   },
   {
    "duration": 617,
    "start_time": "2022-03-05T08:59:57.848Z"
   },
   {
    "duration": 25,
    "start_time": "2022-03-05T08:59:58.467Z"
   },
   {
    "duration": 4,
    "start_time": "2022-03-05T08:59:58.495Z"
   },
   {
    "duration": 12,
    "start_time": "2022-03-05T08:59:58.501Z"
   },
   {
    "duration": 10,
    "start_time": "2022-03-05T08:59:58.515Z"
   },
   {
    "duration": 72,
    "start_time": "2022-03-05T08:59:58.527Z"
   },
   {
    "duration": 7,
    "start_time": "2022-03-05T08:59:58.601Z"
   },
   {
    "duration": 13,
    "start_time": "2022-03-05T08:59:58.611Z"
   },
   {
    "duration": 15,
    "start_time": "2022-03-05T08:59:58.626Z"
   },
   {
    "duration": 360,
    "start_time": "2022-03-05T08:59:58.643Z"
   },
   {
    "duration": 321,
    "start_time": "2022-03-05T08:59:59.004Z"
   },
   {
    "duration": 248,
    "start_time": "2022-03-05T08:59:59.327Z"
   },
   {
    "duration": 356,
    "start_time": "2022-03-05T08:59:59.577Z"
   },
   {
    "duration": 282,
    "start_time": "2022-03-05T08:59:59.935Z"
   },
   {
    "duration": 365,
    "start_time": "2022-03-05T09:00:00.219Z"
   },
   {
    "duration": 13,
    "start_time": "2022-03-05T09:01:29.216Z"
   },
   {
    "duration": 415,
    "start_time": "2022-03-05T09:03:10.551Z"
   },
   {
    "duration": 331,
    "start_time": "2022-03-05T09:03:36.575Z"
   },
   {
    "duration": 423,
    "start_time": "2022-03-05T09:04:52.560Z"
   },
   {
    "duration": 410,
    "start_time": "2022-03-05T09:04:57.556Z"
   },
   {
    "duration": 5719,
    "start_time": "2022-03-05T09:22:31.550Z"
   },
   {
    "duration": 4,
    "start_time": "2022-03-05T09:23:00.290Z"
   },
   {
    "duration": 316,
    "start_time": "2022-03-05T09:26:28.591Z"
   },
   {
    "duration": 316,
    "start_time": "2022-03-05T09:26:32.461Z"
   },
   {
    "duration": 67,
    "start_time": "2022-03-05T09:29:28.311Z"
   },
   {
    "duration": 5,
    "start_time": "2022-03-05T09:30:00.187Z"
   },
   {
    "duration": 321,
    "start_time": "2022-03-05T09:40:12.649Z"
   },
   {
    "duration": 399,
    "start_time": "2022-03-05T09:40:29.246Z"
   },
   {
    "duration": 297,
    "start_time": "2022-03-05T09:40:45.644Z"
   },
   {
    "duration": 320,
    "start_time": "2022-03-05T09:44:30.405Z"
   },
   {
    "duration": 414,
    "start_time": "2022-03-05T09:45:04.247Z"
   },
   {
    "duration": 153,
    "start_time": "2022-03-05T09:45:10.647Z"
   },
   {
    "duration": 9,
    "start_time": "2022-03-05T10:09:36.554Z"
   },
   {
    "duration": 10,
    "start_time": "2022-03-05T10:32:29.385Z"
   },
   {
    "duration": 14,
    "start_time": "2022-03-05T10:38:04.333Z"
   },
   {
    "duration": 21,
    "start_time": "2022-03-05T10:41:32.714Z"
   },
   {
    "duration": 67,
    "start_time": "2022-03-05T10:48:26.496Z"
   },
   {
    "duration": 353,
    "start_time": "2022-03-05T11:06:13.450Z"
   },
   {
    "duration": 366,
    "start_time": "2022-03-05T11:06:41.838Z"
   },
   {
    "duration": 321,
    "start_time": "2022-03-05T11:07:36.028Z"
   },
   {
    "duration": 337,
    "start_time": "2022-03-05T11:10:07.934Z"
   },
   {
    "duration": 374,
    "start_time": "2022-03-05T11:10:22.561Z"
   },
   {
    "duration": 4,
    "start_time": "2022-03-05T11:11:10.173Z"
   },
   {
    "duration": 19,
    "start_time": "2022-03-05T11:11:10.179Z"
   },
   {
    "duration": 3,
    "start_time": "2022-03-05T11:11:10.200Z"
   },
   {
    "duration": 11,
    "start_time": "2022-03-05T11:11:10.206Z"
   },
   {
    "duration": 10,
    "start_time": "2022-03-05T11:11:10.219Z"
   },
   {
    "duration": 58,
    "start_time": "2022-03-05T11:11:10.231Z"
   },
   {
    "duration": 9,
    "start_time": "2022-03-05T11:11:10.291Z"
   },
   {
    "duration": 7,
    "start_time": "2022-03-05T11:11:10.303Z"
   },
   {
    "duration": 23,
    "start_time": "2022-03-05T11:11:10.313Z"
   },
   {
    "duration": 447,
    "start_time": "2022-03-05T11:11:10.338Z"
   },
   {
    "duration": 248,
    "start_time": "2022-03-05T11:11:10.787Z"
   },
   {
    "duration": 235,
    "start_time": "2022-03-05T11:11:11.037Z"
   },
   {
    "duration": 342,
    "start_time": "2022-03-05T11:11:11.276Z"
   },
   {
    "duration": 233,
    "start_time": "2022-03-05T11:11:11.620Z"
   },
   {
    "duration": 353,
    "start_time": "2022-03-05T11:11:11.859Z"
   },
   {
    "duration": 471,
    "start_time": "2022-03-05T11:11:12.213Z"
   },
   {
    "duration": 4,
    "start_time": "2022-03-05T11:11:12.686Z"
   },
   {
    "duration": 318,
    "start_time": "2022-03-05T11:11:12.692Z"
   },
   {
    "duration": 4,
    "start_time": "2022-03-05T11:11:13.012Z"
   },
   {
    "duration": 306,
    "start_time": "2022-03-05T11:11:13.018Z"
   },
   {
    "duration": 153,
    "start_time": "2022-03-05T11:11:13.325Z"
   },
   {
    "duration": 10,
    "start_time": "2022-03-05T11:11:13.479Z"
   },
   {
    "duration": 12,
    "start_time": "2022-03-05T11:11:13.492Z"
   },
   {
    "duration": 18,
    "start_time": "2022-03-05T11:11:13.506Z"
   },
   {
    "duration": 21,
    "start_time": "2022-03-05T11:11:13.559Z"
   },
   {
    "duration": 1195,
    "start_time": "2022-03-05T21:21:43.707Z"
   },
   {
    "duration": 31,
    "start_time": "2022-03-05T21:21:44.904Z"
   },
   {
    "duration": 4,
    "start_time": "2022-03-05T21:21:44.938Z"
   },
   {
    "duration": 15,
    "start_time": "2022-03-05T21:21:44.944Z"
   },
   {
    "duration": 32,
    "start_time": "2022-03-05T21:21:44.961Z"
   },
   {
    "duration": 49,
    "start_time": "2022-03-05T21:21:44.995Z"
   },
   {
    "duration": 9,
    "start_time": "2022-03-05T21:21:45.046Z"
   },
   {
    "duration": 18,
    "start_time": "2022-03-05T21:21:45.058Z"
   },
   {
    "duration": 24,
    "start_time": "2022-03-05T21:21:45.087Z"
   },
   {
    "duration": 574,
    "start_time": "2022-03-05T21:21:45.113Z"
   },
   {
    "duration": 488,
    "start_time": "2022-03-05T21:21:45.689Z"
   },
   {
    "duration": 334,
    "start_time": "2022-03-05T21:21:46.180Z"
   },
   {
    "duration": 401,
    "start_time": "2022-03-05T21:21:46.516Z"
   },
   {
    "duration": 335,
    "start_time": "2022-03-05T21:21:46.919Z"
   },
   {
    "duration": 464,
    "start_time": "2022-03-05T21:21:47.256Z"
   },
   {
    "duration": 566,
    "start_time": "2022-03-05T21:21:47.723Z"
   },
   {
    "duration": 5,
    "start_time": "2022-03-05T21:21:48.291Z"
   },
   {
    "duration": 427,
    "start_time": "2022-03-05T21:21:48.298Z"
   },
   {
    "duration": 6,
    "start_time": "2022-03-05T21:21:48.728Z"
   },
   {
    "duration": 456,
    "start_time": "2022-03-05T21:21:48.737Z"
   },
   {
    "duration": 245,
    "start_time": "2022-03-05T21:21:49.196Z"
   },
   {
    "duration": 13,
    "start_time": "2022-03-05T21:21:49.444Z"
   },
   {
    "duration": 14,
    "start_time": "2022-03-05T21:21:49.486Z"
   },
   {
    "duration": 17,
    "start_time": "2022-03-05T21:21:49.502Z"
   },
   {
    "duration": 21,
    "start_time": "2022-03-05T21:21:49.521Z"
   },
   {
    "duration": 1088,
    "start_time": "2022-03-06T09:17:09.065Z"
   },
   {
    "duration": 33,
    "start_time": "2022-03-06T09:17:10.155Z"
   },
   {
    "duration": 5,
    "start_time": "2022-03-06T09:17:10.191Z"
   },
   {
    "duration": 17,
    "start_time": "2022-03-06T09:17:12.920Z"
   },
   {
    "duration": 14,
    "start_time": "2022-03-06T09:17:36.982Z"
   },
   {
    "duration": 17,
    "start_time": "2022-03-06T09:18:05.347Z"
   },
   {
    "duration": 6,
    "start_time": "2022-03-06T09:22:43.595Z"
   },
   {
    "duration": 6,
    "start_time": "2022-03-06T09:22:57.260Z"
   },
   {
    "duration": 5,
    "start_time": "2022-03-06T09:23:18.690Z"
   },
   {
    "duration": 5,
    "start_time": "2022-03-06T09:23:34.990Z"
   },
   {
    "duration": 5,
    "start_time": "2022-03-06T09:27:06.247Z"
   },
   {
    "duration": 5,
    "start_time": "2022-03-06T09:27:23.073Z"
   },
   {
    "duration": 84,
    "start_time": "2022-03-06T09:32:01.288Z"
   },
   {
    "duration": 84,
    "start_time": "2022-03-06T09:32:05.624Z"
   },
   {
    "duration": 494,
    "start_time": "2022-03-06T09:34:26.825Z"
   },
   {
    "duration": 3,
    "start_time": "2022-03-06T09:34:32.183Z"
   },
   {
    "duration": 68,
    "start_time": "2022-03-06T09:34:32.192Z"
   },
   {
    "duration": 7,
    "start_time": "2022-03-06T09:34:32.262Z"
   },
   {
    "duration": 15,
    "start_time": "2022-03-06T09:34:32.273Z"
   },
   {
    "duration": 16,
    "start_time": "2022-03-06T09:34:32.290Z"
   },
   {
    "duration": 65,
    "start_time": "2022-03-06T09:34:32.309Z"
   },
   {
    "duration": 9,
    "start_time": "2022-03-06T09:34:32.376Z"
   },
   {
    "duration": 10,
    "start_time": "2022-03-06T09:34:32.387Z"
   },
   {
    "duration": 21,
    "start_time": "2022-03-06T09:34:32.400Z"
   },
   {
    "duration": 72,
    "start_time": "2022-03-06T09:34:32.423Z"
   },
   {
    "duration": -206,
    "start_time": "2022-03-06T09:34:32.704Z"
   },
   {
    "duration": 231,
    "start_time": "2022-03-06T09:34:36.849Z"
   },
   {
    "duration": 4,
    "start_time": "2022-03-06T09:34:57.718Z"
   },
   {
    "duration": 20,
    "start_time": "2022-03-06T09:34:57.728Z"
   },
   {
    "duration": 4,
    "start_time": "2022-03-06T09:34:57.752Z"
   },
   {
    "duration": 17,
    "start_time": "2022-03-06T09:34:57.758Z"
   },
   {
    "duration": 19,
    "start_time": "2022-03-06T09:34:57.777Z"
   },
   {
    "duration": 59,
    "start_time": "2022-03-06T09:34:57.799Z"
   },
   {
    "duration": 8,
    "start_time": "2022-03-06T09:34:57.861Z"
   },
   {
    "duration": 9,
    "start_time": "2022-03-06T09:34:57.872Z"
   },
   {
    "duration": 21,
    "start_time": "2022-03-06T09:34:57.883Z"
   },
   {
    "duration": 591,
    "start_time": "2022-03-06T09:34:57.906Z"
   },
   {
    "duration": 306,
    "start_time": "2022-03-06T09:35:01.316Z"
   },
   {
    "duration": 402,
    "start_time": "2022-03-06T09:35:44.343Z"
   },
   {
    "duration": 296,
    "start_time": "2022-03-06T09:36:42.674Z"
   },
   {
    "duration": 390,
    "start_time": "2022-03-06T09:37:00.189Z"
   },
   {
    "duration": 305,
    "start_time": "2022-03-08T14:13:26.761Z"
   },
   {
    "duration": 1219,
    "start_time": "2022-03-08T14:13:30.845Z"
   },
   {
    "duration": 18,
    "start_time": "2022-03-08T14:13:33.481Z"
   },
   {
    "duration": 5,
    "start_time": "2022-03-08T14:13:59.658Z"
   },
   {
    "duration": 29,
    "start_time": "2022-03-08T14:14:18.565Z"
   },
   {
    "duration": 7558,
    "start_time": "2022-03-08T14:14:31.955Z"
   },
   {
    "duration": 5,
    "start_time": "2022-03-08T14:14:43.040Z"
   },
   {
    "duration": 19,
    "start_time": "2022-03-08T14:14:46.583Z"
   },
   {
    "duration": 16,
    "start_time": "2022-03-08T14:14:54.604Z"
   },
   {
    "duration": 14,
    "start_time": "2022-03-08T14:15:51.913Z"
   },
   {
    "duration": 13,
    "start_time": "2022-03-08T14:16:13.528Z"
   },
   {
    "duration": 15,
    "start_time": "2022-03-08T14:16:26.908Z"
   },
   {
    "duration": 253,
    "start_time": "2022-03-08T14:22:04.792Z"
   },
   {
    "duration": 4,
    "start_time": "2022-03-08T14:22:09.566Z"
   },
   {
    "duration": 21,
    "start_time": "2022-03-08T14:22:09.576Z"
   },
   {
    "duration": 8,
    "start_time": "2022-03-08T14:22:09.601Z"
   },
   {
    "duration": 21,
    "start_time": "2022-03-08T14:22:09.613Z"
   },
   {
    "duration": 29,
    "start_time": "2022-03-08T14:22:09.637Z"
   },
   {
    "duration": 69,
    "start_time": "2022-03-08T14:22:09.669Z"
   },
   {
    "duration": 10,
    "start_time": "2022-03-08T14:22:09.741Z"
   },
   {
    "duration": 16,
    "start_time": "2022-03-08T14:22:09.754Z"
   },
   {
    "duration": 11,
    "start_time": "2022-03-08T14:22:13.362Z"
   },
   {
    "duration": 9,
    "start_time": "2022-03-08T14:22:20.761Z"
   },
   {
    "duration": 9,
    "start_time": "2022-03-08T14:22:41.577Z"
   },
   {
    "duration": 48,
    "start_time": "2022-03-08T14:23:55.196Z"
   },
   {
    "duration": 53,
    "start_time": "2022-03-08T14:24:02.887Z"
   },
   {
    "duration": 6,
    "start_time": "2022-03-08T14:24:47.013Z"
   },
   {
    "duration": 6596,
    "start_time": "2022-03-08T14:34:04.931Z"
   },
   {
    "duration": 13,
    "start_time": "2022-03-08T14:34:34.572Z"
   },
   {
    "duration": 25,
    "start_time": "2022-03-08T14:37:29.486Z"
   },
   {
    "duration": 12,
    "start_time": "2022-03-08T14:37:59.809Z"
   },
   {
    "duration": 260,
    "start_time": "2022-03-08T14:38:11.132Z"
   },
   {
    "duration": 239,
    "start_time": "2022-03-08T14:38:50.861Z"
   },
   {
    "duration": 258,
    "start_time": "2022-03-08T14:39:23.636Z"
   },
   {
    "duration": 13,
    "start_time": "2022-03-08T14:39:30.972Z"
   },
   {
    "duration": 28,
    "start_time": "2022-03-08T14:40:42.576Z"
   },
   {
    "duration": 27,
    "start_time": "2022-03-08T14:42:31.230Z"
   },
   {
    "duration": 13,
    "start_time": "2022-03-08T14:43:27.067Z"
   },
   {
    "duration": 329,
    "start_time": "2022-03-08T14:43:36.423Z"
   },
   {
    "duration": 275,
    "start_time": "2022-03-08T14:44:02.671Z"
   },
   {
    "duration": 79,
    "start_time": "2022-03-08T14:44:13.057Z"
   },
   {
    "duration": 13,
    "start_time": "2022-03-08T14:44:21.841Z"
   },
   {
    "duration": 11,
    "start_time": "2022-03-08T14:44:30.391Z"
   },
   {
    "duration": 10,
    "start_time": "2022-03-08T14:44:42.777Z"
   },
   {
    "duration": 4,
    "start_time": "2022-03-08T14:45:14.261Z"
   },
   {
    "duration": 23,
    "start_time": "2022-03-08T14:45:14.270Z"
   },
   {
    "duration": 4,
    "start_time": "2022-03-08T14:45:14.296Z"
   },
   {
    "duration": 19,
    "start_time": "2022-03-08T14:45:14.303Z"
   },
   {
    "duration": 38,
    "start_time": "2022-03-08T14:45:14.326Z"
   },
   {
    "duration": 56,
    "start_time": "2022-03-08T14:45:14.366Z"
   },
   {
    "duration": 8,
    "start_time": "2022-03-08T14:45:14.424Z"
   },
   {
    "duration": 16,
    "start_time": "2022-03-08T14:45:14.435Z"
   },
   {
    "duration": 14,
    "start_time": "2022-03-08T14:45:14.454Z"
   },
   {
    "duration": 14,
    "start_time": "2022-03-08T14:45:14.471Z"
   },
   {
    "duration": 9,
    "start_time": "2022-03-08T14:45:17.785Z"
   },
   {
    "duration": 12,
    "start_time": "2022-03-08T14:45:32.176Z"
   },
   {
    "duration": 4,
    "start_time": "2022-03-08T14:45:38.531Z"
   },
   {
    "duration": 22,
    "start_time": "2022-03-08T14:45:38.541Z"
   },
   {
    "duration": 5,
    "start_time": "2022-03-08T14:45:38.565Z"
   },
   {
    "duration": 17,
    "start_time": "2022-03-08T14:45:38.576Z"
   },
   {
    "duration": 20,
    "start_time": "2022-03-08T14:45:38.595Z"
   },
   {
    "duration": 49,
    "start_time": "2022-03-08T14:45:38.651Z"
   },
   {
    "duration": 8,
    "start_time": "2022-03-08T14:45:38.703Z"
   },
   {
    "duration": 10,
    "start_time": "2022-03-08T14:45:38.714Z"
   },
   {
    "duration": 12,
    "start_time": "2022-03-08T14:45:38.728Z"
   },
   {
    "duration": 16,
    "start_time": "2022-03-08T14:45:38.743Z"
   },
   {
    "duration": 11,
    "start_time": "2022-03-08T14:45:38.762Z"
   },
   {
    "duration": 9,
    "start_time": "2022-03-08T14:45:38.777Z"
   },
   {
    "duration": 13,
    "start_time": "2022-03-08T14:45:38.789Z"
   },
   {
    "duration": 72,
    "start_time": "2022-03-08T14:45:38.804Z"
   },
   {
    "duration": 8,
    "start_time": "2022-03-08T14:45:38.879Z"
   },
   {
    "duration": 10,
    "start_time": "2022-03-08T14:45:44.844Z"
   },
   {
    "duration": 10,
    "start_time": "2022-03-08T14:45:46.792Z"
   },
   {
    "duration": 9,
    "start_time": "2022-03-08T14:46:31.502Z"
   },
   {
    "duration": 9,
    "start_time": "2022-03-08T14:46:33.715Z"
   },
   {
    "duration": 14,
    "start_time": "2022-03-08T14:54:41.847Z"
   },
   {
    "duration": 254,
    "start_time": "2022-03-08T14:54:58.081Z"
   },
   {
    "duration": 9,
    "start_time": "2022-03-08T14:55:04.587Z"
   },
   {
    "duration": 507,
    "start_time": "2022-03-08T15:09:08.923Z"
   },
   {
    "duration": 5,
    "start_time": "2022-03-08T15:09:14.639Z"
   },
   {
    "duration": 23,
    "start_time": "2022-03-08T15:09:14.648Z"
   },
   {
    "duration": 4,
    "start_time": "2022-03-08T15:09:14.674Z"
   },
   {
    "duration": 15,
    "start_time": "2022-03-08T15:09:14.681Z"
   },
   {
    "duration": 15,
    "start_time": "2022-03-08T15:09:14.699Z"
   },
   {
    "duration": 62,
    "start_time": "2022-03-08T15:09:14.756Z"
   },
   {
    "duration": 7,
    "start_time": "2022-03-08T15:09:14.820Z"
   },
   {
    "duration": 11,
    "start_time": "2022-03-08T15:09:14.829Z"
   },
   {
    "duration": 12,
    "start_time": "2022-03-08T15:09:14.843Z"
   },
   {
    "duration": 12,
    "start_time": "2022-03-08T15:09:14.857Z"
   },
   {
    "duration": 26,
    "start_time": "2022-03-08T15:09:14.872Z"
   },
   {
    "duration": 20,
    "start_time": "2022-03-08T15:09:14.901Z"
   },
   {
    "duration": 554,
    "start_time": "2022-03-08T15:09:14.952Z"
   },
   {
    "duration": 431,
    "start_time": "2022-03-08T15:09:17.873Z"
   },
   {
    "duration": 455,
    "start_time": "2022-03-08T15:09:27.160Z"
   },
   {
    "duration": 461,
    "start_time": "2022-03-08T15:09:32.543Z"
   },
   {
    "duration": 423,
    "start_time": "2022-03-08T15:09:56.948Z"
   },
   {
    "duration": 313,
    "start_time": "2022-03-08T15:11:28.638Z"
   },
   {
    "duration": 107,
    "start_time": "2022-03-08T15:11:49.912Z"
   },
   {
    "duration": 338,
    "start_time": "2022-03-08T15:12:00.320Z"
   },
   {
    "duration": 442,
    "start_time": "2022-03-08T15:14:05.624Z"
   },
   {
    "duration": 417,
    "start_time": "2022-03-08T15:14:34.606Z"
   },
   {
    "duration": 514,
    "start_time": "2022-03-08T15:17:27.799Z"
   },
   {
    "duration": 318,
    "start_time": "2022-03-08T15:19:11.218Z"
   },
   {
    "duration": 322,
    "start_time": "2022-03-08T15:19:45.300Z"
   },
   {
    "duration": 415,
    "start_time": "2022-03-08T15:21:58.281Z"
   },
   {
    "duration": 459,
    "start_time": "2022-03-08T15:22:39.602Z"
   },
   {
    "duration": 323,
    "start_time": "2022-03-08T15:22:57.088Z"
   },
   {
    "duration": 441,
    "start_time": "2022-03-08T15:23:06.043Z"
   },
   {
    "duration": 432,
    "start_time": "2022-03-08T15:23:12.932Z"
   },
   {
    "duration": 472,
    "start_time": "2022-03-08T15:23:21.810Z"
   },
   {
    "duration": 242,
    "start_time": "2022-03-08T15:46:06.979Z"
   },
   {
    "duration": 4,
    "start_time": "2022-03-08T15:46:13.270Z"
   },
   {
    "duration": 21,
    "start_time": "2022-03-08T15:46:13.281Z"
   },
   {
    "duration": 4,
    "start_time": "2022-03-08T15:46:13.304Z"
   },
   {
    "duration": 14,
    "start_time": "2022-03-08T15:46:13.312Z"
   },
   {
    "duration": 32,
    "start_time": "2022-03-08T15:46:13.329Z"
   },
   {
    "duration": 41,
    "start_time": "2022-03-08T15:46:13.364Z"
   },
   {
    "duration": 9,
    "start_time": "2022-03-08T15:46:13.408Z"
   },
   {
    "duration": 31,
    "start_time": "2022-03-08T15:46:13.420Z"
   },
   {
    "duration": 11,
    "start_time": "2022-03-08T15:46:13.456Z"
   },
   {
    "duration": 12,
    "start_time": "2022-03-08T15:46:13.470Z"
   },
   {
    "duration": 69,
    "start_time": "2022-03-08T15:46:13.484Z"
   },
   {
    "duration": 19,
    "start_time": "2022-03-08T15:46:13.555Z"
   },
   {
    "duration": 563,
    "start_time": "2022-03-08T15:46:13.577Z"
   },
   {
    "duration": 563,
    "start_time": "2022-03-08T15:46:14.142Z"
   },
   {
    "duration": 450,
    "start_time": "2022-03-08T15:46:14.709Z"
   },
   {
    "duration": 530,
    "start_time": "2022-03-08T15:46:15.162Z"
   },
   {
    "duration": 341,
    "start_time": "2022-03-08T15:46:15.695Z"
   },
   {
    "duration": 422,
    "start_time": "2022-03-08T15:46:16.039Z"
   },
   {
    "duration": 573,
    "start_time": "2022-03-08T15:46:16.464Z"
   },
   {
    "duration": 15,
    "start_time": "2022-03-08T15:46:17.040Z"
   },
   {
    "duration": 411,
    "start_time": "2022-03-08T15:46:17.058Z"
   },
   {
    "duration": 6,
    "start_time": "2022-03-08T15:46:17.472Z"
   },
   {
    "duration": 477,
    "start_time": "2022-03-08T15:46:17.481Z"
   },
   {
    "duration": 267,
    "start_time": "2022-03-08T15:46:17.961Z"
   },
   {
    "duration": 26,
    "start_time": "2022-03-08T15:46:18.230Z"
   },
   {
    "duration": 12,
    "start_time": "2022-03-08T15:46:18.259Z"
   },
   {
    "duration": 17,
    "start_time": "2022-03-08T15:46:18.274Z"
   },
   {
    "duration": 26,
    "start_time": "2022-03-08T15:47:18.295Z"
   },
   {
    "duration": 15,
    "start_time": "2022-03-08T15:48:08.427Z"
   },
   {
    "duration": 239,
    "start_time": "2022-03-08T15:48:32.148Z"
   },
   {
    "duration": 20,
    "start_time": "2022-03-08T15:50:41.699Z"
   },
   {
    "duration": 3,
    "start_time": "2022-03-08T16:04:48.782Z"
   },
   {
    "duration": 20,
    "start_time": "2022-03-08T16:04:48.791Z"
   },
   {
    "duration": 4,
    "start_time": "2022-03-08T16:04:48.814Z"
   },
   {
    "duration": 16,
    "start_time": "2022-03-08T16:04:48.821Z"
   },
   {
    "duration": 24,
    "start_time": "2022-03-08T16:04:48.840Z"
   },
   {
    "duration": 46,
    "start_time": "2022-03-08T16:04:48.866Z"
   },
   {
    "duration": 10,
    "start_time": "2022-03-08T16:04:48.916Z"
   },
   {
    "duration": 28,
    "start_time": "2022-03-08T16:04:48.930Z"
   },
   {
    "duration": 14,
    "start_time": "2022-03-08T16:04:48.962Z"
   },
   {
    "duration": 14,
    "start_time": "2022-03-08T16:04:48.979Z"
   },
   {
    "duration": 73,
    "start_time": "2022-03-08T16:04:48.996Z"
   },
   {
    "duration": 24,
    "start_time": "2022-03-08T16:04:49.071Z"
   },
   {
    "duration": 574,
    "start_time": "2022-03-08T16:04:49.097Z"
   },
   {
    "duration": 457,
    "start_time": "2022-03-08T16:04:49.673Z"
   },
   {
    "duration": 438,
    "start_time": "2022-03-08T16:04:50.136Z"
   },
   {
    "duration": 414,
    "start_time": "2022-03-08T16:04:50.576Z"
   },
   {
    "duration": 348,
    "start_time": "2022-03-08T16:04:50.993Z"
   },
   {
    "duration": 436,
    "start_time": "2022-03-08T16:04:51.351Z"
   },
   {
    "duration": 645,
    "start_time": "2022-03-08T16:04:51.789Z"
   },
   {
    "duration": 5,
    "start_time": "2022-03-08T16:04:52.437Z"
   },
   {
    "duration": 390,
    "start_time": "2022-03-08T16:04:52.452Z"
   },
   {
    "duration": 10,
    "start_time": "2022-03-08T16:04:52.845Z"
   },
   {
    "duration": 460,
    "start_time": "2022-03-08T16:04:52.858Z"
   },
   {
    "duration": 249,
    "start_time": "2022-03-08T16:04:53.321Z"
   },
   {
    "duration": 16,
    "start_time": "2022-03-08T16:04:53.572Z"
   },
   {
    "duration": 14,
    "start_time": "2022-03-08T16:04:53.590Z"
   },
   {
    "duration": 50,
    "start_time": "2022-03-08T16:04:53.606Z"
   },
   {
    "duration": 23,
    "start_time": "2022-03-08T16:04:53.659Z"
   }
  ],
  "kernelspec": {
   "display_name": "Python 3 (ipykernel)",
   "language": "python",
   "name": "python3"
  },
  "language_info": {
   "codemirror_mode": {
    "name": "ipython",
    "version": 3
   },
   "file_extension": ".py",
   "mimetype": "text/x-python",
   "name": "python",
   "nbconvert_exporter": "python",
   "pygments_lexer": "ipython3",
   "version": "3.7.8"
  },
  "toc": {
   "base_numbering": 1,
   "nav_menu": {},
   "number_sections": true,
   "sideBar": true,
   "skip_h1_title": true,
   "title_cell": "Содержание исследования",
   "title_sidebar": "Contents",
   "toc_cell": true,
   "toc_position": {
    "height": "calc(100% - 180px)",
    "left": "10px",
    "top": "150px",
    "width": "313.984px"
   },
   "toc_section_display": true,
   "toc_window_display": true
  }
 },
 "nbformat": 4,
 "nbformat_minor": 2
}
